{
 "cells": [
  {
   "cell_type": "code",
   "execution_count": null,
   "metadata": {},
   "outputs": [],
   "source": [
    "#export\n",
    "import glob\n",
    "import os\n",
    "import pickle\n",
    "import sys\n",
    "\n",
    "import pandas as pd\n",
    "from tqdm import tqdm as tqdm\n",
    "\n",
    "try:\n",
    "    extended\n",
    "except NameError:\n",
    "    sys.path.insert(0, 'rxrx1-utils')\n",
    "    import rxrx.io as rio\n",
    "    \n",
    "from basedir import ROOT, TRAIN, TEST, SAMPLE"
   ]
  },
  {
   "cell_type": "code",
   "execution_count": null,
   "metadata": {},
   "outputs": [],
   "source": [
    "#export\n",
    "def collect_records(basedir):\n",
    "    \"\"\"Globs the folder with images and constructs data frame with image paths\n",
    "    and additional meta-information.\n",
    "    \"\"\"\n",
    "    records = []\n",
    "    columns = ['experiment', 'plate', 'well', 'site', 'channel', 'filename']\n",
    "    for path in glob.glob(f'{basedir}/**/*.png', recursive=True):\n",
    "        exp, plate, filename = os.path.relpath(path, start=basedir).split('/')\n",
    "        basename, _ = os.path.splitext(filename)\n",
    "        well, site, channel = basename.split('_')\n",
    "        records.append([exp, int(plate[-1]), well, int(site[1:]), int(channel[1:]), path])\n",
    "    records = pd.DataFrame(records, columns=columns)\n",
    "    records['id_code'] = records[['experiment', 'plate', 'well']].apply(\n",
    "        lambda r: '_'.join(map(str, r)), axis='columns')\n",
    "    return records.drop(columns=['experiment', 'plate', 'well'])"
   ]
  },
  {
   "cell_type": "code",
   "execution_count": null,
   "metadata": {},
   "outputs": [],
   "source": [
    "#export\n",
    "def build_files_index():\n",
    "    trn_df = collect_records(TRAIN)\n",
    "    trn_df['dataset'] = 'train'\n",
    "    tst_df = collect_records(TEST)\n",
    "    tst_df['dataset'] = 'test'\n",
    "    df = pd.concat([trn_df, tst_df], axis='rows')\n",
    "    keys = ['id_code', 'site', 'dataset']\n",
    "    df.set_index(keys, inplace=True)\n",
    "    meta = rio.combine_metadata(base_path=ROOT)\n",
    "    meta = meta.reset_index().set_index(keys)\n",
    "    return df.join(meta).reset_index()"
   ]
  },
  {
   "cell_type": "code",
   "execution_count": null,
   "metadata": {},
   "outputs": [],
   "source": [
    "#export\n",
    "def generate_samples(files_df):\n",
    "    samples = []\n",
    "    for _, g in tqdm(files_df.groupby(['id_code', 'site', 'dataset'])):\n",
    "        g = g.sort_values(by='channel')\n",
    "        sirna = g.sirna.unique().item()\n",
    "        site = g.site.unique().item()\n",
    "        subset = g.dataset.unique().item()\n",
    "        label = 0 if pd.isna(sirna) else int(sirna)\n",
    "        images = list(zip(g.channel, g.filename))\n",
    "        sample = dict(images=images, sirna=label, site=site, subset=subset)\n",
    "        samples.append(sample)\n",
    "    return samples"
   ]
  },
  {
   "cell_type": "code",
   "execution_count": null,
   "metadata": {},
   "outputs": [],
   "source": [
    "#export\n",
    "dataset = generate_samples(build_files_index())"
   ]
  },
  {
   "cell_type": "code",
   "execution_count": null,
   "metadata": {},
   "outputs": [],
   "source": [
    "#export\n",
    "with open(ROOT/'tmp'/'meta.pickle', 'wb') as f:\n",
    "    pickle.dump(obj=dataset, file=f)"
   ]
  }
 ],
 "metadata": {
  "kernelspec": {
   "display_name": "fastai (cuda 10)",
   "language": "python",
   "name": "fastai"
  },
  "language_info": {
   "codemirror_mode": {
    "name": "ipython",
    "version": 3
   },
   "file_extension": ".py",
   "mimetype": "text/x-python",
   "name": "python",
   "nbconvert_exporter": "python",
   "pygments_lexer": "ipython3",
   "version": "3.7.3"
  },
  "toc": {
   "base_numbering": 1,
   "nav_menu": {},
   "number_sections": true,
   "sideBar": true,
   "skip_h1_title": false,
   "title_cell": "Table of Contents",
   "title_sidebar": "Contents",
   "toc_cell": false,
   "toc_position": {},
   "toc_section_display": true,
   "toc_window_display": false
  }
 },
 "nbformat": 4,
 "nbformat_minor": 2
}
