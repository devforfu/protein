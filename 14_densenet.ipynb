{
 "cells": [
  {
   "cell_type": "code",
   "execution_count": 2,
   "metadata": {},
   "outputs": [
    {
     "name": "stdout",
     "output_type": "stream",
     "text": [
      "Exported: 14_densenet.ipynb -> densenet.py\r\n",
      "1 notebook(s) exported into folder: .\r\n"
     ]
    }
   ],
   "source": [
    "!python -m jupytools export -nb \"14_densenet.ipynb\" -o ."
   ]
  },
  {
   "cell_type": "code",
   "execution_count": 1,
   "metadata": {},
   "outputs": [],
   "source": [
    "%reload_ext autoreload\n",
    "%autoreload 2"
   ]
  },
  {
   "cell_type": "code",
   "execution_count": 2,
   "metadata": {},
   "outputs": [],
   "source": [
    "# https://www.kaggle.com/tanlikesmath/rcic-fastai-starter"
   ]
  },
  {
   "cell_type": "markdown",
   "metadata": {},
   "source": [
    "## Imports "
   ]
  },
  {
   "cell_type": "code",
   "execution_count": 3,
   "metadata": {},
   "outputs": [],
   "source": [
    "#export\n",
    "from collections import OrderedDict\n",
    "import json\n",
    "import os\n",
    "from os.path import dirname, join\n",
    "from functools import reduce\n",
    "from pdb import set_trace\n",
    "\n",
    "import cv2 as cv\n",
    "import jupytools\n",
    "import jupytools.syspath\n",
    "import numpy as np\n",
    "import pandas as pd\n",
    "import PIL.Image\n",
    "import matplotlib.pyplot as plt\n",
    "\n",
    "from catalyst.utils import get_one_hot\n",
    "from imageio import imread\n",
    "import pretrainedmodels\n",
    "import torch\n",
    "import torch.nn as nn\n",
    "from torch.utils.data import Dataset, DataLoader\n",
    "from visdom import Visdom\n",
    "\n",
    "jupytools.syspath.add(join(dirname(os.getcwd()), 'protein_project'))\n",
    "jupytools.syspath.add('rxrx1-utils')\n",
    "if jupytools.is_notebook():\n",
    "    from tqdm import tqdm_notebook as tqdm\n",
    "else:\n",
    "    from tqdm import tqdm as tdqm\n",
    "    \n",
    "from basedir import ROOT, NUM_CLASSES\n",
    "from dataset import build_stats_index"
   ]
  },
  {
   "cell_type": "code",
   "execution_count": 4,
   "metadata": {},
   "outputs": [],
   "source": [
    "#export\n",
    "torch.set_default_tensor_type(torch.FloatTensor)"
   ]
  },
  {
   "cell_type": "markdown",
   "metadata": {},
   "source": [
    "## Dataset Reader"
   ]
  },
  {
   "cell_type": "code",
   "execution_count": 5,
   "metadata": {},
   "outputs": [],
   "source": [
    "#export\n",
    "from augmentation import JoinChannels, SwapChannels, Resize, ToFloat, Rescale\n",
    "from augmentation import VerticalFlip, HorizontalFlip, PixelStatsNorm, composer\n",
    "from augmentation import AugmentedImages, bernoulli"
   ]
  },
  {
   "cell_type": "code",
   "execution_count": 6,
   "metadata": {},
   "outputs": [],
   "source": [
    "#export\n",
    "default_open_fn = imread  # PIL.Image.open"
   ]
  },
  {
   "cell_type": "code",
   "execution_count": 7,
   "metadata": {},
   "outputs": [],
   "source": [
    "#export\n",
    "class RxRxImages(Dataset):\n",
    "    def __init__(self, meta_df, img_dir, site=1, channels=(1, 2, 3, 4, 5, 6), \n",
    "                 open_image=default_open_fn, n_classes=NUM_CLASSES, train=True):\n",
    "        \n",
    "        self.records = meta_df.to_records(index=False)\n",
    "        self.img_dir = img_dir\n",
    "        self.site = site\n",
    "        self.channels = channels\n",
    "        self.n = len(self.records)\n",
    "        self.open_image = open_image\n",
    "        self.n_classes = n_classes\n",
    "        self.train = train\n",
    "        \n",
    "    def _get_image_path(self, index, channel):\n",
    "        r = self.records[index]\n",
    "        exp, plate, well = r.experiment, r.plate, r.well\n",
    "        subdir = 'train' if self.train else 'test'\n",
    "        path = f'{self.img_dir}/{subdir}/{exp}/Plate{plate}/{well}_s{self.site}_w{channel}.png'\n",
    "        return path\n",
    "    \n",
    "    def __getitem__(self, index):\n",
    "        paths = [self._get_image_path(index, ch) for ch in self.channels]\n",
    "        images = [self.open_image(p) for p in paths]\n",
    "\n",
    "        try:\n",
    "            img = np.stack(images)\n",
    "        except (TypeError, ValueError) as e:\n",
    "            print(f'Warning: cannot concatenate images! {e.__class__.__name__}: {e}')\n",
    "            for filename, image in zip(paths, images):\n",
    "                print(f'\\tpath={filename}, size={image.size}')\n",
    "            index = (index + 1) % len(self)\n",
    "            print(f'Skipping instance {index} and trying another one...')\n",
    "            return self[index]\n",
    "        finally:\n",
    "            for image in images:\n",
    "                if hasattr(image, 'close'):\n",
    "                    image.close()\n",
    "            \n",
    "        img = img.astype(np.float32)\n",
    "        img = img.transpose(1, 2, 0)\n",
    "        r = self.records[index]\n",
    "        if self.train:\n",
    "            sirna = r.sirna\n",
    "            target = int(sirna)\n",
    "            onehot = get_one_hot(target, num_classes=self.n_classes)\n",
    "            return {'features': img, 'targets': target, \n",
    "                    'targets_one_hot': onehot, 'id_code': r.id_code,\n",
    "                    'site': self.site}\n",
    "        else:\n",
    "            id_code = r.id_code\n",
    "            return {'features': img, 'id_code': id_code, 'site': self.site}\n",
    "    \n",
    "    def __len__(self): \n",
    "        return self.n"
   ]
  },
  {
   "cell_type": "code",
   "execution_count": 8,
   "metadata": {},
   "outputs": [],
   "source": [
    "#export\n",
    "class TwoSiteImages(Dataset):\n",
    "    def __init__(self, ds1, ds2, swap=0.0):\n",
    "        assert len(ds1) == len(ds2)\n",
    "        self.ds1, self.ds2 = ds1, ds2\n",
    "        self.swap = swap\n",
    "        self.size = len(ds1)\n",
    "        \n",
    "    def __getitem__(self, index):\n",
    "        s1, s2 = self.ds1[index], self.ds2[index]\n",
    "        if self.swap and bernoulli(self.swap) == 1:\n",
    "            s1, s2 = s2, s1\n",
    "        return {'site1': s1, 'site2': s2}\n",
    "    \n",
    "    def __len__(self):\n",
    "        return self.size"
   ]
  },
  {
   "cell_type": "markdown",
   "metadata": {},
   "source": [
    "## Pipeline Preparation"
   ]
  },
  {
   "cell_type": "code",
   "execution_count": 9,
   "metadata": {},
   "outputs": [],
   "source": [
    "#export\n",
    "from split import StratifiedSplit\n",
    "splitter = StratifiedSplit()\n",
    "trn_df, val_df = splitter(pd.read_csv(ROOT/'train.csv')) \n",
    "tst_df = pd.read_csv(ROOT/'test.csv')\n",
    "stats = build_stats_index(ROOT/'pixel_stats.csv')"
   ]
  },
  {
   "cell_type": "code",
   "execution_count": 23,
   "metadata": {},
   "outputs": [],
   "source": [
    "#export\n",
    "sz = 512\n",
    "trn_ds = TwoSiteImages(\n",
    "    ds1=AugmentedImages(ds=RxRxImages(trn_df, ROOT, site=1), tr=composer([\n",
    "        HorizontalFlip(p=0.1),\n",
    "        VerticalFlip(p=0.1),\n",
    "        PixelStatsNorm(stats, channels_first=False),\n",
    "    ], resize=sz, rescale=False)),\n",
    "    ds2=AugmentedImages(ds=RxRxImages(trn_df, ROOT, site=2), tr=composer([\n",
    "        HorizontalFlip(p=0.1),\n",
    "        VerticalFlip(p=0.1),\n",
    "        PixelStatsNorm(stats, channels_first=False),\n",
    "    ], resize=sz, rescale=False))\n",
    ")\n",
    "val_ds = TwoSiteImages(\n",
    "    ds1=AugmentedImages(ds=RxRxImages(val_df, ROOT, site=1), tr=composer([\n",
    "        PixelStatsNorm(stats, channels_first=False)\n",
    "    ],resize=sz, rescale=False)),\n",
    "    ds2=AugmentedImages(ds=RxRxImages(val_df, ROOT, site=2), tr=composer([\n",
    "        PixelStatsNorm(stats, channels_first=False)\n",
    "    ],resize=sz, rescale=False))\n",
    ")\n",
    "tst_ds = TwoSiteImages(\n",
    "    ds1=AugmentedImages(ds=RxRxImages(tst_df, ROOT, site=1, train=False), tr=composer([\n",
    "        PixelStatsNorm(stats, channels_first=False)\n",
    "    ], resize=sz, rescale=False)),\n",
    "    ds2=AugmentedImages(ds=RxRxImages(tst_df, ROOT, site=2, train=False), tr=composer([\n",
    "        PixelStatsNorm(stats, channels_first=False)\n",
    "    ], resize=sz, rescale=False))\n",
    ")"
   ]
  },
  {
   "cell_type": "code",
   "execution_count": 11,
   "metadata": {},
   "outputs": [],
   "source": [
    "# failed = []\n",
    "# for i in tqdm(range(len(trn_ds))):\n",
    "#     try:\n",
    "#         trn_ds[i]\n",
    "#     except Exception:\n",
    "#         failed.append(i)\n",
    "#         print('Failed!', i)"
   ]
  },
  {
   "cell_type": "code",
   "execution_count": 12,
   "metadata": {},
   "outputs": [],
   "source": [
    "#export\n",
    "def new_loader(ds, bs, drop_last=False, shuffle=True, num_workers=12):\n",
    "    return DataLoader(ds, batch_size=bs, drop_last=drop_last, \n",
    "                      shuffle=shuffle, num_workers=num_workers)"
   ]
  },
  {
   "cell_type": "markdown",
   "metadata": {},
   "source": [
    "## Model"
   ]
  },
  {
   "cell_type": "code",
   "execution_count": 13,
   "metadata": {},
   "outputs": [],
   "source": [
    "#export\n",
    "def densenet(name='densenet121', n_classes=NUM_CLASSES):\n",
    "    model_fn = pretrainedmodels.__dict__[name]\n",
    "    model = model_fn(num_classes=1000, pretrained='imagenet')\n",
    "    new_conv = nn.Conv2d(6, 64, 7, 2, 3, bias=False)\n",
    "    conv0 = model.features.conv0.weight\n",
    "    with torch.no_grad():\n",
    "        new_conv.weight[:, :] = torch.stack([torch.mean(conv0, 1)]*6, dim=1)\n",
    "    model.features.conv0 = new_conv\n",
    "    return model"
   ]
  },
  {
   "cell_type": "code",
   "execution_count": 14,
   "metadata": {},
   "outputs": [],
   "source": [
    "#export\n",
    "from catalyst.contrib.modules import GlobalConcatPool2d\n",
    "class DenseNet_TwoSites(nn.Module):\n",
    "    def __init__(self, name, n_classes=NUM_CLASSES):\n",
    "        super().__init__()\n",
    "        \n",
    "        base = densenet(name=name, n_classes=n_classes)\n",
    "        feat_dim = base.last_linear.in_features\n",
    "        \n",
    "        self.base = base \n",
    "        self.pool = GlobalConcatPool2d()\n",
    "        self.head = nn.Sequential(\n",
    "            nn.Linear(feat_dim * 2, feat_dim * 2),\n",
    "            nn.BatchNorm1d(feat_dim * 2),\n",
    "            nn.ReLU(inplace=True),\n",
    "            nn.Dropout(0.25),\n",
    "            nn.Linear(feat_dim * 2, n_classes)\n",
    "        )\n",
    "        \n",
    "    def forward(self, s1, s2):\n",
    "        f1 = self.base.features(s1)\n",
    "        f2 = self.base.features(s2)\n",
    "        f_merged = self.pool(f1 + f2)\n",
    "        out = self.head(f_merged.squeeze())\n",
    "        return out"
   ]
  },
  {
   "cell_type": "code",
   "execution_count": 15,
   "metadata": {},
   "outputs": [],
   "source": [
    "#export\n",
    "def freeze_all(model):\n",
    "    for name, child in model.named_children():\n",
    "        print('Freezing layer:', name)\n",
    "        for param in child.parameters():\n",
    "            param.requires_grad = False"
   ]
  },
  {
   "cell_type": "code",
   "execution_count": 16,
   "metadata": {},
   "outputs": [],
   "source": [
    "#export\n",
    "def unfreeze_all(model):\n",
    "    for name, child in model.named_children():\n",
    "        print('Un-freezing layer:', name)\n",
    "        for param in child.parameters():\n",
    "            param.requires_grad = True"
   ]
  },
  {
   "cell_type": "code",
   "execution_count": 17,
   "metadata": {},
   "outputs": [],
   "source": [
    "#export\n",
    "def unfreeze_layers(model, names):\n",
    "    for name, child in model.named_children():\n",
    "        if name not in names:\n",
    "            continue\n",
    "        print('Un-freezing layer:', name)\n",
    "        for param in child.parameters():\n",
    "            param.requires_grad = True"
   ]
  },
  {
   "cell_type": "markdown",
   "metadata": {},
   "source": [
    "## Train"
   ]
  },
  {
   "cell_type": "code",
   "execution_count": null,
   "metadata": {},
   "outputs": [],
   "source": [
    "#export\n",
    "model = DenseNet_TwoSites('densenet121')\n",
    "freeze_all(model)"
   ]
  },
  {
   "cell_type": "code",
   "execution_count": null,
   "metadata": {},
   "outputs": [],
   "source": [
    "#export\n",
    "from visdom import Visdom"
   ]
  },
  {
   "cell_type": "code",
   "execution_count": null,
   "metadata": {},
   "outputs": [],
   "source": [
    "#export\n",
    "class RollingLoss:\n",
    "    def __init__(self, smooth=0.98):\n",
    "        self.smooth = smooth\n",
    "        self.prev = 0\n",
    "    def __call__(self, curr, batch_no):\n",
    "        a = self.smooth\n",
    "        avg_loss = a*self.prev + (1 - a)*curr\n",
    "        debias_loss = avg_loss/(1 - a**batch_no)\n",
    "        self.prev = avg_loss\n",
    "        return debias_loss"
   ]
  },
  {
   "cell_type": "code",
   "execution_count": null,
   "metadata": {},
   "outputs": [],
   "source": [
    "#export\n",
    "def create_loaders(batch_size):\n",
    "    trn_dl = new_loader(trn_ds, bs=batch_size, shuffle=True)\n",
    "    val_dl = new_loader(val_ds, bs=batch_size, shuffle=False)\n",
    "    return OrderedDict([('train', trn_dl), ('valid', val_dl)])"
   ]
  },
  {
   "cell_type": "code",
   "execution_count": null,
   "metadata": {},
   "outputs": [],
   "source": [
    "#export\n",
    "loss_fn = nn.CrossEntropyLoss()\n",
    "device = torch.device('cuda:1')"
   ]
  },
  {
   "cell_type": "code",
   "execution_count": null,
   "metadata": {},
   "outputs": [],
   "source": [
    "#export\n",
    "epochs = 1000\n",
    "patience = 500\n",
    "\n",
    "opt = torch.optim.AdamW(model.parameters(), lr=3e-4)\n",
    "model = model.to(device)\n",
    "rolling_loss = dict(train=RollingLoss(), valid=RollingLoss())\n",
    "steps = dict(train=0, valid=0)\n",
    "\n",
    "trials = 0\n",
    "best_metric = -np.inf\n",
    "history = []\n",
    "stop = False\n",
    "\n",
    "vis = Visdom(server='0.0.0.0', port=9090,\n",
    "             username=os.environ['VISDOM_USERNAME'],\n",
    "             password=os.environ['VISDOM_PASSWORD'])\n",
    "\n",
    "loaders = create_loaders(batch_size=7)\n",
    "\n",
    "sched = torch.optim.lr_scheduler.CosineAnnealingWarmRestarts(\n",
    "    opt, T_0=len(loaders['train']), T_mult=2, eta_min=1e-5\n",
    ")\n",
    "\n",
    "for epoch in range(1, epochs+1):\n",
    "    print(f'Epoch [{epoch}/{epochs}]')\n",
    "    \n",
    "    if epoch == 1:\n",
    "        unfreeze_layers(model, ['head'])\n",
    "    elif epoch == 7:\n",
    "        unfreeze_all(model)\n",
    "    elif epoch == 15:\n",
    "        print('Switching to exponential scheduler')\n",
    "        sched = torch.optim.lr_scheduler.ExponentialLR(gamma=0.999)\n",
    "    \n",
    "    iteration = dict(epoch=epoch, train_loss=list(), valid_loss=list())\n",
    "    \n",
    "    for name, loader in loaders.items():\n",
    "        is_training = name == 'train'\n",
    "        count = 0\n",
    "        metric = 0.0\n",
    "        \n",
    "        with torch.set_grad_enabled(is_training):\n",
    "            for batch in loader:\n",
    "                steps[name] += 1\n",
    "                opt.zero_grad()\n",
    "\n",
    "                y = batch['site1']['targets'].to(device)\n",
    "                \n",
    "                out = model(\n",
    "                    batch['site1']['features'].to(device),\n",
    "                    batch['site2']['features'].to(device)\n",
    "                )\n",
    "                \n",
    "                if is_training:\n",
    "                    loss = loss_fn(out, y)\n",
    "                    loss.backward()\n",
    "                    opt.step()\n",
    "                    sched.step()\n",
    "                    \n",
    "                    curr_lr = opt.param_groups[0]['lr']\n",
    "                    vis.line(X=[steps[name]], Y=[curr_lr], win='lr', name='lr', update='append')    \n",
    "                \n",
    "                avg_loss = rolling_loss[name](loss.item(), steps[name])\n",
    "                iteration[f'{name}_loss'].append(avg_loss)\n",
    "                y_pred = out.softmax(dim=1).argmax(dim=1)\n",
    "                acc = (y_pred == y).float().mean().item()\n",
    "                metric += acc\n",
    "                count += len(batch)\n",
    "                vis.line(X=[steps[name]], Y=[avg_loss], name=f'{name}_loss', \n",
    "                         win=f'{name}_loss', update='append', \n",
    "                         opts=dict(title=f'Running Loss [{name}]'))\n",
    "        \n",
    "        metric /= count\n",
    "        iteration[f'{name}_acc'] = metric\n",
    "        vis.line(X=[epoch], Y=[avg_loss], name=f'{name}', win='avg_loss',\n",
    "                 update='append', opts=dict(title='Average Epoch Loss'))\n",
    "        vis.line(X=[epoch], Y=[metric], name=f'{name}', win='accuracy', \n",
    "                 update='append', opts=dict(title=f'Accuracy'))\n",
    "        \n",
    "        last_loss = iteration[f'{name}_loss'][-1]\n",
    "        \n",
    "        print(f'{name} metrics: accuracy={metric:2.3%}, loss={last_loss:.4f}')\n",
    "          \n",
    "        if is_training:\n",
    "            pass\n",
    "          \n",
    "        else:\n",
    "            if metric > best_metric:\n",
    "                trials = 0\n",
    "                best_metric = metric\n",
    "                print('Score improved!')\n",
    "                torch.save(model.state_dict(), f'densenet/train.{epoch}.pth')\n",
    "            else:\n",
    "                trials += 1\n",
    "                if trials >= patience:\n",
    "                    stop = True\n",
    "                    break\n",
    "    \n",
    "    history.append(iteration)\n",
    "    \n",
    "    print('-' * 80)\n",
    "    \n",
    "    if stop:\n",
    "        print(f'Early stopping on epoch: {epoch}')\n",
    "        break\n",
    "\n",
    "torch.save(history, 'densenet/history.pth')"
   ]
  },
  {
   "cell_type": "markdown",
   "metadata": {},
   "source": [
    "## Test"
   ]
  },
  {
   "cell_type": "code",
   "execution_count": 24,
   "metadata": {},
   "outputs": [
    {
     "name": "stdout",
     "output_type": "stream",
     "text": [
      "Freezing layer: base\n",
      "Freezing layer: pool\n",
      "Freezing layer: head\n"
     ]
    }
   ],
   "source": [
    "device = torch.device('cuda:0')\n",
    "model = DenseNet_TwoSites('densenet121')\n",
    "model = model.to(device)\n",
    "state = torch.load('densenet121_15_cw/train.14.pth', map_location=lambda loc, storage: loc)\n",
    "model.load_state_dict(state)\n",
    "freeze_all(model)\n",
    "_ = model.eval()"
   ]
  },
  {
   "cell_type": "code",
   "execution_count": 25,
   "metadata": {},
   "outputs": [
    {
     "data": {
      "application/vnd.jupyter.widget-view+json": {
       "model_id": "effac461f4b64f0eb4d560f63db23adf",
       "version_major": 2,
       "version_minor": 0
      },
      "text/plain": [
       "HBox(children=(IntProgress(value=0, max=311), HTML(value='')))"
      ]
     },
     "metadata": {},
     "output_type": "display_data"
    },
    {
     "name": "stdout",
     "output_type": "stream",
     "text": [
      "\n"
     ]
    }
   ],
   "source": [
    "with torch.no_grad():\n",
    "    test_dl = new_loader(tst_ds, shuffle=False, bs=64)\n",
    "    preds = {}\n",
    "    for batch in tqdm(test_dl):\n",
    "        s1 = batch['site1']['features']\n",
    "        s2 = batch['site2']['features']\n",
    "        out = model(s1.to(device), s2.to(device))\n",
    "        y_hat = out.argmax(dim=-1).cpu().numpy()\n",
    "        preds.update(dict(zip(batch['site1']['id_code'], y_hat.astype(int))))"
   ]
  },
  {
   "cell_type": "code",
   "execution_count": 26,
   "metadata": {},
   "outputs": [
    {
     "data": {
      "text/html": [
       "<div>\n",
       "<style scoped>\n",
       "    .dataframe tbody tr th:only-of-type {\n",
       "        vertical-align: middle;\n",
       "    }\n",
       "\n",
       "    .dataframe tbody tr th {\n",
       "        vertical-align: top;\n",
       "    }\n",
       "\n",
       "    .dataframe thead th {\n",
       "        text-align: right;\n",
       "    }\n",
       "</style>\n",
       "<table border=\"1\" class=\"dataframe\">\n",
       "  <thead>\n",
       "    <tr style=\"text-align: right;\">\n",
       "      <th></th>\n",
       "      <th>id_code</th>\n",
       "      <th>sirna</th>\n",
       "    </tr>\n",
       "  </thead>\n",
       "  <tbody>\n",
       "    <tr>\n",
       "      <th>0</th>\n",
       "      <td>HEPG2-08_1_B03</td>\n",
       "      <td>909</td>\n",
       "    </tr>\n",
       "    <tr>\n",
       "      <th>1</th>\n",
       "      <td>HEPG2-08_1_B04</td>\n",
       "      <td>430</td>\n",
       "    </tr>\n",
       "    <tr>\n",
       "      <th>2</th>\n",
       "      <td>HEPG2-08_1_B05</td>\n",
       "      <td>836</td>\n",
       "    </tr>\n",
       "    <tr>\n",
       "      <th>3</th>\n",
       "      <td>HEPG2-08_1_B06</td>\n",
       "      <td>736</td>\n",
       "    </tr>\n",
       "    <tr>\n",
       "      <th>4</th>\n",
       "      <td>HEPG2-08_1_B07</td>\n",
       "      <td>715</td>\n",
       "    </tr>\n",
       "  </tbody>\n",
       "</table>\n",
       "</div>"
      ],
      "text/plain": [
       "          id_code  sirna\n",
       "0  HEPG2-08_1_B03    909\n",
       "1  HEPG2-08_1_B04    430\n",
       "2  HEPG2-08_1_B05    836\n",
       "3  HEPG2-08_1_B06    736\n",
       "4  HEPG2-08_1_B07    715"
      ]
     },
     "execution_count": 26,
     "metadata": {},
     "output_type": "execute_result"
    }
   ],
   "source": [
    "preds_df = pd.DataFrame([\n",
    "    {'id_code': id_code, 'sirna': sirna} \n",
    "    for id_code, sirna in preds.items()])\n",
    "preds_df.head(5)"
   ]
  },
  {
   "cell_type": "code",
   "execution_count": 27,
   "metadata": {},
   "outputs": [
    {
     "data": {
      "text/plain": [
       "19897"
      ]
     },
     "execution_count": 27,
     "metadata": {},
     "output_type": "execute_result"
    }
   ],
   "source": [
    "len(preds_df)"
   ]
  },
  {
   "cell_type": "code",
   "execution_count": 28,
   "metadata": {},
   "outputs": [
    {
     "data": {
      "text/html": [
       "<a href='densenet121_two_way_512.csv' target='_blank'>densenet121_two_way_512.csv</a><br>"
      ],
      "text/plain": [
       "/home/ck/code/tasks/protein/densenet121_two_way_512.csv"
      ]
     },
     "execution_count": 28,
     "metadata": {},
     "output_type": "execute_result"
    }
   ],
   "source": [
    "filename = 'densenet121_two_way_512.csv'\n",
    "preds_df.to_csv(filename, index=False, columns=['id_code', 'sirna'])\n",
    "from IPython.display import FileLink\n",
    "FileLink(filename)"
   ]
  },
  {
   "cell_type": "code",
   "execution_count": null,
   "metadata": {},
   "outputs": [],
   "source": []
  }
 ],
 "metadata": {
  "kernelspec": {
   "display_name": "fastai (cuda 10)",
   "language": "python",
   "name": "fastai"
  },
  "language_info": {
   "codemirror_mode": {
    "name": "ipython",
    "version": 3
   },
   "file_extension": ".py",
   "mimetype": "text/x-python",
   "name": "python",
   "nbconvert_exporter": "python",
   "pygments_lexer": "ipython3",
   "version": "3.7.3"
  },
  "toc": {
   "base_numbering": 1,
   "nav_menu": {},
   "number_sections": true,
   "sideBar": true,
   "skip_h1_title": false,
   "title_cell": "Table of Contents",
   "title_sidebar": "Contents",
   "toc_cell": false,
   "toc_position": {},
   "toc_section_display": true,
   "toc_window_display": false
  }
 },
 "nbformat": 4,
 "nbformat_minor": 2
}
