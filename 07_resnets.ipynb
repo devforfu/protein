{
 "cells": [
  {
   "cell_type": "code",
   "execution_count": null,
   "metadata": {},
   "outputs": [],
   "source": [
    "!python -m jupytools export -nb \"07_resnets.ipynb\" -o ."
   ]
  },
  {
   "cell_type": "code",
   "execution_count": null,
   "metadata": {},
   "outputs": [],
   "source": [
    "%reload_ext autoreload\n",
    "%autoreload 2"
   ]
  },
  {
   "cell_type": "markdown",
   "metadata": {},
   "source": [
    "## Imports "
   ]
  },
  {
   "cell_type": "code",
   "execution_count": null,
   "metadata": {},
   "outputs": [],
   "source": [
    "#export\n",
    "from collections import OrderedDict\n",
    "import json\n",
    "import os\n",
    "from os.path import dirname, join\n",
    "from functools import reduce\n",
    "from pdb import set_trace\n",
    "\n",
    "import cv2 as cv\n",
    "import jupytools\n",
    "import jupytools.syspath\n",
    "import numpy as np\n",
    "import pandas as pd\n",
    "import matplotlib.pyplot as plt\n",
    "\n",
    "import pretrainedmodels\n",
    "import torch\n",
    "import torch.nn as nn\n",
    "from torch.utils.data import Dataset, DataLoader\n",
    "from visdom import Visdom\n",
    "\n",
    "jupytools.syspath.add(join(dirname(os.getcwd()), 'protein_project'))\n",
    "jupytools.syspath.add('rxrx1-utils')\n",
    "if jupytools.is_notebook():\n",
    "    from tqdm import tqdm_notebook as tqdm\n",
    "else:\n",
    "    from tqdm import tqdm as tdqm\n",
    "    \n",
    "import contextlib, io\n",
    "with contextlib.redirect_stderr(io.StringIO()):\n",
    "    from basedir import ROOT, NUM_CLASSES\n",
    "    from catalyst_visdom import BatchMetricsPlotCallback, EpochMetricsPlotCallback\n",
    "    from dataset import load_data, build_stats_index, RxRxDataset\n",
    "    from model.utils import freeze_all, unfreeze_layers\n",
    "    from visual import rgb, six, show_1, show"
   ]
  },
  {
   "cell_type": "code",
   "execution_count": null,
   "metadata": {},
   "outputs": [],
   "source": [
    "#export\n",
    "torch.set_default_tensor_type(torch.FloatTensor)"
   ]
  },
  {
   "cell_type": "markdown",
   "metadata": {},
   "source": [
    "## Dataset Preparation"
   ]
  },
  {
   "cell_type": "markdown",
   "metadata": {},
   "source": [
    "### JSON"
   ]
  },
  {
   "cell_type": "code",
   "execution_count": null,
   "metadata": {},
   "outputs": [],
   "source": [
    "#export\n",
    "data_dict = load_data(filenames=['train.json', 'test.json'])\n",
    "train_records, test_records = data_dict['data']"
   ]
  },
  {
   "cell_type": "markdown",
   "metadata": {},
   "source": [
    "### Transformations"
   ]
  },
  {
   "cell_type": "code",
   "execution_count": null,
   "metadata": {},
   "outputs": [],
   "source": [
    "#export\n",
    "def bernoulli(p): return int(np.random.binomial(1, p))"
   ]
  },
  {
   "cell_type": "code",
   "execution_count": null,
   "metadata": {},
   "outputs": [],
   "source": [
    "#export\n",
    "class BaseTransform:\n",
    "    def __init__(self, apply_always=False, p=1.0, key='features'):\n",
    "        self.apply_always = apply_always\n",
    "        self.p = p\n",
    "        self.key = key\n",
    "    def __call__(self, x):\n",
    "        if self.apply_always or bernoulli(self.p):\n",
    "            return self.apply(x)\n",
    "        return x\n",
    "    def apply(self, x):\n",
    "        raise NotImplementedError()"
   ]
  },
  {
   "cell_type": "code",
   "execution_count": null,
   "metadata": {},
   "outputs": [],
   "source": [
    "#export\n",
    "class UnconditionalTransform(BaseTransform):\n",
    "    def __init__(self, **kwargs):\n",
    "        super().__init__(apply_always=True)"
   ]
  },
  {
   "cell_type": "code",
   "execution_count": null,
   "metadata": {},
   "outputs": [],
   "source": [
    "#export\n",
    "class Compose(UnconditionalTransform):\n",
    "    def __init__(self, transforms):\n",
    "        super().__init__(apply_always=True)\n",
    "        self.transforms = transforms\n",
    "    def apply(self, dataset_record):\n",
    "        return reduce(lambda x, f: f(x), self.transforms, dataset_record)"
   ]
  },
  {
   "cell_type": "code",
   "execution_count": null,
   "metadata": {},
   "outputs": [],
   "source": [
    "#export\n",
    "class JoinChannels(UnconditionalTransform):\n",
    "    def apply(self, record):\n",
    "        record['features'] = np.stack(list(record['features'].values()))\n",
    "        return record"
   ]
  },
  {
   "cell_type": "code",
   "execution_count": null,
   "metadata": {},
   "outputs": [],
   "source": [
    "#export\n",
    "class Resize(UnconditionalTransform):\n",
    "    def __init__(self, sz):\n",
    "        super().__init__()\n",
    "        self.sz = (sz, sz) if isinstance(sz, int) else sz\n",
    "    def apply(self, record):\n",
    "        record['features'] = cv.resize(record['features'], self.sz) \n",
    "        return record"
   ]
  },
  {
   "cell_type": "code",
   "execution_count": null,
   "metadata": {},
   "outputs": [],
   "source": [
    "#export\n",
    "class ToFloat(UnconditionalTransform):\n",
    "    def apply(self, record):\n",
    "        record['features'] = record['features'].astype(np.float32)\n",
    "        return record"
   ]
  },
  {
   "cell_type": "code",
   "execution_count": null,
   "metadata": {},
   "outputs": [],
   "source": [
    "#export\n",
    "class SwapChannels(UnconditionalTransform):\n",
    "    def __init__(self, new_order):\n",
    "        super().__init__()\n",
    "        self.new_order = new_order\n",
    "    def apply(self, record):\n",
    "        record['features'] = record['features'].transpose(*self.new_order)\n",
    "        return record"
   ]
  },
  {
   "cell_type": "code",
   "execution_count": null,
   "metadata": {},
   "outputs": [],
   "source": [
    "#export\n",
    "class VerticalFlip(BaseTransform):\n",
    "    def apply(self, record): \n",
    "        record['features'] = cv.flip(record['features'], 0)\n",
    "        return record"
   ]
  },
  {
   "cell_type": "code",
   "execution_count": null,
   "metadata": {},
   "outputs": [],
   "source": [
    "#export\n",
    "class HorizontalFlip(BaseTransform):\n",
    "    def apply(self, record): \n",
    "        record['features'] = cv.flip(record['features'], 1)\n",
    "        return record"
   ]
  },
  {
   "cell_type": "code",
   "execution_count": null,
   "metadata": {},
   "outputs": [],
   "source": [
    "#export\n",
    "class PixelStatsNorm(UnconditionalTransform):\n",
    "    def __init__(self, stats):\n",
    "        super().__init__()\n",
    "        self.stats = stats\n",
    "    def apply(self, record):\n",
    "        keys = [(record['id_code'], i+1, record['site']) for i in range(6)]\n",
    "        mean = np.stack([self.stats[key]['mean'] for key in keys]).astype(np.float32)\n",
    "        std = np.stack([self.stats[key]['std'] for key in keys]).astype(np.float32)\n",
    "        mean, std = [arr.reshape(len(arr), 1, 1) for arr in (mean, std)]\n",
    "        norm = (record['features'] - mean)/(std + 1e-8)\n",
    "        record['features'] = norm\n",
    "        return record"
   ]
  },
  {
   "cell_type": "code",
   "execution_count": null,
   "metadata": {},
   "outputs": [],
   "source": [
    "#export\n",
    "class Rescale(UnconditionalTransform):\n",
    "    def __init__(self, factor=1./255):\n",
    "        super().__init__()\n",
    "        self.factor = factor\n",
    "    def apply(self, record):\n",
    "        record['features'] = record['features'] * self.factor\n",
    "        return record"
   ]
  },
  {
   "cell_type": "code",
   "execution_count": null,
   "metadata": {},
   "outputs": [],
   "source": [
    "#export\n",
    "class Augmented(Dataset):\n",
    "    def __init__(self, ds, tr):\n",
    "        self.ds = ds\n",
    "        self.tr = tr\n",
    "    def __len__(self):\n",
    "        return len(self.ds)\n",
    "    def __getitem__(self, index):\n",
    "        return self.tr(self.ds[index])"
   ]
  },
  {
   "cell_type": "markdown",
   "metadata": {},
   "source": [
    "### Composition and Normalization Stats Reading"
   ]
  },
  {
   "cell_type": "code",
   "execution_count": null,
   "metadata": {},
   "outputs": [],
   "source": [
    "#export\n",
    "stats = build_stats_index(ROOT/'pixel_stats.csv')\n",
    "\n",
    "train_transform = Compose([\n",
    "    JoinChannels(),\n",
    "    SwapChannels((1, 2, 0)),\n",
    "    Resize(224),\n",
    "    ToFloat(),\n",
    "    VerticalFlip(p=0.25),\n",
    "    HorizontalFlip(p=0.25),\n",
    "    SwapChannels((2, 0, 1)),\n",
    "    PixelStatsNorm(stats),\n",
    "    Rescale()\n",
    "])\n",
    "\n",
    "valid_transform = Compose([\n",
    "    JoinChannels(),\n",
    "    SwapChannels((1, 2, 0)),\n",
    "    Resize(224),\n",
    "    ToFloat(),\n",
    "    SwapChannels((2, 0, 1)),\n",
    "    PixelStatsNorm(stats),\n",
    "    Rescale()\n",
    "])\n",
    "\n",
    "test_transform = Compose([\n",
    "    JoinChannels(),\n",
    "    SwapChannels((1, 2, 0)),\n",
    "    Resize(224),\n",
    "    ToFloat(),\n",
    "    SwapChannels((2, 0, 1)),\n",
    "    PixelStatsNorm(stats),\n",
    "    Rescale()\n",
    "])"
   ]
  },
  {
   "cell_type": "code",
   "execution_count": null,
   "metadata": {},
   "outputs": [],
   "source": [
    "# list(stats)[:5]"
   ]
  },
  {
   "cell_type": "markdown",
   "metadata": {},
   "source": [
    "## Pipeline"
   ]
  },
  {
   "cell_type": "markdown",
   "metadata": {},
   "source": [
    "### Split"
   ]
  },
  {
   "cell_type": "code",
   "execution_count": null,
   "metadata": {},
   "outputs": [],
   "source": [
    "#export\n",
    "def split(records):\n",
    "    experiments = np.unique([r['experiment'] for r in records])\n",
    "    cell_types = np.unique([r['cell_type'] for r in records])\n",
    "    holdouts = []\n",
    "    for ct in cell_types:\n",
    "        holdout = np.random.choice(experiments[\n",
    "            [exp.startswith(ct) for exp in experiments]])\n",
    "        holdouts.append(holdout)\n",
    "\n",
    "    train_exp, valid_exp = [exp for exp in experiments if exp not in holdouts], holdouts\n",
    "    train = [r for r in records if r['experiment'] in train_exp]\n",
    "    valid = [r for r in records if r['experiment'] in valid_exp]\n",
    "    \n",
    "    return train, valid"
   ]
  },
  {
   "cell_type": "markdown",
   "metadata": {},
   "source": [
    "### Loaders"
   ]
  },
  {
   "cell_type": "code",
   "execution_count": null,
   "metadata": {},
   "outputs": [],
   "source": [
    "#export\n",
    "def create_loaders(data, batch_size, n_cpu=12, with_test=False):\n",
    "    train_records, valid_records = split(data)\n",
    "\n",
    "    trn_ds = RxRxDataset(train_records, num_classes=NUM_CLASSES)\n",
    "    aug_trn_ds = Augmented(trn_ds, train_transform)\n",
    "\n",
    "    val_ds = RxRxDataset(valid_records, num_classes=NUM_CLASSES)\n",
    "    aug_val_ds = Augmented(val_ds, valid_transform)\n",
    "\n",
    "    loaders = OrderedDict([\n",
    "        ('train', DataLoader(\n",
    "            aug_trn_ds, batch_size=batch_size, \n",
    "            shuffle=True, num_workers=n_cpu)),\n",
    "        ('valid', DataLoader(\n",
    "            aug_val_ds, batch_size=batch_size, \n",
    "            shuffle=False, num_workers=n_cpu)),\n",
    "    ])\n",
    "    \n",
    "    return loaders"
   ]
  },
  {
   "cell_type": "markdown",
   "metadata": {},
   "source": [
    "## Model"
   ]
  },
  {
   "cell_type": "code",
   "execution_count": null,
   "metadata": {},
   "outputs": [],
   "source": [
    "#export\n",
    "from catalyst.contrib.modules import GlobalConcatPool2d"
   ]
  },
  {
   "cell_type": "code",
   "execution_count": null,
   "metadata": {},
   "outputs": [],
   "source": [
    "#export\n",
    "def create_resnet_model(size, num_classes):\n",
    "    model_name = f'resnet{size}'\n",
    "    model = pretrainedmodels.__dict__[model_name](num_classes=1000, pretrained='imagenet')\n",
    "    feat_dim = model.last_linear.in_features\n",
    "    model.last_linear = nn.Sequential(\n",
    "        nn.Linear(feat_dim, feat_dim // 2),\n",
    "        nn.Dropout(0.5),\n",
    "        nn.BatchNorm1d(feat_dim // 2),\n",
    "        nn.ReLU(inplace=True),\n",
    "        nn.Linear(feat_dim // 2, num_classes)\n",
    "    )\n",
    "    conv1 = model.conv1.weight\n",
    "    new_conv = nn.Conv2d(6, 64, kernel_size=7, stride=2, padding=3, bias=False)\n",
    "    with torch.no_grad():\n",
    "        new_conv.weight[:,:] = torch.stack([torch.mean(conv1, 1)]*6, dim=1)\n",
    "    model.conv1 = new_conv\n",
    "    return model"
   ]
  },
  {
   "cell_type": "code",
   "execution_count": null,
   "metadata": {},
   "outputs": [],
   "source": [
    "#export\n",
    "class RollingLoss:\n",
    "    def __init__(self, smooth=0.98):\n",
    "        self.smooth = smooth\n",
    "        self.prev = 0\n",
    "    def __call__(self, curr, batch_no):\n",
    "        a = self.smooth\n",
    "        avg_loss = a*self.prev + (1 - a)*curr\n",
    "        debias_loss = avg_loss/(1 - a**batch_no)\n",
    "        self.prev = avg_loss\n",
    "        return debias_loss"
   ]
  },
  {
   "cell_type": "code",
   "execution_count": null,
   "metadata": {},
   "outputs": [],
   "source": [
    "#export\n",
    "def freeze_all(model):\n",
    "    for child in model.children():\n",
    "        for param in child.parameters():\n",
    "            param.requires_grad = False"
   ]
  },
  {
   "cell_type": "code",
   "execution_count": null,
   "metadata": {},
   "outputs": [],
   "source": [
    "#export\n",
    "def unfreeze_all(model):\n",
    "    print('Unfreezing all model layers')\n",
    "    for child in model.children():\n",
    "        for param in child.parameters():\n",
    "            param.requires_grad = True"
   ]
  },
  {
   "cell_type": "code",
   "execution_count": null,
   "metadata": {},
   "outputs": [],
   "source": [
    "#export\n",
    "def unfreeze_layers(model, names):\n",
    "    print('Unfreezing layers:', names)\n",
    "    for name, child in model.named_children():\n",
    "        if name in names:\n",
    "            for param in child.parameters():\n",
    "                param.requires_grad = True"
   ]
  },
  {
   "cell_type": "code",
   "execution_count": null,
   "metadata": {},
   "outputs": [],
   "source": [
    "#export\n",
    "loss_fn = nn.CrossEntropyLoss()"
   ]
  },
  {
   "cell_type": "code",
   "execution_count": null,
   "metadata": {},
   "outputs": [],
   "source": [
    "#export\n",
    "device = torch.device('cuda:0')"
   ]
  },
  {
   "cell_type": "code",
   "execution_count": null,
   "metadata": {},
   "outputs": [],
   "source": [
    "#export\n",
    "model = create_resnet_model(size=101, num_classes=NUM_CLASSES)\n",
    "freeze_all(model)"
   ]
  },
  {
   "cell_type": "code",
   "execution_count": null,
   "metadata": {},
   "outputs": [],
   "source": [
    "#export\n",
    "epochs = 1000\n",
    "patience = 500\n",
    "\n",
    "opt = torch.optim.AdamW(model.parameters(), lr=0.001, weight_decay=0.01)\n",
    "sched = torch.optim.lr_scheduler.ExponentialLR(opt, gamma=0.98)\n",
    "model = model.to(device)\n",
    "rolling_loss = dict(train=RollingLoss(), valid=RollingLoss())\n",
    "steps = dict(train=0, valid=0)\n",
    "\n",
    "trials = 0\n",
    "best_metric = -np.inf\n",
    "history = []\n",
    "stop = False\n",
    "\n",
    "vis = Visdom(server='0.0.0.0', port=9091,\n",
    "             username=os.environ['VISDOM_USERNAME'],\n",
    "             password=os.environ['VISDOM_PASSWORD'])\n",
    "\n",
    "for epoch in range(1, epochs+1):\n",
    "    print(f'Epoch [{epoch}/{epochs}]')\n",
    "    curr_lr = opt.param_groups[0]['lr']\n",
    "    vis.line(X=[epoch], Y=[curr_lr], win='lr', name='lr', update='append')\n",
    "    \n",
    "    if epoch == 1:\n",
    "        unfreeze_layers(model, ['last_linear'])\n",
    "        loaders = create_loaders(train_records, batch_size=400)\n",
    "    elif epoch == 2:\n",
    "        unfreeze_layers(model, ['layer4'])\n",
    "        loaders = create_loaders(train_records, batch_size=200)\n",
    "    elif epoch == 3:\n",
    "        unfreeze_layers(model, ['layer3'])\n",
    "        loaders = create_loaders(train_records, batch_size=40)\n",
    "    elif epoch == 4:\n",
    "        unfreeze_layers(model, ['layer2'])\n",
    "    elif epoch == 5:\n",
    "        unfreeze_all(model)\n",
    "        \n",
    "    iteration = dict(epoch=epoch, train_loss=list(), valid_loss=list())\n",
    "    print(f\"Current learning rate: {opt.param_groups[0]['lr']:.2E}\")\n",
    "    \n",
    "    for name, loader in loaders.items():\n",
    "        is_training = name == 'train'\n",
    "        count = 0\n",
    "        metric = 0.0\n",
    "        \n",
    "        with torch.set_grad_enabled(is_training):\n",
    "            for batch in loader:\n",
    "                steps[name] += 1\n",
    "                opt.zero_grad()\n",
    "                x = batch['features'].to(device)\n",
    "                y = batch['targets'].to(device)\n",
    "                out = model(x)\n",
    "                \n",
    "                if is_training:\n",
    "                    loss = loss_fn(out, y)\n",
    "                    loss.backward()\n",
    "                    opt.step()\n",
    "                \n",
    "                avg_loss = rolling_loss[name](loss.item(), steps[name])\n",
    "                iteration[f'{name}_loss'].append(avg_loss)\n",
    "                y_pred = out.softmax(dim=1).argmax(dim=1)\n",
    "                acc = (y_pred == y).float().mean().item()\n",
    "                metric += acc\n",
    "                count += len(batch)\n",
    "                vis.line(X=[steps[name]], Y=[avg_loss], name=f'{name}_loss', \n",
    "                         win=f'{name}_loss', update='append', \n",
    "                         opts=dict(title=f'Running Loss [{name}]'))\n",
    "        \n",
    "        metric /= count\n",
    "        iteration[f'{name}_acc'] = metric\n",
    "        vis.line(X=[epoch], Y=[avg_loss], name=f'{name}', win='avg_loss',\n",
    "                 update='append', opts=dict(title='Average Epoch Loss'))\n",
    "        vis.line(X=[epoch], Y=[metric], name=f'{name}', win='accuracy', \n",
    "                 update='append', opts=dict(title=f'Accuracy'))\n",
    "        \n",
    "        last_loss = iteration[f'{name}_loss'][-1]\n",
    "        \n",
    "        print(f'{name} metrics: accuracy={metric:2.3%}, loss={last_loss:.4f}')\n",
    "          \n",
    "        if is_training:\n",
    "            sched.step()\n",
    "          \n",
    "        else:\n",
    "            # sched.step(metric)\n",
    "            if metric > best_metric:\n",
    "                trials = 0\n",
    "                best_metric = metric\n",
    "                print('Score improved!')\n",
    "                torch.save(model.state_dict(), f'train.{epoch}.pth')\n",
    "            else:\n",
    "                trials += 1\n",
    "                if trials >= patience:\n",
    "                    stop = True\n",
    "                    break\n",
    "    \n",
    "    history.append(iteration)\n",
    "    \n",
    "    print('-' * 80)\n",
    "    \n",
    "    if stop:\n",
    "        print(f'Early stopping on epoch: {epoch}')\n",
    "        break\n",
    "\n",
    "torch.save(history, 'history.pth')"
   ]
  },
  {
   "cell_type": "code",
   "execution_count": null,
   "metadata": {},
   "outputs": [],
   "source": []
  }
 ],
 "metadata": {
  "kernelspec": {
   "display_name": "fastai (cuda 10)",
   "language": "python",
   "name": "fastai"
  },
  "language_info": {
   "codemirror_mode": {
    "name": "ipython",
    "version": 3
   },
   "file_extension": ".py",
   "mimetype": "text/x-python",
   "name": "python",
   "nbconvert_exporter": "python",
   "pygments_lexer": "ipython3",
   "version": "3.7.3"
  },
  "toc": {
   "base_numbering": 1,
   "nav_menu": {},
   "number_sections": true,
   "sideBar": true,
   "skip_h1_title": false,
   "title_cell": "Table of Contents",
   "title_sidebar": "Contents",
   "toc_cell": false,
   "toc_position": {},
   "toc_section_display": true,
   "toc_window_display": false
  }
 },
 "nbformat": 4,
 "nbformat_minor": 2
}
