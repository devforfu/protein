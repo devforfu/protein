{
 "cells": [
  {
   "cell_type": "code",
   "execution_count": 19,
   "metadata": {
    "_cell_guid": "79c7e3d0-c299-4dcb-8224-4455121ee9b0",
    "_uuid": "d629ff2d2480ee46fbb7e2d37f6b5fab8052498a"
   },
   "outputs": [],
   "source": [
    "# Standard lib\n",
    "from collections import OrderedDict\n",
    "import glob\n",
    "from multiprocessing import cpu_count\n",
    "import os\n",
    "from pathlib import Path\n",
    "from pdb import set_trace \n",
    "import re\n",
    "from string import ascii_lowercase\n",
    "\n",
    "# Utils\n",
    "from imageio import imread\n",
    "from IPython.display import display, HTML\n",
    "import matplotlib.pyplot as plt\n",
    "import numpy as np\n",
    "import pandas as pd\n",
    "import PIL.Image\n",
    "from tqdm import tqdm_notebook as tqdm\n",
    "\n",
    "# Model training\n",
    "import torch\n",
    "import torch.nn as nn\n",
    "from torch.utils.data import Dataset, DataLoader\n",
    "import torchvision\n",
    "import torchvision.transforms as T\n",
    "\n",
    "from catalyst.dl.callbacks import AccuracyCallback, AUCCallback, F1ScoreCallback\n",
    "from catalyst.dl.runner import SupervisedRunner\n",
    "from catalyst.utils import set_global_seed, prepare_cudnn\n",
    "\n",
    "import pretrainedmodels"
   ]
  },
  {
   "cell_type": "code",
   "execution_count": 5,
   "metadata": {},
   "outputs": [
    {
     "name": "stdout",
     "output_type": "stream",
     "text": [
      "Adding to the search path.\n",
      "Done!\n"
     ]
    }
   ],
   "source": [
    "seed = 1\n",
    "set_global_seed(seed)\n",
    "prepare_cudnn(deterministic=True)\n",
    "\n",
    "if os.environ.get('KAGGLE_URL_BASE', False):\n",
    "    ROOT = Path.cwd().parent/'input'/'recursion-cellular-image-classification'\n",
    "else:\n",
    "    ROOT = Path.home()/'data'/'protein'\n",
    "    \n",
    "try:\n",
    "    rxrx\n",
    "except NameError:\n",
    "    import sys\n",
    "    if not os.path.exists('rxrx1-utils'):\n",
    "        print('Cloning RxRx repository...')\n",
    "        !git clone https://github.com/recursionpharma/rxrx1-utils\n",
    "    print('Adding to the search path.')\n",
    "    sys.path.append('rxrx1-utils')\n",
    "    print('Done!')\n",
    "    \n",
    "import rxrx.io as rio"
   ]
  },
  {
   "cell_type": "code",
   "execution_count": 6,
   "metadata": {},
   "outputs": [
    {
     "name": "stdout",
     "output_type": "stream",
     "text": [
      "total 2464\r\n",
      "-rw-rw-r--  1 ck ck   35620 авг 24 14:33 recursion_dataset_license.pdf\r\n",
      "-rw-rw-r--  1 ck ck  367018 авг 24 14:33 sample_submission.csv\r\n",
      "drwxrwxr-x 20 ck ck    4096 авг 24 16:42 test\r\n",
      "-rw-rw-r--  1 ck ck  114364 авг 24 14:33 test_controls.csv\r\n",
      "-rw-rw-r--  1 ck ck  574862 авг 24 14:33 test.csv\r\n",
      "drwxrwxr-x  3 ck ck    4096 авг 24 18:44 tmp\r\n",
      "drwxrwxr-x 35 ck ck    4096 авг 24 16:44 train\r\n",
      "-rw-rw-r--  1 ck ck  208866 авг 24 14:33 train_controls.csv\r\n",
      "-rw-------  1 ck ck 1203816 июн 26 08:01 train.csv\r\n"
     ]
    }
   ],
   "source": [
    "!ls -l {ROOT}"
   ]
  },
  {
   "cell_type": "code",
   "execution_count": 7,
   "metadata": {},
   "outputs": [],
   "source": [
    "STATS_FILE = ROOT/'pixel_stats.csv'\n",
    "\n",
    "SUBMIT_FILE = ROOT/'sample_submission.csv'\n",
    "TEST_FILE = ROOT/'test.csv'\n",
    "TEST_CTRL_FILE = ROOT/'test_controls.csv'\n",
    "TRAIN_FILE = ROOT/'train.csv'\n",
    "TRAIN_CTRL_FILE = ROOT/'train_controls.csv'\n",
    "\n",
    "TEST_DIR = ROOT/'test'\n",
    "TRAIN_DIR = ROOT/'train'"
   ]
  },
  {
   "cell_type": "code",
   "execution_count": 8,
   "metadata": {},
   "outputs": [
    {
     "data": {
      "text/html": [
       "<div>\n",
       "<style scoped>\n",
       "    .dataframe tbody tr th:only-of-type {\n",
       "        vertical-align: middle;\n",
       "    }\n",
       "\n",
       "    .dataframe tbody tr th {\n",
       "        vertical-align: top;\n",
       "    }\n",
       "\n",
       "    .dataframe thead th {\n",
       "        text-align: right;\n",
       "    }\n",
       "</style>\n",
       "<table border=\"1\" class=\"dataframe\">\n",
       "  <thead>\n",
       "    <tr style=\"text-align: right;\">\n",
       "      <th></th>\n",
       "      <th>id_code</th>\n",
       "      <th>cell_type</th>\n",
       "      <th>dataset</th>\n",
       "      <th>experiment</th>\n",
       "      <th>plate</th>\n",
       "      <th>sirna</th>\n",
       "      <th>site</th>\n",
       "      <th>well</th>\n",
       "      <th>well_type</th>\n",
       "    </tr>\n",
       "  </thead>\n",
       "  <tbody>\n",
       "    <tr>\n",
       "      <th>0</th>\n",
       "      <td>HEPG2-08_1_B02</td>\n",
       "      <td>HEPG2</td>\n",
       "      <td>test</td>\n",
       "      <td>HEPG2-08</td>\n",
       "      <td>1</td>\n",
       "      <td>1138.0</td>\n",
       "      <td>1</td>\n",
       "      <td>B02</td>\n",
       "      <td>negative_control</td>\n",
       "    </tr>\n",
       "    <tr>\n",
       "      <th>1</th>\n",
       "      <td>HEPG2-08_1_B02</td>\n",
       "      <td>HEPG2</td>\n",
       "      <td>test</td>\n",
       "      <td>HEPG2-08</td>\n",
       "      <td>1</td>\n",
       "      <td>1138.0</td>\n",
       "      <td>2</td>\n",
       "      <td>B02</td>\n",
       "      <td>negative_control</td>\n",
       "    </tr>\n",
       "    <tr>\n",
       "      <th>2</th>\n",
       "      <td>HEPG2-08_1_B03</td>\n",
       "      <td>HEPG2</td>\n",
       "      <td>test</td>\n",
       "      <td>HEPG2-08</td>\n",
       "      <td>1</td>\n",
       "      <td>NaN</td>\n",
       "      <td>1</td>\n",
       "      <td>B03</td>\n",
       "      <td>treatment</td>\n",
       "    </tr>\n",
       "    <tr>\n",
       "      <th>3</th>\n",
       "      <td>HEPG2-08_1_B03</td>\n",
       "      <td>HEPG2</td>\n",
       "      <td>test</td>\n",
       "      <td>HEPG2-08</td>\n",
       "      <td>1</td>\n",
       "      <td>NaN</td>\n",
       "      <td>2</td>\n",
       "      <td>B03</td>\n",
       "      <td>treatment</td>\n",
       "    </tr>\n",
       "    <tr>\n",
       "      <th>4</th>\n",
       "      <td>HEPG2-08_1_B04</td>\n",
       "      <td>HEPG2</td>\n",
       "      <td>test</td>\n",
       "      <td>HEPG2-08</td>\n",
       "      <td>1</td>\n",
       "      <td>NaN</td>\n",
       "      <td>1</td>\n",
       "      <td>B04</td>\n",
       "      <td>treatment</td>\n",
       "    </tr>\n",
       "  </tbody>\n",
       "</table>\n",
       "</div>"
      ],
      "text/plain": [
       "          id_code cell_type dataset experiment  plate   sirna  site well  \\\n",
       "0  HEPG2-08_1_B02     HEPG2    test   HEPG2-08      1  1138.0     1  B02   \n",
       "1  HEPG2-08_1_B02     HEPG2    test   HEPG2-08      1  1138.0     2  B02   \n",
       "2  HEPG2-08_1_B03     HEPG2    test   HEPG2-08      1     NaN     1  B03   \n",
       "3  HEPG2-08_1_B03     HEPG2    test   HEPG2-08      1     NaN     2  B03   \n",
       "4  HEPG2-08_1_B04     HEPG2    test   HEPG2-08      1     NaN     1  B04   \n",
       "\n",
       "          well_type  \n",
       "0  negative_control  \n",
       "1  negative_control  \n",
       "2         treatment  \n",
       "3         treatment  \n",
       "4         treatment  "
      ]
     },
     "execution_count": 8,
     "metadata": {},
     "output_type": "execute_result"
    }
   ],
   "source": [
    "meta = rio.combine_metadata()\n",
    "meta = meta.reset_index()\n",
    "meta.head()"
   ]
  },
  {
   "cell_type": "code",
   "execution_count": 9,
   "metadata": {},
   "outputs": [],
   "source": [
    "key = ['experiment', 'plate', 'well', 'site', 'sirna']\n",
    "meta_train = meta[meta.dataset == 'train']\n",
    "meta_test = meta[meta.dataset == 'test']\n",
    "train_experiments = list(meta_train[key].itertuples(index=False, name=None))\n",
    "test_experiments = list(meta_test[key].itertuples(index=False, name=None))"
   ]
  },
  {
   "cell_type": "code",
   "execution_count": 10,
   "metadata": {},
   "outputs": [],
   "source": [
    "NUM_OF_CLASSES = meta_train.sirna.astype(int).nunique()"
   ]
  },
  {
   "cell_type": "code",
   "execution_count": 12,
   "metadata": {},
   "outputs": [
    {
     "data": {
      "text/plain": [
       "(512, 512, 6)"
      ]
     },
     "execution_count": 12,
     "metadata": {},
     "output_type": "execute_result"
    }
   ],
   "source": [
    "rio.load_site('train', 'RPE-05', 3, 'D19', 2).shape"
   ]
  },
  {
   "cell_type": "code",
   "execution_count": 13,
   "metadata": {},
   "outputs": [],
   "source": [
    "def collect_records(basedir):\n",
    "    records = []\n",
    "    columns = ['experiment', 'plate', 'well', 'site', 'channel', 'filename']\n",
    "    for path in glob.glob(f'{basedir}/**/*.png', recursive=True):\n",
    "        exp, plate, filename = os.path.relpath(path, start=basedir).split('/')\n",
    "        basename, _ = os.path.splitext(filename)\n",
    "        well, site, channel = basename.split('_')\n",
    "        records.append([exp, int(plate[-1]), well, int(site[1:]), int(channel[1:]), path])\n",
    "    records = pd.DataFrame(records, columns=columns)\n",
    "    return records"
   ]
  },
  {
   "cell_type": "code",
   "execution_count": 28,
   "metadata": {},
   "outputs": [],
   "source": [
    "def join_channels(records, meta, output_dir):\n",
    "    labels = meta.set_index(['id_code', 'site'])\n",
    "    os.makedirs(output_dir, exist_ok=True)\n",
    "    print(f'Saving joined channels into folder: {output_dir}')\n",
    "    \n",
    "    labels = meta_train.set_index(['id_code', 'site'])\n",
    "    \n",
    "    for key, group in tqdm(records.groupby(['experiment', 'plate', 'well', 'site'])):\n",
    "        group = group.sort_values(by='channel')\n",
    "        \n",
    "        x = np.zeros((512, 512, 6), dtype=np.uint8)\n",
    "        for r in group.itertuples(index=False, name=None):\n",
    "            exp, plate, well, site, channel, filename = r\n",
    "            xi = np.asarray(imread(filename))\n",
    "            x[:, :, channel-1] = xi\n",
    "        \n",
    "        id_code = f'{exp}_{plate}_{well}'\n",
    "        y = int(labels.loc[(id_code, site)].sirna)\n",
    "        output_file = f'{id_code}_s{site}_{y}.png'\n",
    "        output_path = os.path.join(output_dir, output_file)\n",
    "        rgb = rio.convert_tensor_to_rgb(x)\n",
    "        img = PIL.Image.fromarray(rgb.astype(np.uint8))\n",
    "        img.save(output_path)\n",
    "        \n",
    "    return output_dir"
   ]
  },
  {
   "cell_type": "code",
   "execution_count": 50,
   "metadata": {},
   "outputs": [],
   "source": [
    "from joblib import Parallel, delayed"
   ]
  },
  {
   "cell_type": "code",
   "execution_count": 65,
   "metadata": {},
   "outputs": [],
   "source": [
    "def parallel_join_channels(image_groups, output_dir):\n",
    "    os.makedirs(output_dir, exist_ok=True)\n",
    "    \n",
    "    def worker(channel_group, output_dir):\n",
    "        x = np.zeros((512, 512, 6), dtype=np.uint8)\n",
    "        for info in channel_group:\n",
    "            xc = np.asarray(imread(info['filename']))\n",
    "            x[:, :, info['channel']-1] = xc\n",
    "        \n",
    "        sirna = info['sirna']\n",
    "        y = 0 if pd.isna(sirna) else int(sirna)\n",
    "        output_file = f\"{info['id_code']}_s{info['site']}_{y}.png\"\n",
    "        output_path = os.path.join(output_dir, output_file)\n",
    "        rgb = rio.convert_tensor_to_rgb(x)\n",
    "        img = PIL.Image.fromarray(rgb.astype(np.uint8))\n",
    "        img.save(output_path)\n",
    "        return output_path\n",
    "    \n",
    "    with Parallel(n_jobs=cpu_count()) as p:\n",
    "        paths = p(delayed(worker)(g, output_dir) for g in tqdm(image_groups))\n",
    "        \n",
    "    return paths"
   ]
  },
  {
   "cell_type": "code",
   "execution_count": 55,
   "metadata": {},
   "outputs": [],
   "source": [
    "trn_records = collect_records('/home/ck/data/protein/train')\n",
    "trn_info = pd.merge(trn_records, meta_train, on=['experiment', 'plate', 'well', 'site'])\n",
    "trn_groups = [group.to_dict('records') for _, group in trn_info.groupby(['id_code', 'site'])]"
   ]
  },
  {
   "cell_type": "code",
   "execution_count": 57,
   "metadata": {},
   "outputs": [
    {
     "data": {
      "application/vnd.jupyter.widget-view+json": {
       "model_id": "7cb28124bb374c80a03efc1755bf5bbd",
       "version_major": 2,
       "version_minor": 0
      },
      "text/plain": [
       "HBox(children=(IntProgress(value=0, max=81224), HTML(value='')))"
      ]
     },
     "metadata": {},
     "output_type": "display_data"
    }
   ],
   "source": [
    "trn_paths = parallel_join_channels(trn_groups, '/home/ck/data/protein/tmp/train')"
   ]
  },
  {
   "cell_type": "code",
   "execution_count": 59,
   "metadata": {},
   "outputs": [],
   "source": [
    "tst_records = collect_records('/home/ck/data/protein/test')\n",
    "tst_info = pd.merge(tst_records, meta_test, on=['experiment', 'plate', 'well', 'site'])\n",
    "tst_groups = [group.to_dict('records') for _, group in tst_info.groupby(['id_code', 'site'])]"
   ]
  },
  {
   "cell_type": "code",
   "execution_count": 66,
   "metadata": {},
   "outputs": [
    {
     "data": {
      "application/vnd.jupyter.widget-view+json": {
       "model_id": "6889d6d10b1a46bf86163e87e86a8a6e",
       "version_major": 2,
       "version_minor": 0
      },
      "text/plain": [
       "HBox(children=(IntProgress(value=0, max=44286), HTML(value='')))"
      ]
     },
     "metadata": {},
     "output_type": "display_data"
    }
   ],
   "source": [
    "tst_paths = parallel_join_channels(tst_groups, '/home/ck/data/protein/tmp/test')"
   ]
  },
  {
   "cell_type": "code",
   "execution_count": null,
   "metadata": {},
   "outputs": [],
   "source": []
  }
 ],
 "metadata": {
  "kernelspec": {
   "display_name": "Python 3",
   "language": "python",
   "name": "python3"
  },
  "language_info": {
   "codemirror_mode": {
    "name": "ipython",
    "version": 3
   },
   "file_extension": ".py",
   "mimetype": "text/x-python",
   "name": "python",
   "nbconvert_exporter": "python",
   "pygments_lexer": "ipython3",
   "version": "3.7.3"
  },
  "toc": {
   "base_numbering": 1,
   "nav_menu": {},
   "number_sections": true,
   "sideBar": true,
   "skip_h1_title": false,
   "title_cell": "Table of Contents",
   "title_sidebar": "Contents",
   "toc_cell": false,
   "toc_position": {},
   "toc_section_display": true,
   "toc_window_display": false
  }
 },
 "nbformat": 4,
 "nbformat_minor": 1
}
