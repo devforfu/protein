{
 "cells": [
  {
   "cell_type": "code",
   "execution_count": 1,
   "metadata": {},
   "outputs": [
    {
     "name": "stdout",
     "output_type": "stream",
     "text": [
      "Exported: 00e_prepare_channels_stats.ipynb -> prepare_channels_stats.py\r\n",
      "1 notebook(s) exported into folder: .\r\n"
     ]
    }
   ],
   "source": [
    "!python -m jupytools export -nb \"00e_prepare_channels_stats.ipynb\" -o ."
   ]
  },
  {
   "cell_type": "code",
   "execution_count": 1,
   "metadata": {},
   "outputs": [],
   "source": [
    "#export\n",
    "import json\n",
    "import os\n",
    "from os.path import dirname, join\n",
    "from pdb import set_trace\n",
    "\n",
    "import jupytools\n",
    "import jupytools.syspath\n",
    "import pandas as pd\n",
    "\n",
    "jupytools.syspath.add(join(dirname(os.getcwd()), 'protein_project'))\n",
    "jupytools.syspath.add('rxrx1-utils')\n",
    "if jupytools.is_notebook():\n",
    "    from tqdm import tqdm_notebook as tqdm\n",
    "else:\n",
    "    from tqdm import tqdm as tdqm\n",
    "    \n",
    "import contextlib, io\n",
    "with contextlib.redirect_stderr(io.StringIO()):\n",
    "    from basedir import ROOT\n",
    "    from dataset import load_data\n",
    "    from visual import rgb, six"
   ]
  },
  {
   "cell_type": "code",
   "execution_count": 2,
   "metadata": {},
   "outputs": [],
   "source": [
    "#export\n",
    "data_dict = load_data()\n",
    "train_records, _ = data_dict['data']"
   ]
  },
  {
   "cell_type": "code",
   "execution_count": 3,
   "metadata": {},
   "outputs": [
    {
     "data": {
      "text/plain": [
       "[{'id_code': 'HEPG2-01_1_B03',\n",
       "  'site': 1,\n",
       "  'channel': 1,\n",
       "  'cell_type': 'HEPG2',\n",
       "  'experiment': 'HEPG2-01',\n",
       "  'plate': 1,\n",
       "  'sirna': 513,\n",
       "  'well': 'B03',\n",
       "  'well_type': 'treatment',\n",
       "  'images': [[1, '/home/ck/data/protein/train/HEPG2-01/Plate1/B03_s1_w1.png'],\n",
       "   [2, '/home/ck/data/protein/train/HEPG2-01/Plate1/B03_s1_w2.png'],\n",
       "   [3, '/home/ck/data/protein/train/HEPG2-01/Plate1/B03_s1_w3.png'],\n",
       "   [4, '/home/ck/data/protein/train/HEPG2-01/Plate1/B03_s1_w4.png'],\n",
       "   [5, '/home/ck/data/protein/train/HEPG2-01/Plate1/B03_s1_w5.png'],\n",
       "   [6, '/home/ck/data/protein/train/HEPG2-01/Plate1/B03_s1_w6.png']],\n",
       "  'enc_sirna': 513}]"
      ]
     },
     "execution_count": 3,
     "metadata": {},
     "output_type": "execute_result"
    }
   ],
   "source": [
    "train_records[:1]"
   ]
  },
  {
   "cell_type": "code",
   "execution_count": 4,
   "metadata": {},
   "outputs": [],
   "source": [
    "#export\n",
    "stats = pd.read_csv(ROOT/'pixel_stats.csv')"
   ]
  },
  {
   "cell_type": "code",
   "execution_count": 5,
   "metadata": {},
   "outputs": [
    {
     "data": {
      "text/html": [
       "<div>\n",
       "<style scoped>\n",
       "    .dataframe tbody tr th:only-of-type {\n",
       "        vertical-align: middle;\n",
       "    }\n",
       "\n",
       "    .dataframe tbody tr th {\n",
       "        vertical-align: top;\n",
       "    }\n",
       "\n",
       "    .dataframe thead th {\n",
       "        text-align: right;\n",
       "    }\n",
       "</style>\n",
       "<table border=\"1\" class=\"dataframe\">\n",
       "  <thead>\n",
       "    <tr style=\"text-align: right;\">\n",
       "      <th></th>\n",
       "      <th>id_code</th>\n",
       "      <th>experiment</th>\n",
       "      <th>plate</th>\n",
       "      <th>well</th>\n",
       "      <th>site</th>\n",
       "      <th>channel</th>\n",
       "      <th>mean</th>\n",
       "      <th>std</th>\n",
       "      <th>median</th>\n",
       "      <th>min</th>\n",
       "      <th>max</th>\n",
       "    </tr>\n",
       "  </thead>\n",
       "  <tbody>\n",
       "    <tr>\n",
       "      <th>0</th>\n",
       "      <td>HEPG2-01_1_B02</td>\n",
       "      <td>HEPG2-01</td>\n",
       "      <td>1</td>\n",
       "      <td>B02</td>\n",
       "      <td>1</td>\n",
       "      <td>1</td>\n",
       "      <td>71.063782</td>\n",
       "      <td>43.146240</td>\n",
       "      <td>67.0</td>\n",
       "      <td>7</td>\n",
       "      <td>255</td>\n",
       "    </tr>\n",
       "    <tr>\n",
       "      <th>1</th>\n",
       "      <td>HEPG2-01_1_B02</td>\n",
       "      <td>HEPG2-01</td>\n",
       "      <td>1</td>\n",
       "      <td>B02</td>\n",
       "      <td>1</td>\n",
       "      <td>2</td>\n",
       "      <td>32.174431</td>\n",
       "      <td>9.384594</td>\n",
       "      <td>31.0</td>\n",
       "      <td>6</td>\n",
       "      <td>98</td>\n",
       "    </tr>\n",
       "    <tr>\n",
       "      <th>2</th>\n",
       "      <td>HEPG2-01_1_B02</td>\n",
       "      <td>HEPG2-01</td>\n",
       "      <td>1</td>\n",
       "      <td>B02</td>\n",
       "      <td>1</td>\n",
       "      <td>3</td>\n",
       "      <td>61.836025</td>\n",
       "      <td>23.377997</td>\n",
       "      <td>59.0</td>\n",
       "      <td>11</td>\n",
       "      <td>255</td>\n",
       "    </tr>\n",
       "    <tr>\n",
       "      <th>3</th>\n",
       "      <td>HEPG2-01_1_B02</td>\n",
       "      <td>HEPG2-01</td>\n",
       "      <td>1</td>\n",
       "      <td>B02</td>\n",
       "      <td>1</td>\n",
       "      <td>4</td>\n",
       "      <td>56.983257</td>\n",
       "      <td>16.011435</td>\n",
       "      <td>56.0</td>\n",
       "      <td>11</td>\n",
       "      <td>156</td>\n",
       "    </tr>\n",
       "    <tr>\n",
       "      <th>4</th>\n",
       "      <td>HEPG2-01_1_B02</td>\n",
       "      <td>HEPG2-01</td>\n",
       "      <td>1</td>\n",
       "      <td>B02</td>\n",
       "      <td>1</td>\n",
       "      <td>5</td>\n",
       "      <td>91.671993</td>\n",
       "      <td>39.221836</td>\n",
       "      <td>85.0</td>\n",
       "      <td>13</td>\n",
       "      <td>255</td>\n",
       "    </tr>\n",
       "    <tr>\n",
       "      <th>5</th>\n",
       "      <td>HEPG2-01_1_B02</td>\n",
       "      <td>HEPG2-01</td>\n",
       "      <td>1</td>\n",
       "      <td>B02</td>\n",
       "      <td>1</td>\n",
       "      <td>6</td>\n",
       "      <td>49.634388</td>\n",
       "      <td>15.679836</td>\n",
       "      <td>48.0</td>\n",
       "      <td>10</td>\n",
       "      <td>255</td>\n",
       "    </tr>\n",
       "  </tbody>\n",
       "</table>\n",
       "</div>"
      ],
      "text/plain": [
       "          id_code experiment  plate well  site  channel       mean        std  \\\n",
       "0  HEPG2-01_1_B02   HEPG2-01      1  B02     1        1  71.063782  43.146240   \n",
       "1  HEPG2-01_1_B02   HEPG2-01      1  B02     1        2  32.174431   9.384594   \n",
       "2  HEPG2-01_1_B02   HEPG2-01      1  B02     1        3  61.836025  23.377997   \n",
       "3  HEPG2-01_1_B02   HEPG2-01      1  B02     1        4  56.983257  16.011435   \n",
       "4  HEPG2-01_1_B02   HEPG2-01      1  B02     1        5  91.671993  39.221836   \n",
       "5  HEPG2-01_1_B02   HEPG2-01      1  B02     1        6  49.634388  15.679836   \n",
       "\n",
       "   median  min  max  \n",
       "0    67.0    7  255  \n",
       "1    31.0    6   98  \n",
       "2    59.0   11  255  \n",
       "3    56.0   11  156  \n",
       "4    85.0   13  255  \n",
       "5    48.0   10  255  "
      ]
     },
     "execution_count": 5,
     "metadata": {},
     "output_type": "execute_result"
    }
   ],
   "source": [
    "stats.head(6)"
   ]
  },
  {
   "cell_type": "code",
   "execution_count": null,
   "metadata": {},
   "outputs": [],
   "source": [
    "#export\n",
    "channels = []\n",
    "for (id_code, site), g in tdqm(stats.groupby(['id_code', 'site'])):\n",
    "    g = g.sort_values(by='channel')\n",
    "    channel_stats = g[['channel', 'mean', 'std', 'min', 'max']].to_dict('records')\n",
    "    for d in channel_stats:\n",
    "        d['channel'] = int(d['channel'])\n",
    "        d['mean'], d['std'] = float(d['mean']), float(d['std'])\n",
    "        d['min'], d['max'] = int(d['min']), int(d['max'])\n",
    "    channels.append({'id_code': id_code, 'site': int(site), 'stats': channel_stats})"
   ]
  },
  {
   "cell_type": "code",
   "execution_count": null,
   "metadata": {},
   "outputs": [],
   "source": [
    "#export\n",
    "with open('channels.json', 'w') as f:\n",
    "    json.dump(channels, f)"
   ]
  }
 ],
 "metadata": {
  "kernelspec": {
   "display_name": "fastai (cuda 10)",
   "language": "python",
   "name": "fastai"
  },
  "language_info": {
   "codemirror_mode": {
    "name": "ipython",
    "version": 3
   },
   "file_extension": ".py",
   "mimetype": "text/x-python",
   "name": "python",
   "nbconvert_exporter": "python",
   "pygments_lexer": "ipython3",
   "version": "3.7.3"
  },
  "toc": {
   "base_numbering": 1,
   "nav_menu": {},
   "number_sections": true,
   "sideBar": true,
   "skip_h1_title": false,
   "title_cell": "Table of Contents",
   "title_sidebar": "Contents",
   "toc_cell": false,
   "toc_position": {},
   "toc_section_display": true,
   "toc_window_display": false
  }
 },
 "nbformat": 4,
 "nbformat_minor": 2
}
