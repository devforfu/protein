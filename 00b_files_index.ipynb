{
 "cells": [
  {
   "cell_type": "code",
   "execution_count": 10,
   "metadata": {},
   "outputs": [],
   "source": [
    "#export\n",
    "import glob\n",
    "import json\n",
    "import os\n",
    "from pdb import set_trace\n",
    "import pickle\n",
    "import sys\n",
    "\n",
    "import pandas as pd\n",
    "from tqdm import tqdm_notebook as tqdm\n",
    "\n",
    "try:\n",
    "    extended\n",
    "except NameError:\n",
    "    sys.path.insert(0, 'rxrx1-utils')\n",
    "    import rxrx.io as rio\n",
    "    \n",
    "from basedir import ROOT, TRAIN, TEST, SAMPLE"
   ]
  },
  {
   "cell_type": "code",
   "execution_count": 2,
   "metadata": {},
   "outputs": [],
   "source": [
    "#export\n",
    "def collect_records(basedir):\n",
    "    \"\"\"Globs the folder with images and constructs data frame with image paths\n",
    "    and additional meta-information.\n",
    "    \"\"\"\n",
    "    records = []\n",
    "    columns = ['experiment', 'plate', 'well', 'site', 'channel', 'filename']\n",
    "    for path in glob.glob(f'{basedir}/**/*.png', recursive=True):\n",
    "        exp, plate, filename = os.path.relpath(path, start=basedir).split('/')\n",
    "        basename, _ = os.path.splitext(filename)\n",
    "        well, site, channel = basename.split('_')\n",
    "        records.append([exp, int(plate[-1]), well, int(site[1:]), int(channel[1:]), path])\n",
    "    records = pd.DataFrame(records, columns=columns)\n",
    "    records['id_code'] = records[['experiment', 'plate', 'well']].apply(\n",
    "        lambda r: '_'.join(map(str, r)), axis='columns')\n",
    "    return records.drop(columns=['experiment', 'plate', 'well'])"
   ]
  },
  {
   "cell_type": "code",
   "execution_count": 3,
   "metadata": {},
   "outputs": [],
   "source": [
    "#export\n",
    "def build_files_index():\n",
    "    trn_df = collect_records(TRAIN)\n",
    "    trn_df['dataset'] = 'train'\n",
    "    tst_df = collect_records(TEST)\n",
    "    tst_df['dataset'] = 'test'\n",
    "    df = pd.concat([trn_df, tst_df], axis='rows')\n",
    "    keys = ['id_code', 'site', 'dataset']\n",
    "    df.set_index(keys, inplace=True)\n",
    "    meta = rio.combine_metadata(base_path=ROOT)\n",
    "    meta = meta.reset_index().set_index(keys)\n",
    "    return df.join(meta).reset_index()"
   ]
  },
  {
   "cell_type": "code",
   "execution_count": 4,
   "metadata": {},
   "outputs": [],
   "source": [
    "#export\n",
    "def generate_samples(files_df):\n",
    "    samples = []\n",
    "    for _, g in tqdm(files_df.groupby(['id_code', 'site', 'dataset'])):\n",
    "        g = g.sort_values(by='channel')\n",
    "        images = list(zip(g.channel, g.filename))\n",
    "        records = g.to_dict(orient='records')[0]\n",
    "        sirna = records['sirna']\n",
    "        sample = dict(\n",
    "            images=images, sirna=0 if pd.isna(sirna) else int(sirna), \n",
    "            site=records['site'], cell_type=records['cell_type'], \n",
    "            experiment=records['experiment'], well_type=records['well_type'], \n",
    "            plate=records['plate'], subset=records['dataset'])\n",
    "        samples.append(sample)\n",
    "    return samples"
   ]
  },
  {
   "cell_type": "code",
   "execution_count": 5,
   "metadata": {},
   "outputs": [],
   "source": [
    "#export\n",
    "def train_test(items):\n",
    "    train, test = [], []\n",
    "    for item in tqdm(items):\n",
    "        subset = item.pop('subset')\n",
    "        (train if subset == 'train' else test).append(item)\n",
    "    return train, test"
   ]
  },
  {
   "cell_type": "code",
   "execution_count": 6,
   "metadata": {},
   "outputs": [],
   "source": [
    "#export\n",
    "files_index = build_files_index()"
   ]
  },
  {
   "cell_type": "code",
   "execution_count": 7,
   "metadata": {},
   "outputs": [
    {
     "data": {
      "application/vnd.jupyter.widget-view+json": {
       "model_id": "dceca58316f44e69978aa41ef8ec6da1",
       "version_major": 2,
       "version_minor": 0
      },
      "text/plain": [
       "HBox(children=(IntProgress(value=0, max=125510), HTML(value='')))"
      ]
     },
     "metadata": {},
     "output_type": "display_data"
    },
    {
     "name": "stdout",
     "output_type": "stream",
     "text": [
      "\n"
     ]
    }
   ],
   "source": [
    "#export\n",
    "dataset = generate_samples(files_index)"
   ]
  },
  {
   "cell_type": "code",
   "execution_count": 8,
   "metadata": {},
   "outputs": [
    {
     "data": {
      "application/vnd.jupyter.widget-view+json": {
       "model_id": "c527e39518344bddb0e53c4bf89b5125",
       "version_major": 2,
       "version_minor": 0
      },
      "text/plain": [
       "HBox(children=(IntProgress(value=0, max=125510), HTML(value='')))"
      ]
     },
     "metadata": {},
     "output_type": "display_data"
    },
    {
     "name": "stdout",
     "output_type": "stream",
     "text": [
      "\n"
     ]
    }
   ],
   "source": [
    "#export\n",
    "train, test = train_test(dataset)"
   ]
  },
  {
   "cell_type": "code",
   "execution_count": 11,
   "metadata": {},
   "outputs": [],
   "source": [
    "with open('train.json', 'w') as f:\n",
    "    json.dump(train, f)\n",
    "with open('test.json', 'w') as f:\n",
    "    json.dump(test, f)"
   ]
  }
 ],
 "metadata": {
  "kernelspec": {
   "display_name": "fastai (cuda 10)",
   "language": "python",
   "name": "fastai"
  },
  "language_info": {
   "codemirror_mode": {
    "name": "ipython",
    "version": 3
   },
   "file_extension": ".py",
   "mimetype": "text/x-python",
   "name": "python",
   "nbconvert_exporter": "python",
   "pygments_lexer": "ipython3",
   "version": "3.7.3"
  },
  "toc": {
   "base_numbering": 1,
   "nav_menu": {},
   "number_sections": true,
   "sideBar": true,
   "skip_h1_title": false,
   "title_cell": "Table of Contents",
   "title_sidebar": "Contents",
   "toc_cell": false,
   "toc_position": {},
   "toc_section_display": true,
   "toc_window_display": false
  }
 },
 "nbformat": 4,
 "nbformat_minor": 2
}
