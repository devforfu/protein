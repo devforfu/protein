{
 "cells": [
  {
   "cell_type": "code",
   "execution_count": null,
   "metadata": {},
   "outputs": [],
   "source": [
    "%load_ext autoreload\n",
    "%autoreload 2"
   ]
  },
  {
   "cell_type": "code",
   "execution_count": null,
   "metadata": {},
   "outputs": [],
   "source": [
    "#export\n",
    "import json\n",
    "import sys\n",
    "import matplotlib.pyplot as plt\n",
    "import pandas as pd\n",
    "import seaborn as sns\n",
    "from basedir import NUM_CLASSES"
   ]
  },
  {
   "cell_type": "code",
   "execution_count": null,
   "metadata": {},
   "outputs": [],
   "source": [
    "#export\n",
    "import contextlib, io\n",
    "with contextlib.redirect_stderr(io.StringIO()):\n",
    "    from data_bunch import DataBunch, RxRxDataset, load_data, rio"
   ]
  },
  {
   "cell_type": "markdown",
   "metadata": {
    "heading_collapsed": true
   },
   "source": [
    "## Plots"
   ]
  },
  {
   "cell_type": "code",
   "execution_count": null,
   "metadata": {
    "hidden": true
   },
   "outputs": [],
   "source": [
    "# Plots visual style setup\n",
    "\n",
    "class VisualStyle:\n",
    "    \"\"\"Convenience wrapper on top of matplotlib config.\"\"\"\n",
    "\n",
    "    def __init__(self, config, default=None):\n",
    "        if default is None:\n",
    "            default = plt.rcParams\n",
    "        self.default = default.copy()\n",
    "        self.config = config\n",
    "\n",
    "    def replace(self):\n",
    "        plt.rcParams = self.config\n",
    "\n",
    "    def override(self, extra=None):\n",
    "        plt.rcParams.update(self.config)\n",
    "        if extra is not None:\n",
    "            plt.rcParams.update(extra)\n",
    "\n",
    "    def restore(self):\n",
    "        plt.rcParams = self.default\n",
    "\n",
    "    def __enter__(self):\n",
    "        self.override()\n",
    "        return self\n",
    "\n",
    "    def __exit__(self, exc_type, exc_val, exc_tb):\n",
    "        self.restore()\n",
    "\n",
    "        \n",
    "palette1 = '173f5f 20639b 3caea3 f6d55c ed553b'\n",
    "palette2 = '264653 2a9d8f e9c46a f4a261 e76f51'\n",
    "tableau = '4e79a7 f28e2b e15759 76b7b2 59a14f edc948 b07aa1 ff9da7 9c755f bab0ac'\n",
    "\n",
    "def make_cycler(colors):\n",
    "    from cycler import cycler\n",
    "    colors_str = ', '.join([f\"'{c}'\" for c in colors.split()])\n",
    "    return f\"cycler('color', [{colors_str}])\"\n",
    "    \n",
    "class NotebookStyle(VisualStyle):\n",
    "    def __init__(self):\n",
    "        super().__init__({\n",
    "            'figure.figsize': (10, 8),\n",
    "            'font.family': 'monospace',\n",
    "            'axes.titlesize': 18,\n",
    "            'axes.labelsize': 16,\n",
    "            'axes.spines.right': False,\n",
    "            'axes.spines.top': False,\n",
    "            'xtick.labelsize': 14,\n",
    "            'ytick.labelsize': 14,\n",
    "            'font.size': 14,\n",
    "            'axes.prop_cycle': make_cycler(tableau)\n",
    "        })\n",
    "        \n",
    "def show_all(df):\n",
    "    with pd.option_context('display.max_columns', None, 'display.max_rows', None):\n",
    "        display(df)\n",
    "        \n",
    "NotebookStyle().override()\n",
    "sns.set_palette([f'#{color}' for color in tableau.split()])"
   ]
  },
  {
   "cell_type": "code",
   "execution_count": null,
   "metadata": {
    "hidden": true
   },
   "outputs": [],
   "source": [
    "def build_referece(records):\n",
    "    from copy import deepcopy\n",
    "    records = deepcopy(records)\n",
    "    images_index = {}\n",
    "    for r in records:\n",
    "        rec_id = '{}_{}_{}'.format(r['experiment'], r['plate'], r['site'])\n",
    "        images_index[rec_id] = r.pop('images')\n",
    "        r['rec_id'] = rec_id\n",
    "    return pd.DataFrame(records).set_index('rec_id'), images_index"
   ]
  },
  {
   "cell_type": "code",
   "execution_count": null,
   "metadata": {
    "hidden": true
   },
   "outputs": [],
   "source": [
    "def rgb(record):\n",
    "    filenames = [path for _, path in record['images']]\n",
    "    t = rio.load_images_as_tensor(filenames)\n",
    "    img = rio.convert_tensor_to_rgb(t)\n",
    "    return img"
   ]
  },
  {
   "cell_type": "code",
   "execution_count": null,
   "metadata": {
    "hidden": true
   },
   "outputs": [],
   "source": [
    "def show(record):\n",
    "    plt.imshow(rgb(record))"
   ]
  },
  {
   "cell_type": "code",
   "execution_count": null,
   "metadata": {
    "hidden": true
   },
   "outputs": [],
   "source": [
    "trn_rec, tst_rec = load_data()"
   ]
  },
  {
   "cell_type": "code",
   "execution_count": null,
   "metadata": {
    "hidden": true
   },
   "outputs": [],
   "source": [
    "trn_idx, trn_img = build_referece(trn_rec)"
   ]
  },
  {
   "cell_type": "code",
   "execution_count": null,
   "metadata": {
    "hidden": true
   },
   "outputs": [],
   "source": [
    "trn_idx.sample(3)"
   ]
  },
  {
   "cell_type": "code",
   "execution_count": null,
   "metadata": {
    "hidden": true
   },
   "outputs": [],
   "source": [
    "trn_idx.experiment.value_counts().plot.bar();"
   ]
  },
  {
   "cell_type": "code",
   "execution_count": null,
   "metadata": {
    "hidden": true
   },
   "outputs": [],
   "source": [
    "trn_idx.plate.value_counts().plot.barh();"
   ]
  },
  {
   "cell_type": "code",
   "execution_count": null,
   "metadata": {
    "hidden": true
   },
   "outputs": [],
   "source": [
    "trn_idx.cell_type.value_counts(normalize=True).plot.barh();"
   ]
  },
  {
   "cell_type": "markdown",
   "metadata": {},
   "source": [
    "## Cell Type Classifier"
   ]
  },
  {
   "cell_type": "code",
   "execution_count": 4,
   "metadata": {},
   "outputs": [],
   "source": [
    "#export\n",
    "import torch\n",
    "import torch.nn as nn \n",
    "from torch.optim.lr_scheduler import CosineAnnealingWarmRestarts\n",
    "from torch.utils.data import DataLoader\n",
    "import torchvision.transforms as T\n",
    "import pretrainedmodels\n",
    "from sklearn.preprocessing import LabelEncoder\n",
    "from tqdm import tqdm_notebook as tqdm\n",
    "\n",
    "from catalyst.dl import SupervisedRunner\n",
    "from catalyst.contrib.schedulers import OneCycleLR\n",
    "from catalyst.contrib.modules import GlobalConcatPool2d\n",
    "from catalyst.dl.callbacks import AccuracyCallback, AUCCallback"
   ]
  },
  {
   "cell_type": "code",
   "execution_count": null,
   "metadata": {},
   "outputs": [],
   "source": [
    "#export\n",
    "import os\n",
    "os.environ['CUDA_VISIBLE_DEVICES'] = '1'"
   ]
  },
  {
   "cell_type": "code",
   "execution_count": null,
   "metadata": {},
   "outputs": [],
   "source": [
    "#export\n",
    "def encode(train, test):\n",
    "    enc = LabelEncoder()\n",
    "    train_labels = [x['cell_type'] for x in train]\n",
    "    enc.fit(train_labels)\n",
    "    enc_train_labels = enc.transform(train_labels)\n",
    "    for train_record, train_label in zip(train, enc_train_labels):\n",
    "        train_record['cell_type_enc'] = train_label\n",
    "    for test_record in test:\n",
    "        test_record['cell_type_enc'] = 0\n",
    "    return enc"
   ]
  },
  {
   "cell_type": "code",
   "execution_count": null,
   "metadata": {},
   "outputs": [],
   "source": [
    "#export\n",
    "from catalyst.dl.core import Callback\n",
    "from visdom import Visdom\n",
    "from pdb import set_trace\n",
    "\n",
    "\n",
    "class VisdomCallback(Callback):\n",
    "    \n",
    "    def __init__(self, \n",
    "                 username='username', password='password', \n",
    "                 host='0.0.0.0', port=9090, use_env_creds=False):\n",
    "        \"\"\"\n",
    "        Args:\n",
    "            username (str): Visdom server username.\n",
    "            password (str): Visdom server password.\n",
    "            host (str): Visdom server address.\n",
    "            port (int): Visdom server port.\n",
    "            use_env_creds (bool): If True, then ignore credentials\n",
    "                passed as __init__ parameters and use Visdom \n",
    "                environment variables instead.\n",
    "        \"\"\"\n",
    "        \n",
    "        super().__init__()\n",
    "\n",
    "        if use_env_creds:\n",
    "            username = os.environ['VISDOM_USERNAME']\n",
    "            password = os.environ['VISDOM_PASSWORD']\n",
    "            \n",
    "        self.vis = Visdom(\n",
    "            username=username, password=password,\n",
    "            server=host, port=port)        \n",
    "\n",
    "        \n",
    "class BatchMetricsPlotCallback(VisdomCallback):\n",
    "\n",
    "    def on_batch_end(self, state):\n",
    "        for k, v in state.metrics.batch_values.items():\n",
    "            self.vis.line(X=[state.step], Y=[v], win=k, name=k, \n",
    "                          update='append', opts=dict(title=k))\n",
    "            \n",
    "            \n",
    "class EpochMetricsPlotCallback(VisdomCallback):\n",
    "    \n",
    "    def on_epoch_end(self, state):\n",
    "        for k, v in state.metrics.batch_values.items():\n",
    "            self.vis.line(X=[state.step], Y=[v], win=k, name=k,\n",
    "                          update='append', opts=dict(title=k))"
   ]
  },
  {
   "cell_type": "code",
   "execution_count": null,
   "metadata": {},
   "outputs": [],
   "source": [
    "#export\n",
    "batch_size = 600\n",
    "bunch = DataBunch(\n",
    "    targets_key='cell_type_enc', \n",
    "    stats={'mean': (0.5,), 'std': (0.5,)},\n",
    "    channels_mode='six')\n",
    "trn_rec, tst_rec = load_data()\n",
    "encoder = encode(trn_rec, tst_rec)\n",
    "datasets = bunch.create(trn_rec, tst_rec, batch_size=batch_size)\n",
    "test_dl = datasets.pop('test')"
   ]
  },
  {
   "cell_type": "code",
   "execution_count": 5,
   "metadata": {},
   "outputs": [],
   "source": [
    "#export\n",
    "def build_model():\n",
    "    model = pretrainedmodels.resnet50()\n",
    "    model.avgpool = GlobalConcatPool2d()\n",
    "    model.last_linear = nn.Sequential(\n",
    "        nn.Linear(4096, 2048),\n",
    "        nn.Dropout(0.5),\n",
    "        nn.ReLU(inplace=True),\n",
    "        nn.Linear(2048, 1024),\n",
    "        nn.ReLU(inplace=True),\n",
    "        nn.Dropout(0.5),\n",
    "        nn.Linear(1024, 4)\n",
    "    )\n",
    "    conv1 = model.conv1\n",
    "    new_conv = nn.Conv2d(6, 64, 7, 2, 3, bias=False)\n",
    "    new_conv.weight.data[:,0:3,:] = conv1.weight.data.clone()\n",
    "    new_conv.weight.data[:,3:6,:] = conv1.weight.data.clone()\n",
    "    model.conv1 = new_conv\n",
    "    del conv1\n",
    "    return model\n",
    "    \n",
    "def freeze_all(model):\n",
    "    for param in model.parameters():\n",
    "        param.requires_grad = False\n",
    "        \n",
    "def unfreeze_head(model):\n",
    "    for param in model.last_linear.parameters():\n",
    "        param.requires_grad = True"
   ]
  },
  {
   "cell_type": "code",
   "execution_count": null,
   "metadata": {},
   "outputs": [],
   "source": [
    "#export\n",
    "epochs = 3\n",
    "model = build_model()\n",
    "freeze_all(model)\n",
    "unfreeze_head(model)\n",
    "opt = torch.optim.AdamW(model.parameters(), lr=1e-3, weight_decay=0.1)\n",
    "sched = CosineAnnealingWarmRestarts(opt, T_0=len(datasets['train']), T_mult=2, eta_min=1e-6)\n",
    "loss_fn = nn.CrossEntropyLoss()\n",
    "runner = SupervisedRunner()"
   ]
  },
  {
   "cell_type": "code",
   "execution_count": null,
   "metadata": {},
   "outputs": [],
   "source": [
    "#export\n",
    "runner.train(\n",
    "    model=model,\n",
    "    num_epochs=epochs,\n",
    "    criterion=loss_fn,\n",
    "    optimizer=opt,\n",
    "    scheduler=sched,\n",
    "    logdir='/tmp/cell_type/',\n",
    "    loaders=datasets,\n",
    "    callbacks=[\n",
    "        AccuracyCallback(num_classes=4),\n",
    "        BatchMetricsPlotCallback(use_env_creds=True),\n",
    "        EpochMetricsPlotCallback(use_env_creds=True)\n",
    "    ],\n",
    "    verbose=True\n",
    ")"
   ]
  },
  {
   "cell_type": "code",
   "execution_count": null,
   "metadata": {},
   "outputs": [],
   "source": [
    "!python -m jupytools export -nb \"00c_visualization.ipynb\" -o . "
   ]
  },
  {
   "cell_type": "markdown",
   "metadata": {},
   "source": [
    "## Predict Features"
   ]
  },
  {
   "cell_type": "code",
   "execution_count": 6,
   "metadata": {},
   "outputs": [],
   "source": [
    "best_checkpoint = torch.load('/tmp/cell_type/checkpoints/best.pth')"
   ]
  },
  {
   "cell_type": "code",
   "execution_count": null,
   "metadata": {},
   "outputs": [],
   "source": [
    "# map_location=lambda storage, loc: storage"
   ]
  },
  {
   "cell_type": "code",
   "execution_count": 7,
   "metadata": {},
   "outputs": [],
   "source": [
    "model = build_model()\n",
    "freeze_all(model)\n",
    "model.load_state_dict(best_checkpoint['model_state_dict'])\n",
    "model.last_linear = nn.Sequential(*model.last_linear[:-3])\n",
    "model = model.to('cuda:1')"
   ]
  },
  {
   "cell_type": "code",
   "execution_count": 18,
   "metadata": {},
   "outputs": [],
   "source": [
    "trn_rec, tst_rec = load_data()\n",
    "rec = trn_rec + tst_rec\n",
    "enc = LabelEncoder()\n",
    "y = enc.fit_transform([r['cell_type'] for r in rec])\n",
    "for r, target in zip(rec, y):\n",
    "    r['cell_type_enc'] = target\n",
    "ds = RxRxDataset(\n",
    "    items=rec,\n",
    "    onehot=False, \n",
    "    drop_meta=False,\n",
    "    channels_mode='six',\n",
    "    tr=T.Compose([\n",
    "        T.Resize(224),\n",
    "        T.ToTensor(),\n",
    "        T.Normalize((0.5,), (0.5,))\n",
    "    ])\n",
    ")\n",
    "dl = DataLoader(ds, shuffle=True, batch_size=500, num_workers=12)"
   ]
  },
  {
   "cell_type": "code",
   "execution_count": 19,
   "metadata": {},
   "outputs": [],
   "source": [
    "for b in dl:\n",
    "    out = model(b['features'].to('cuda:1'))\n",
    "    break"
   ]
  },
  {
   "cell_type": "code",
   "execution_count": 20,
   "metadata": {},
   "outputs": [
    {
     "data": {
      "text/plain": [
       "torch.Size([500, 1024])"
      ]
     },
     "execution_count": 20,
     "metadata": {},
     "output_type": "execute_result"
    }
   ],
   "source": [
    "out.shape"
   ]
  },
  {
   "cell_type": "code",
   "execution_count": 33,
   "metadata": {},
   "outputs": [],
   "source": [
    "from sklearn.cluster import KMeans\n",
    "from sklearn.decomposition import PCA"
   ]
  },
  {
   "cell_type": "code",
   "execution_count": 23,
   "metadata": {},
   "outputs": [],
   "source": [
    "arr = out.detach().cpu().numpy()"
   ]
  },
  {
   "cell_type": "code",
   "execution_count": 32,
   "metadata": {},
   "outputs": [],
   "source": [
    "cluster = KMeans(n_clusters=4, n_jobs=12)\n",
    "cluster.fit(arr)\n",
    "clusters = cluster.predict(arr)"
   ]
  },
  {
   "cell_type": "code",
   "execution_count": 34,
   "metadata": {},
   "outputs": [],
   "source": [
    "pca = PCA(n_components=2).fit(arr)"
   ]
  },
  {
   "cell_type": "code",
   "execution_count": 38,
   "metadata": {},
   "outputs": [],
   "source": [
    "pca_data = pca.transform(arr)"
   ]
  },
  {
   "cell_type": "code",
   "execution_count": 41,
   "metadata": {},
   "outputs": [
    {
     "data": {
      "text/plain": [
       "<matplotlib.collections.PathCollection at 0x7fcd104021d0>"
      ]
     },
     "execution_count": 41,
     "metadata": {},
     "output_type": "execute_result"
    },
    {
     "data": {
      "image/png": "[encoded data removed]",
      "text/plain": [
       "<Figure size 432x288 with 1 Axes>"
      ]
     },
     "metadata": {
      "needs_background": "light"
     },
     "output_type": "display_data"
    }
   ],
   "source": [
    "plt.scatter(pca_data[:, 0], pca_data[:, 1], c=clusters)"
   ]
  },
  {
   "cell_type": "code",
   "execution_count": 42,
   "metadata": {},
   "outputs": [
    {
     "name": "stdout",
     "output_type": "stream",
     "text": [
      "Requirement already satisfied: bokeh in /home/ck/anaconda3/envs/fastai_10/lib/python3.7/site-packages (1.0.4)\n",
      "Requirement already satisfied: PyYAML>=3.10 in /home/ck/anaconda3/envs/fastai_10/lib/python3.7/site-packages (from bokeh) (3.13)\n",
      "Requirement already satisfied: six>=1.5.2 in /home/ck/anaconda3/envs/fastai_10/lib/python3.7/site-packages (from bokeh) (1.12.0)\n",
      "Requirement already satisfied: tornado>=4.3 in /home/ck/anaconda3/envs/fastai_10/lib/python3.7/site-packages (from bokeh) (5.1.1)\n",
      "Requirement already satisfied: pillow>=4.0 in /home/ck/anaconda3/envs/fastai_10/lib/python3.7/site-packages (from bokeh) (6.0.0)\n",
      "Requirement already satisfied: Jinja2>=2.7 in /home/ck/anaconda3/envs/fastai_10/lib/python3.7/site-packages (from bokeh) (2.10)\n",
      "Requirement already satisfied: python-dateutil>=2.1 in /home/ck/anaconda3/envs/fastai_10/lib/python3.7/site-packages (from bokeh) (2.7.3)\n",
      "Requirement already satisfied: packaging>=16.8 in /home/ck/anaconda3/envs/fastai_10/lib/python3.7/site-packages (from bokeh) (19.0)\n",
      "Requirement already satisfied: numpy>=1.7.1 in /home/ck/anaconda3/envs/fastai_10/lib/python3.7/site-packages (from bokeh) (1.17.0)\n",
      "Requirement already satisfied: MarkupSafe>=0.23 in /home/ck/anaconda3/envs/fastai_10/lib/python3.7/site-packages (from Jinja2>=2.7->bokeh) (1.0)\n",
      "Requirement already satisfied: pyparsing>=2.0.2 in /home/ck/anaconda3/envs/fastai_10/lib/python3.7/site-packages (from packaging>=16.8->bokeh) (2.2.2)\n"
     ]
    }
   ],
   "source": [
    "!pip install bokeh"
   ]
  },
  {
   "cell_type": "code",
   "execution_count": 43,
   "metadata": {},
   "outputs": [],
   "source": [
    "from math import sin\n",
    "from random import random\n",
    "\n",
    "from bokeh.io import output_file, show\n",
    "from bokeh.models import ColumnDataSource, HoverTool, LinearColorMapper\n",
    "from bokeh.palettes import plasma\n",
    "from bokeh.plotting import figure\n",
    "from bokeh.transform import transform\n",
    "\n",
    "list_x = list(range(100))\n",
    "list_y = [random() + sin(i / 20) for i in range(100)]\n",
    "desc = [str(i) for i in list_y]\n",
    "\n",
    "source = ColumnDataSource(data=dict(x=list_x, y=list_y, desc=desc))\n",
    "hover = HoverTool(tooltips=[\n",
    "    (\"index\", \"$index\"),\n",
    "    (\"(x,y)\", \"(@x, @y)\"),\n",
    "    ('desc', '@desc'),\n",
    "])\n",
    "mapper = LinearColorMapper(palette=plasma(256), low=min(list_y), high=max(list_y))\n",
    "\n",
    "p = figure(plot_width=400, plot_height=400, tools=[hover], title=\"Belgian test\")\n",
    "p.circle('x', 'y', size=10, source=source,\n",
    "         fill_color=transform('y', mapper))\n",
    "\n",
    "output_file('test.html')\n",
    "show(p)"
   ]
  },
  {
   "cell_type": "code",
   "execution_count": null,
   "metadata": {},
   "outputs": [],
   "source": []
  },
  {
   "cell_type": "markdown",
   "metadata": {},
   "source": [
    "## Debug"
   ]
  },
  {
   "cell_type": "code",
   "execution_count": null,
   "metadata": {},
   "outputs": [],
   "source": []
  },
  {
   "cell_type": "code",
   "execution_count": null,
   "metadata": {},
   "outputs": [],
   "source": [
    "# def accuracy(y_pred, y_true):\n",
    "#     if len(y_pred.shape) == 1:\n",
    "#         return (y_pred == y_true).float().mean()\n",
    "#     elif len(y_pred.shape) == 2:\n",
    "#         y_pred = y_pred.argmax(dim=1).softmax(dim=1)\n",
    "#         return accuracy(y_pred, y_true)\n",
    "#     raise ValueError(f'unexpected y_pred shape: {y_pred.shape}')"
   ]
  },
  {
   "cell_type": "code",
   "execution_count": null,
   "metadata": {},
   "outputs": [],
   "source": [
    "# DEVICE = torch.device('cuda:1')"
   ]
  },
  {
   "cell_type": "code",
   "execution_count": null,
   "metadata": {},
   "outputs": [],
   "source": [
    "# epochs = 3\n",
    "# model = build_model()\n",
    "# freeze_all(model)\n",
    "# unfreeze_head(model)\n",
    "# opt = torch.optim.AdamW(model.parameters(), lr=1e-3, weight_decay=0.1)\n",
    "# sched = CosineAnnealingWarmRestarts(opt, T_0=len(datasets['train']), T_mult=2, eta_min=1e-6)\n",
    "# loss_fn = nn.CrossEntropyLoss()"
   ]
  },
  {
   "cell_type": "code",
   "execution_count": null,
   "metadata": {},
   "outputs": [],
   "source": [
    "# model = model.to(DEVICE)\n",
    "# for epoch in range(1, epochs+1):\n",
    "#     trn_dl = datasets['train']\n",
    "#     n = len(trn_dl)\n",
    "#     with tqdm(total=n) as bar:\n",
    "#         for i, batch in enumerate(trn_dl):\n",
    "#             opt.zero_grad()\n",
    "#             x, y = [t.to(DEVICE) for t in (batch['features'], batch['targets'])]\n",
    "#             out = model(x)\n",
    "#             loss = loss_fn(out, y)\n",
    "#             loss.backward()\n",
    "#             acc = accuracy(out, y)\n",
    "#             bar.set_prefix(title=f'[epoch:{epoch}/{epochs+1}][batch:{i}/{n}]')\n",
    "#             bar.set_postfix(f'acc:{acc:2.2%}')\n",
    "#             opt.step()\n",
    "#             sched.step()\n",
    "#             bar.update(1)\n",
    "#             break\n",
    "#     break"
   ]
  },
  {
   "cell_type": "code",
   "execution_count": null,
   "metadata": {},
   "outputs": [],
   "source": []
  }
 ],
 "metadata": {
  "kernelspec": {
   "display_name": "fastai (cuda 10)",
   "language": "python",
   "name": "fastai"
  },
  "language_info": {
   "codemirror_mode": {
    "name": "ipython",
    "version": 3
   },
   "file_extension": ".py",
   "mimetype": "text/x-python",
   "name": "python",
   "nbconvert_exporter": "python",
   "pygments_lexer": "ipython3",
   "version": "3.7.3"
  },
  "toc": {
   "base_numbering": 1,
   "nav_menu": {},
   "number_sections": true,
   "sideBar": true,
   "skip_h1_title": false,
   "title_cell": "Table of Contents",
   "title_sidebar": "Contents",
   "toc_cell": false,
   "toc_position": {},
   "toc_section_display": true,
   "toc_window_display": false
  }
 },
 "nbformat": 4,
 "nbformat_minor": 2
}
