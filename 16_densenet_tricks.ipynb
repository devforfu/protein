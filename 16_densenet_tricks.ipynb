{
 "cells": [
  {
   "cell_type": "code",
   "execution_count": 2,
   "metadata": {},
   "outputs": [
    {
     "name": "stdout",
     "output_type": "stream",
     "text": [
      "Exported: 16_densenet_tricks.ipynb -> densenet_tricks.py\r\n",
      "1 notebook(s) exported into folder: .\r\n"
     ]
    }
   ],
   "source": [
    "!python -m jupytools export -nb \"16_densenet_tricks.ipynb\" -o .\n",
    "!mv densenet_tricks.py densenet121_with_tricks.py"
   ]
  },
  {
   "cell_type": "code",
   "execution_count": 1,
   "metadata": {},
   "outputs": [],
   "source": [
    "%reload_ext autoreload\n",
    "%autoreload 2"
   ]
  },
  {
   "cell_type": "code",
   "execution_count": 2,
   "metadata": {},
   "outputs": [],
   "source": [
    "# https://www.kaggle.com/tanlikesmath/rcic-fastai-starter"
   ]
  },
  {
   "cell_type": "markdown",
   "metadata": {},
   "source": [
    "## Imports "
   ]
  },
  {
   "cell_type": "code",
   "execution_count": 3,
   "metadata": {},
   "outputs": [],
   "source": [
    "#export\n",
    "from collections import OrderedDict\n",
    "import json\n",
    "import os\n",
    "from os.path import dirname, join\n",
    "from functools import reduce\n",
    "from pdb import set_trace\n",
    "\n",
    "import cv2 as cv\n",
    "import jupytools\n",
    "import jupytools.syspath\n",
    "import numpy as np\n",
    "import pandas as pd\n",
    "import PIL.Image\n",
    "import matplotlib.pyplot as plt\n",
    "\n",
    "from catalyst.utils import get_one_hot\n",
    "from imageio import imread\n",
    "import pretrainedmodels\n",
    "import torch\n",
    "import torch.nn as nn\n",
    "from torch.utils.data import Dataset, DataLoader\n",
    "from visdom import Visdom\n",
    "\n",
    "jupytools.syspath.add(join(dirname(os.getcwd()), 'protein_project'))\n",
    "jupytools.syspath.add('rxrx1-utils')\n",
    "if jupytools.is_notebook():\n",
    "    from tqdm import tqdm_notebook as tqdm\n",
    "else:\n",
    "    from tqdm import tqdm as tdqm\n",
    "    \n",
    "from basedir import ROOT, NUM_CLASSES\n",
    "from dataset import build_stats_index\n",
    "from lookahead import Lookahead"
   ]
  },
  {
   "cell_type": "code",
   "execution_count": 4,
   "metadata": {},
   "outputs": [],
   "source": [
    "#export\n",
    "torch.set_default_tensor_type(torch.FloatTensor)"
   ]
  },
  {
   "cell_type": "markdown",
   "metadata": {},
   "source": [
    "## Dataset Reader"
   ]
  },
  {
   "cell_type": "code",
   "execution_count": 5,
   "metadata": {},
   "outputs": [],
   "source": [
    "#export\n",
    "from augmentation import JoinChannels, SwapChannels, Resize, ToFloat, Rescale\n",
    "from augmentation import VerticalFlip, HorizontalFlip, PixelStatsNorm, composer\n",
    "from augmentation import UnconditionalTransform\n",
    "from augmentation import AugmentedImages, bernoulli"
   ]
  },
  {
   "cell_type": "code",
   "execution_count": 6,
   "metadata": {},
   "outputs": [],
   "source": [
    "#export\n",
    "default_open_fn = imread  # PIL.Image.open"
   ]
  },
  {
   "cell_type": "code",
   "execution_count": 7,
   "metadata": {},
   "outputs": [],
   "source": [
    "#export\n",
    "class RxRxDataset(Dataset):\n",
    "    \n",
    "    def __init__(self, meta_df, img_dir, sites=(1, 2), channels=(1, 2, 3, 4, 5, 6),\n",
    "                open_image=default_open_fn, n_classes=NUM_CLASSES, train=True,\n",
    "                flip_v=0.1, flip_h=0.1, resize=512, norm=True, rescale=False,\n",
    "                crop=False, hat=False, sigma_clip=False, label_smoothing=0.0):\n",
    "        \n",
    "        # data\n",
    "        self.records = meta_df.to_records(index=False)\n",
    "        self.img_dir = img_dir\n",
    "        self.sites = sites\n",
    "        self.channels = channels\n",
    "        self.n = len(self.records)\n",
    "        self.open_image = open_image\n",
    "        self.n_classes = n_classes\n",
    "        self.train = train\n",
    "        \n",
    "        # options\n",
    "        self.flip_v = flip_v\n",
    "        self.flip_h = flip_h\n",
    "        self.resize = resize\n",
    "        self.norm = norm\n",
    "        self.rescale = rescale\n",
    "        self.crop = crop\n",
    "        self.hat = hat\n",
    "        self.sigma_clip = sigma_clip\n",
    "        self.label_smoothing = label_smoothing\n",
    "    \n",
    "    def __getitem__(self, index):\n",
    "        samples = {f'site{site}': self._get_site_image(index, site) for site in self.sites}\n",
    "        return samples\n",
    "    \n",
    "    def __len__(self):\n",
    "        return self.n\n",
    "    \n",
    "    def _get_image_path(self, index, channel, site):\n",
    "        r = self.records[index]\n",
    "        exp, plate, well = r.experiment, r.plate, r.well\n",
    "        subdir = 'train' if self.train else 'test'\n",
    "        path = f'{self.img_dir}/{subdir}/{exp}/Plate{plate}/{well}_s{site}_w{channel}.png'\n",
    "        return path\n",
    "        \n",
    "    def _get_site_image(self, index, site):\n",
    "        paths = [self._get_image_path(index, ch, site) for ch in self.channels]\n",
    "        images = [self.open_image(p) for p in paths]\n",
    "        image = self._concat(images)\n",
    "        image = self._augment(image)\n",
    "        sample = self._wrap_with_meta(image, self.records[index])\n",
    "        sample['site'] = site\n",
    "        return sample\n",
    "        \n",
    "    def _wrap_with_meta(self, image, meta):\n",
    "        if self.train:\n",
    "            sirna = meta.sirna\n",
    "            target = int(sirna)\n",
    "            onehot = get_one_hot(target, num_classes=self.n_classes,\n",
    "                                 smoothing=self.label_smoothing)\n",
    "            return {'features': image, 'targets': target, 'targets_one_hot': onehot,\n",
    "                    'id_code': meta.id_code}\n",
    "        else:\n",
    "            return {'features': image, 'id_code': meta.id_code}\n",
    "        \n",
    "    def _concat(self, images):\n",
    "        try:\n",
    "            img = np.stack(images)\n",
    "        except (TypeError, ValueError) as e:\n",
    "            print(f'Warning: cannot concatenate images! {e.__class__.__name__}: {e}')\n",
    "            for filename, image in zip(paths, images):\n",
    "                print(f'\\tpath={filename}, size={image.size}')\n",
    "            index = (index + 1) % len(self)\n",
    "            print(f'Skipping instance {index} and trying another one...')\n",
    "            return self[index]\n",
    "        finally:\n",
    "            for image in images:\n",
    "                if hasattr(image, 'close'):\n",
    "                    image.close()\n",
    "        return img\n",
    "                    \n",
    "    def _augment(self, image):\n",
    "        # OpenCV channels ordering\n",
    "        image = image.transpose(1, 2, 0)  # W x H x C\n",
    "        if self.resize:\n",
    "            image = cv.resize(image, (self.resize, self.resize))\n",
    "        if self.crop:\n",
    "            assert isinstance(self.crop, int), 'If crop provided, it should be integer'\n",
    "            assert self.crop < self.resize, 'Crop should be smaller than image size'\n",
    "            shift = np.random.randint(0, self.resize - self.crop - 1)\n",
    "            image = image[shift:(shift+self.crop), shift:(shift+self.crop), :]\n",
    "        if self.flip_v:\n",
    "            if bernoulli(self.flip_v) == 1:\n",
    "                image = cv.flip(image, 0)\n",
    "        if self.flip_h:\n",
    "            if bernoulli(self.flip_h) == 1:\n",
    "                image = cv.flip(image, 1)\n",
    "        if self.hat:\n",
    "            kernel = np.ones(self.hat, np.uint8)\n",
    "            image = cv.morphologyEx(image, cv.MORPH_TOPHAT, self.hat)\n",
    "        image = image.astype(np.float32)\n",
    "        if self.rescale:\n",
    "            image /= 255\n",
    "        if self.norm:\n",
    "            mean, std = image.mean(axis=(0, 1)), image.std(axis=(0, 1))\n",
    "            image = (image - mean)/(std + 1e-8)\n",
    "        if self.sigma_clip:\n",
    "            image = np.clip(image, -self.sigma_clip, self.sigma_clip)\n",
    "        image = image.transpose(2, 0, 1)  # C x W x H\n",
    "        return image"
   ]
  },
  {
   "cell_type": "markdown",
   "metadata": {},
   "source": [
    "## Pipeline Preparation"
   ]
  },
  {
   "cell_type": "code",
   "execution_count": 8,
   "metadata": {},
   "outputs": [],
   "source": [
    "#export\n",
    "from split import StratifiedSplit\n",
    "splitter = StratifiedSplit()\n",
    "trn_df, val_df = splitter(pd.read_csv(ROOT/'train.csv')) \n",
    "tst_df = pd.read_csv(ROOT/'test.csv')"
   ]
  },
  {
   "cell_type": "code",
   "execution_count": 9,
   "metadata": {},
   "outputs": [],
   "source": [
    "trn_df = trn_df.head(100)\n",
    "val_df = val_df.head(100)"
   ]
  },
  {
   "cell_type": "code",
   "execution_count": 10,
   "metadata": {},
   "outputs": [],
   "source": [
    "#export\n",
    "sz = 512\n",
    "\n",
    "trn_ds = RxRxDataset(\n",
    "    trn_df, ROOT,\n",
    "    crop=384, resize=sz, hat=(128, 128), norm=True, sigma_clip=5.0, label_smoothing=0.1)\n",
    "\n",
    "val_ds = RxRxDataset(\n",
    "    val_df, ROOT,\n",
    "    crop=384, resize=sz, hat=(128, 128), norm=True, sigma_clip=5.0, label_smoothing=None)"
   ]
  },
  {
   "cell_type": "code",
   "execution_count": 11,
   "metadata": {},
   "outputs": [],
   "source": [
    "#export\n",
    "def new_loader(ds, bs, drop_last=False, shuffle=True, num_workers=12):\n",
    "    return DataLoader(ds, batch_size=bs, drop_last=drop_last, \n",
    "                      shuffle=shuffle, num_workers=num_workers)"
   ]
  },
  {
   "cell_type": "markdown",
   "metadata": {},
   "source": [
    "## Model"
   ]
  },
  {
   "cell_type": "code",
   "execution_count": 12,
   "metadata": {},
   "outputs": [],
   "source": [
    "#export\n",
    "def densenet(name='densenet121', n_classes=NUM_CLASSES):\n",
    "    model_fn = pretrainedmodels.__dict__[name]\n",
    "    model = model_fn(num_classes=1000, pretrained='imagenet')\n",
    "    new_conv = nn.Conv2d(6, 64, 7, 2, 3, bias=False)\n",
    "    conv0 = model.features.conv0.weight\n",
    "    with torch.no_grad():\n",
    "        new_conv.weight[:, :] = torch.stack([torch.mean(conv0, 1)]*6, dim=1)\n",
    "    model.features.conv0 = new_conv\n",
    "    return model"
   ]
  },
  {
   "cell_type": "code",
   "execution_count": 13,
   "metadata": {},
   "outputs": [],
   "source": [
    "#export\n",
    "from catalyst.contrib.modules import GlobalConcatPool2d\n",
    "class DenseNet_TwoSites(nn.Module):\n",
    "    def __init__(self, name, n_classes=NUM_CLASSES):\n",
    "        super().__init__()\n",
    "        \n",
    "        base = densenet(name=name, n_classes=n_classes)\n",
    "        feat_dim = base.last_linear.in_features\n",
    "        \n",
    "        self.base = base \n",
    "        self.pool = GlobalConcatPool2d()\n",
    "        self.head = nn.Sequential(\n",
    "            nn.Linear(feat_dim * 2, feat_dim * 2),\n",
    "            nn.BatchNorm1d(feat_dim * 2),\n",
    "            nn.ReLU(inplace=True),\n",
    "            nn.Dropout(0.25),\n",
    "            nn.Linear(feat_dim * 2, n_classes)\n",
    "        )\n",
    "        \n",
    "    def forward(self, s1, s2):\n",
    "        f1 = self.base.features(s1)\n",
    "        f2 = self.base.features(s2)\n",
    "        f_merged = self.pool(f1 + f2)\n",
    "        out = self.head(f_merged.squeeze())\n",
    "        return out"
   ]
  },
  {
   "cell_type": "code",
   "execution_count": 14,
   "metadata": {},
   "outputs": [],
   "source": [
    "#export\n",
    "def freeze_all(model):\n",
    "    for name, child in model.named_children():\n",
    "        print('Freezing layer:', name)\n",
    "        for param in child.parameters():\n",
    "            param.requires_grad = False"
   ]
  },
  {
   "cell_type": "code",
   "execution_count": 15,
   "metadata": {},
   "outputs": [],
   "source": [
    "#export\n",
    "def unfreeze_all(model):\n",
    "    for name, child in model.named_children():\n",
    "        print('Un-freezing layer:', name)\n",
    "        for param in child.parameters():\n",
    "            param.requires_grad = True"
   ]
  },
  {
   "cell_type": "code",
   "execution_count": 16,
   "metadata": {},
   "outputs": [],
   "source": [
    "#export\n",
    "def unfreeze_layers(model, names):\n",
    "    for name, child in model.named_children():\n",
    "        if name not in names:\n",
    "            continue\n",
    "        print('Un-freezing layer:', name)\n",
    "        for param in child.parameters():\n",
    "            param.requires_grad = True"
   ]
  },
  {
   "cell_type": "code",
   "execution_count": 17,
   "metadata": {},
   "outputs": [],
   "source": [
    "#export\n",
    "from torch.optim.lr_scheduler import _LRScheduler\n",
    "class CosineDecay(_LRScheduler):\n",
    "    def __init__(self, optimizer, total_steps,\n",
    "                 linear_start=0,\n",
    "                 linear_frac=0.1, min_lr=1e-6,\n",
    "                 last_epoch=-1):\n",
    "        \n",
    "        self.optimizer = optimizer\n",
    "        self.total_steps = total_steps\n",
    "        self.linear_start = linear_start\n",
    "        self.linear_frac = linear_frac\n",
    "        self.min_lr = min_lr\n",
    "        self.linear_steps = total_steps * linear_frac\n",
    "        self.cosine_steps = total_steps - self.linear_steps\n",
    "        super().__init__(optimizer, last_epoch)\n",
    "        \n",
    "    def get_lr(self):\n",
    "        step = self.last_epoch\n",
    "        if step <= self.linear_steps:\n",
    "            b = self.linear_start\n",
    "            return [(step/self.linear_steps) * (base_lr - b) + b for base_lr in self.base_lrs]\n",
    "        else:\n",
    "            t = self.last_epoch - self.linear_steps\n",
    "            T = self.cosine_steps\n",
    "            return [self.min_lr + (base_lr - self.min_lr)*(1 + np.cos(t*np.pi/T))/2\n",
    "                    for base_lr in self.base_lrs]"
   ]
  },
  {
   "cell_type": "markdown",
   "metadata": {
    "heading_collapsed": true
   },
   "source": [
    "## Train"
   ]
  },
  {
   "cell_type": "code",
   "execution_count": null,
   "metadata": {
    "hidden": true
   },
   "outputs": [],
   "source": [
    "#export\n",
    "model = DenseNet_TwoSites('densenet121')\n",
    "freeze_all(model)"
   ]
  },
  {
   "cell_type": "code",
   "execution_count": null,
   "metadata": {
    "hidden": true
   },
   "outputs": [],
   "source": [
    "#export\n",
    "from visdom import Visdom"
   ]
  },
  {
   "cell_type": "code",
   "execution_count": null,
   "metadata": {
    "hidden": true
   },
   "outputs": [],
   "source": [
    "#export\n",
    "class RollingLoss:\n",
    "    def __init__(self, smooth=0.98):\n",
    "        self.smooth = smooth\n",
    "        self.prev = 0\n",
    "    def __call__(self, curr, batch_no):\n",
    "        a = self.smooth\n",
    "        avg_loss = a*self.prev + (1 - a)*curr\n",
    "        debias_loss = avg_loss/(1 - a**batch_no)\n",
    "        self.prev = avg_loss\n",
    "        return debias_loss"
   ]
  },
  {
   "cell_type": "code",
   "execution_count": null,
   "metadata": {
    "hidden": true
   },
   "outputs": [],
   "source": [
    "#export\n",
    "def create_loaders(batch_size, drop_last=False):\n",
    "    trn_dl = new_loader(trn_ds, bs=batch_size, drop_last=drop_last, shuffle=True)\n",
    "    val_dl = new_loader(val_ds, bs=batch_size, drop_last=drop_last, shuffle=False)\n",
    "    return OrderedDict([('train', trn_dl), ('valid', val_dl)])"
   ]
  },
  {
   "cell_type": "code",
   "execution_count": null,
   "metadata": {
    "hidden": true
   },
   "outputs": [],
   "source": [
    "#export\n",
    "class Checkpoint:\n",
    "    def __init__(self, output_dir):\n",
    "        if os.path.exists(output_dir):\n",
    "            print('Warning! Output folder already exists.')\n",
    "        os.makedirs(output_dir, exist_ok=True)\n",
    "        self.output_dir = output_dir\n",
    "    \n",
    "    def __call__(self, epoch, **objects):\n",
    "        filename = os.path.join(self.output_dir, f'train.{epoch}.pth')\n",
    "        checkpoint = {}\n",
    "        for k, v in objects.items():\n",
    "            if hasattr(v, 'state_dict'):\n",
    "                v = v.state_dict()\n",
    "            checkpoint[k] = v\n",
    "        torch.save(checkpoint, filename)\n",
    "        return filename"
   ]
  },
  {
   "cell_type": "code",
   "execution_count": null,
   "metadata": {
    "hidden": true
   },
   "outputs": [],
   "source": [
    "#export\n",
    "class LabelSmoothingLoss(nn.Module):\n",
    "    def __init__(self, dim=-1):\n",
    "        super().__init__()\n",
    "        self.dim = dim\n",
    "\n",
    "    def forward(self, preds, one_hot_target):\n",
    "        preds = preds.log_softmax(dim=self.dim)\n",
    "        return torch.mean(torch.sum(-one_hot_target * preds, dim=self.dim))"
   ]
  },
  {
   "cell_type": "code",
   "execution_count": null,
   "metadata": {
    "hidden": true
   },
   "outputs": [],
   "source": [
    "#export\n",
    "# loss_fn = nn.CrossEntropyLoss()\n",
    "loss_fn = LabelSmoothingLoss()\n",
    "device = torch.device('cuda:0')"
   ]
  },
  {
   "cell_type": "code",
   "execution_count": null,
   "metadata": {
    "hidden": true
   },
   "outputs": [],
   "source": [
    "#export\n",
    "epochs = 50\n",
    "patience = 15\n",
    "\n",
    "opt = torch.optim.AdamW(model.parameters(), lr=3e-4)\n",
    "opt = Lookahead(opt)\n",
    "model = model.to(device)\n",
    "rolling_loss = dict(train=RollingLoss(), valid=RollingLoss())\n",
    "steps = dict(train=0, valid=0)\n",
    "\n",
    "trials = 0\n",
    "best_metric = -np.inf\n",
    "history = []\n",
    "stop = False\n",
    "\n",
    "vis = Visdom(server='0.0.0.0', port=9091,\n",
    "             username=os.environ['VISDOM_USERNAME'],\n",
    "             password=os.environ['VISDOM_PASSWORD'])\n",
    "\n",
    "# loaders = create_loaders(batch_size=7)\n",
    "\n",
    "# sched = CosineDecay(opt, total_steps=len(loaders['train']) * epochs, \n",
    "#                     linear_start=1e-6, linear_frac=0.1, min_lr=3e-6)\n",
    "\n",
    "loaders = create_loaders(batch_size=8, drop_last=True)\n",
    "\n",
    "eta_min = 3e-6\n",
    "\n",
    "global_step = 0\n",
    "\n",
    "sched = torch.optim.lr_scheduler.CosineAnnealingWarmRestarts(\n",
    "    opt, T_0=len(loaders['train']), T_mult=2, eta_min=eta_min\n",
    ")\n",
    "\n",
    "checkpoint = Checkpoint('densenet121_with_tricks')\n",
    "\n",
    "for epoch in range(1, epochs+1):\n",
    "    print(f'Epoch [{epoch}/{epochs}]')\n",
    "    \n",
    "    if epoch == 1:\n",
    "        unfreeze_layers(model, ['head'])\n",
    "    elif epoch == 8:\n",
    "        unfreeze_all(model)\n",
    "        sched = CosineDecay(\n",
    "            opt, total_steps=len(loaders['train']) * (epochs - 7), \n",
    "            linear_start=eta_min, linear_frac=0.1, min_lr=3e-6)\n",
    "        global_step = 0\n",
    "    \n",
    "    iteration = dict(epoch=epoch, train_loss=list(), valid_loss=list())\n",
    "    \n",
    "    for name, loader in loaders.items():\n",
    "        is_training = name == 'train'\n",
    "        count = 0\n",
    "        metric = 0.0\n",
    "        \n",
    "        with torch.set_grad_enabled(is_training):\n",
    "            for batch_no, batch in enumerate(loader):\n",
    "                steps[name] += 1\n",
    "                opt.zero_grad()\n",
    "\n",
    "                # y = batch['site1']['targets'].to(device)\n",
    "                y = batch['site1']['targets_one_hot'].to(device)\n",
    "                \n",
    "                out = model(\n",
    "                    batch['site1']['features'].to(device),\n",
    "                    batch['site2']['features'].to(device)\n",
    "                )\n",
    "                \n",
    "                if is_training:\n",
    "                    global_step += 1\n",
    "                    loss = loss_fn(out, y)\n",
    "                    loss.backward()\n",
    "                    opt.step()\n",
    "                    \n",
    "                    if (epoch == 7) and batch_no == (len(loader) - 1):\n",
    "                        pass  # skip\n",
    "                    else:\n",
    "                        sched.step(global_step)\n",
    "                    \n",
    "                    curr_lr = opt.param_groups[0]['lr']\n",
    "                    vis.line(X=[steps[name]], Y=[curr_lr], win='lr', name='lr', update='append')    \n",
    "                \n",
    "                avg_loss = rolling_loss[name](loss.item(), steps[name])\n",
    "                iteration[f'{name}_loss'].append(avg_loss)\n",
    "                y_pred = out.softmax(dim=1).argmax(dim=1)\n",
    "                y_true = batch['site1']['targets'].to(device)\n",
    "                acc = (y_pred == y_true).float().mean().item()\n",
    "                metric += acc\n",
    "                count += len(batch)\n",
    "                vis.line(X=[steps[name]], Y=[avg_loss], name=f'{name}_loss', \n",
    "                         win=f'{name}_loss', update='append', \n",
    "                         opts=dict(title=f'Running Loss [{name}]'))\n",
    "        \n",
    "        metric /= count\n",
    "        iteration[f'{name}_acc'] = metric\n",
    "        vis.line(X=[epoch], Y=[avg_loss], name=f'{name}', win='avg_loss',\n",
    "                 update='append', opts=dict(title='Average Epoch Loss'))\n",
    "        vis.line(X=[epoch], Y=[metric], name=f'{name}', win='accuracy', \n",
    "                 update='append', opts=dict(title=f'Accuracy'))\n",
    "        \n",
    "        last_loss = iteration[f'{name}_loss'][-1]\n",
    "        \n",
    "        print(f'{name} metrics: accuracy={metric:2.3%}, loss={last_loss:.4f}')\n",
    "          \n",
    "        if is_training:\n",
    "            pass\n",
    "          \n",
    "        else:\n",
    "            if metric > best_metric:\n",
    "                trials = 0\n",
    "                best_metric = metric\n",
    "                print('Score improved!')\n",
    "                checkpoint(epoch, model=model, opt=opt)\n",
    "\n",
    "            else:\n",
    "                trials += 1\n",
    "                if trials >= patience:\n",
    "                    stop = True\n",
    "                    break\n",
    "    \n",
    "    history.append(iteration)\n",
    "    \n",
    "    print('-' * 80)\n",
    "    \n",
    "    if stop:\n",
    "        print(f'Early stopping on epoch: {epoch}')\n",
    "        break\n",
    "\n",
    "torch.save(history, f'{checkpoint.output_dir}/history.pth')"
   ]
  },
  {
   "cell_type": "markdown",
   "metadata": {},
   "source": [
    "## Test"
   ]
  },
  {
   "cell_type": "code",
   "execution_count": 18,
   "metadata": {},
   "outputs": [
    {
     "name": "stdout",
     "output_type": "stream",
     "text": [
      "Freezing layer: base\n",
      "Freezing layer: pool\n",
      "Freezing layer: head\n"
     ]
    }
   ],
   "source": [
    "device = torch.device('cuda:0')\n",
    "model = DenseNet_TwoSites('densenet121')\n",
    "model = model.to(device)\n",
    "state = torch.load('densenet121_with_tricks/train.30.pth', map_location=lambda l, s: l)\n",
    "model.load_state_dict(state['model'])\n",
    "freeze_all(model)\n",
    "_ = model.eval()"
   ]
  },
  {
   "cell_type": "code",
   "execution_count": 22,
   "metadata": {},
   "outputs": [],
   "source": [
    "tst_ds = RxRxDataset(\n",
    "    tst_df, ROOT,\n",
    "    crop=384, resize=sz, hat=(128, 128), norm=True, sigma_clip=5.0, \n",
    "    label_smoothing=None, train=False)"
   ]
  },
  {
   "cell_type": "code",
   "execution_count": 23,
   "metadata": {},
   "outputs": [
    {
     "data": {
      "application/vnd.jupyter.widget-view+json": {
       "model_id": "4cb58e6c94de45c083a8e0373b856625",
       "version_major": 2,
       "version_minor": 0
      },
      "text/plain": [
       "HBox(children=(IntProgress(value=0, max=311), HTML(value='')))"
      ]
     },
     "metadata": {},
     "output_type": "display_data"
    }
   ],
   "source": [
    "with torch.no_grad():\n",
    "    test_dl = new_loader(tst_ds, shuffle=False, bs=64)\n",
    "    probs = {}\n",
    "    for batch in tqdm(test_dl):\n",
    "        s1 = batch['site1']['features']\n",
    "        s2 = batch['site2']['features']\n",
    "        out = model(s1.to(device), s2.to(device))\n",
    "        y_prob = out.softmax(dim=-1).cpu().numpy()\n",
    "        probs.update(dict(zip(batch['site1']['id_code'], y_prob)))"
   ]
  },
  {
   "cell_type": "code",
   "execution_count": 24,
   "metadata": {},
   "outputs": [],
   "source": [
    "(pd.DataFrame(probs)\n",
    " .T\n",
    " .reset_index()\n",
    " .rename(columns={'index': 'id_code'})\n",
    " .to_csv('stacked/test/densenet121_with_tricks.csv', index=False))"
   ]
  },
  {
   "cell_type": "code",
   "execution_count": 25,
   "metadata": {},
   "outputs": [
    {
     "data": {
      "application/vnd.jupyter.widget-view+json": {
       "model_id": "e79e9505351f4897bd24eb77004d397c",
       "version_major": 2,
       "version_minor": 0
      },
      "text/plain": [
       "HBox(children=(IntProgress(value=0, max=571), HTML(value='')))"
      ]
     },
     "metadata": {},
     "output_type": "display_data"
    }
   ],
   "source": [
    "sup_df = pd.read_csv(ROOT/'train.csv')\n",
    "\n",
    "trn_ds = RxRxDataset(\n",
    "    sup_df, ROOT,\n",
    "    crop=384, resize=sz, hat=(128, 128), norm=True, sigma_clip=5.0, label_smoothing=0.1)\n",
    "\n",
    "with torch.no_grad():\n",
    "    test_dl = new_loader(trn_ds, shuffle=False, bs=64)\n",
    "    probs = {}\n",
    "    for batch in tqdm(test_dl):\n",
    "        s1 = batch['site1']['features']\n",
    "        s2 = batch['site2']['features']\n",
    "        out = model(s1.to(device), s2.to(device))\n",
    "        y_prob = out.softmax(dim=-1).cpu().numpy()\n",
    "        probs.update(dict(zip(batch['site1']['id_code'], y_prob)))"
   ]
  },
  {
   "cell_type": "code",
   "execution_count": 26,
   "metadata": {},
   "outputs": [],
   "source": [
    "(pd.DataFrame(probs)\n",
    " .T\n",
    " .reset_index()\n",
    " .rename(columns={'index': 'id_code'})\n",
    " .to_csv('stacked/train/densenet121_with_tricks.csv', index=False))"
   ]
  },
  {
   "cell_type": "code",
   "execution_count": 20,
   "metadata": {},
   "outputs": [],
   "source": [
    "# sz = 512\n",
    "\n",
    "# # TTA\n",
    "# tst_ds = RxRxDataset(\n",
    "#     tst_df, ROOT,\n",
    "#     crop=384, resize=sz, hat=(128, 128), norm=True, sigma_clip=5.0, \n",
    "#     label_smoothing=None, train=False)\n",
    "\n",
    "# tta = []\n",
    "\n",
    "# for i in range(1, 6+1):\n",
    "#     print(f'Round #{i}')\n",
    "    \n",
    "#     with torch.no_grad():\n",
    "#         test_dl = new_loader(tst_ds, shuffle=False, bs=64)\n",
    "#         preds = {}\n",
    "#         for batch in tqdm(test_dl):\n",
    "#             s1 = batch['site1']['features']\n",
    "#             s2 = batch['site2']['features']\n",
    "#             out = model(s1.to(device), s2.to(device))\n",
    "#             y_hat = out.argmax(dim=-1).cpu().numpy()\n",
    "#             preds.update(dict(zip(batch['site1']['id_code'], y_hat.astype(int))))\n",
    "            \n",
    "#     preds_df = pd.DataFrame([\n",
    "#         {'id_code': id_code, 'sirna': sirna} \n",
    "#         for id_code, sirna in preds.items()])\n",
    "    \n",
    "#     tta.append(preds_df)"
   ]
  },
  {
   "cell_type": "code",
   "execution_count": 24,
   "metadata": {},
   "outputs": [
    {
     "data": {
      "text/html": [
       "<div>\n",
       "<style scoped>\n",
       "    .dataframe tbody tr th:only-of-type {\n",
       "        vertical-align: middle;\n",
       "    }\n",
       "\n",
       "    .dataframe tbody tr th {\n",
       "        vertical-align: top;\n",
       "    }\n",
       "\n",
       "    .dataframe thead th {\n",
       "        text-align: right;\n",
       "    }\n",
       "</style>\n",
       "<table border=\"1\" class=\"dataframe\">\n",
       "  <thead>\n",
       "    <tr style=\"text-align: right;\">\n",
       "      <th></th>\n",
       "      <th>id_code</th>\n",
       "      <th>sirna</th>\n",
       "    </tr>\n",
       "  </thead>\n",
       "  <tbody>\n",
       "    <tr>\n",
       "      <th>0</th>\n",
       "      <td>HEPG2-08_1_B03</td>\n",
       "      <td>855</td>\n",
       "    </tr>\n",
       "    <tr>\n",
       "      <th>1</th>\n",
       "      <td>HEPG2-08_1_B04</td>\n",
       "      <td>25</td>\n",
       "    </tr>\n",
       "    <tr>\n",
       "      <th>2</th>\n",
       "      <td>HEPG2-08_1_B05</td>\n",
       "      <td>650</td>\n",
       "    </tr>\n",
       "    <tr>\n",
       "      <th>3</th>\n",
       "      <td>HEPG2-08_1_B06</td>\n",
       "      <td>894</td>\n",
       "    </tr>\n",
       "    <tr>\n",
       "      <th>4</th>\n",
       "      <td>HEPG2-08_1_B07</td>\n",
       "      <td>878</td>\n",
       "    </tr>\n",
       "  </tbody>\n",
       "</table>\n",
       "</div>"
      ],
      "text/plain": [
       "          id_code  sirna\n",
       "0  HEPG2-08_1_B03    855\n",
       "1  HEPG2-08_1_B04     25\n",
       "2  HEPG2-08_1_B05    650\n",
       "3  HEPG2-08_1_B06    894\n",
       "4  HEPG2-08_1_B07    878"
      ]
     },
     "execution_count": 24,
     "metadata": {},
     "output_type": "execute_result"
    }
   ],
   "source": [
    "preds_df = pd.DataFrame([\n",
    "    {'id_code': id_code, 'sirna': sirna} \n",
    "    for id_code, sirna in preds.items()])\n",
    "preds_df.head(5)"
   ]
  },
  {
   "cell_type": "code",
   "execution_count": 25,
   "metadata": {},
   "outputs": [
    {
     "data": {
      "text/plain": [
       "19897"
      ]
     },
     "execution_count": 25,
     "metadata": {},
     "output_type": "execute_result"
    }
   ],
   "source": [
    "len(preds_df)"
   ]
  },
  {
   "cell_type": "code",
   "execution_count": 26,
   "metadata": {},
   "outputs": [
    {
     "data": {
      "text/html": [
       "<a href='densenet121_with_tricks.csv' target='_blank'>densenet121_with_tricks.csv</a><br>"
      ],
      "text/plain": [
       "/home/ck/code/tasks/protein/densenet121_with_tricks.csv"
      ]
     },
     "execution_count": 26,
     "metadata": {},
     "output_type": "execute_result"
    }
   ],
   "source": [
    "filename = 'densenet121_with_tricks.csv'\n",
    "preds_df.to_csv(filename, index=False, columns=['id_code', 'sirna'])\n",
    "from IPython.display import FileLink\n",
    "FileLink(filename)"
   ]
  },
  {
   "cell_type": "code",
   "execution_count": null,
   "metadata": {},
   "outputs": [],
   "source": []
  }
 ],
 "metadata": {
  "kernelspec": {
   "display_name": "fastai (cuda 10)",
   "language": "python",
   "name": "fastai"
  },
  "language_info": {
   "codemirror_mode": {
    "name": "ipython",
    "version": 3
   },
   "file_extension": ".py",
   "mimetype": "text/x-python",
   "name": "python",
   "nbconvert_exporter": "python",
   "pygments_lexer": "ipython3",
   "version": "3.7.3"
  },
  "toc": {
   "base_numbering": 1,
   "nav_menu": {},
   "number_sections": true,
   "sideBar": true,
   "skip_h1_title": false,
   "title_cell": "Table of Contents",
   "title_sidebar": "Contents",
   "toc_cell": false,
   "toc_position": {},
   "toc_section_display": true,
   "toc_window_display": false
  }
 },
 "nbformat": 4,
 "nbformat_minor": 2
}
