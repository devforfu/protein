{
 "cells": [
  {
   "cell_type": "code",
   "execution_count": 1,
   "metadata": {},
   "outputs": [],
   "source": [
    "import os\n",
    "import shutil\n",
    "from IPython.display import FileLinks"
   ]
  },
  {
   "cell_type": "code",
   "execution_count": 2,
   "metadata": {},
   "outputs": [
    {
     "name": "stdout",
     "output_type": "stream",
     "text": [
      "densenet121_224_ce_1linear_adamw_coswr_difflr_es_bs650.csv\r\n",
      "resnet101_224_ce_1linear_adamw_coswr_difflr_e25_bs650.csv\r\n",
      "resnet101_224_focal_1linear_adamw_coswr_difflr_e25_bs650.csv\r\n",
      "resnet34_224_ce_1linear_adamw_coswr_difflr_e25_bs650.csv\r\n",
      "resnet34_224_focal_1linear_adamw_coswr_difflr_e25_bs650.csv\r\n",
      "resnet50_224_ce_1linear_adamw_coswr_difflr_e25_bs650.csv\r\n",
      "resnet50_224_focal_1linear_adamw_coswr_difflr_e25_bs650.csv\r\n"
     ]
    }
   ],
   "source": [
    "tests_output = os.path.expanduser('~/submit/protein')\n",
    "!ls {tests_output}"
   ]
  },
  {
   "cell_type": "code",
   "execution_count": 3,
   "metadata": {},
   "outputs": [
    {
     "data": {
      "text/plain": [
       "['resnet34_224_focal_1linear_adamw_coswr_difflr_e25_bs650.csv',\n",
       " 'resnet50_224_focal_1linear_adamw_coswr_difflr_e25_bs650.csv',\n",
       " 'resnet50_224_ce_1linear_adamw_coswr_difflr_e25_bs650.csv',\n",
       " 'resnet101_224_focal_1linear_adamw_coswr_difflr_e25_bs650.csv',\n",
       " 'resnet34_224_ce_1linear_adamw_coswr_difflr_e25_bs650.csv',\n",
       " 'resnet101_224_ce_1linear_adamw_coswr_difflr_e25_bs650.csv',\n",
       " 'densenet121_224_ce_1linear_adamw_coswr_difflr_es_bs650.csv']"
      ]
     },
     "execution_count": 3,
     "metadata": {},
     "output_type": "execute_result"
    }
   ],
   "source": [
    "submit_dir = 'submissions'\n",
    "os.makedirs(submit_dir, exist_ok=True)\n",
    "for filename in os.listdir(tests_output):\n",
    "    path = os.path.join(tests_output, filename)\n",
    "    shutil.copy(path, f'{submit_dir}/{filename}')\n",
    "os.listdir(submit_dir)"
   ]
  },
  {
   "cell_type": "code",
   "execution_count": 4,
   "metadata": {},
   "outputs": [
    {
     "data": {
      "text/html": [
       "submissions/<br>\n",
       "&nbsp;&nbsp;<a href='submissions/resnet34_224_focal_1linear_adamw_coswr_difflr_e25_bs650.csv' target='_blank'>resnet34_224_focal_1linear_adamw_coswr_difflr_e25_bs650.csv</a><br>\n",
       "&nbsp;&nbsp;<a href='submissions/resnet50_224_focal_1linear_adamw_coswr_difflr_e25_bs650.csv' target='_blank'>resnet50_224_focal_1linear_adamw_coswr_difflr_e25_bs650.csv</a><br>\n",
       "&nbsp;&nbsp;<a href='submissions/resnet50_224_ce_1linear_adamw_coswr_difflr_e25_bs650.csv' target='_blank'>resnet50_224_ce_1linear_adamw_coswr_difflr_e25_bs650.csv</a><br>\n",
       "&nbsp;&nbsp;<a href='submissions/resnet101_224_focal_1linear_adamw_coswr_difflr_e25_bs650.csv' target='_blank'>resnet101_224_focal_1linear_adamw_coswr_difflr_e25_bs650.csv</a><br>\n",
       "&nbsp;&nbsp;<a href='submissions/resnet34_224_ce_1linear_adamw_coswr_difflr_e25_bs650.csv' target='_blank'>resnet34_224_ce_1linear_adamw_coswr_difflr_e25_bs650.csv</a><br>\n",
       "&nbsp;&nbsp;<a href='submissions/resnet101_224_ce_1linear_adamw_coswr_difflr_e25_bs650.csv' target='_blank'>resnet101_224_ce_1linear_adamw_coswr_difflr_e25_bs650.csv</a><br>\n",
       "&nbsp;&nbsp;<a href='submissions/densenet121_224_ce_1linear_adamw_coswr_difflr_es_bs650.csv' target='_blank'>densenet121_224_ce_1linear_adamw_coswr_difflr_es_bs650.csv</a><br>"
      ],
      "text/plain": [
       "submissions/\n",
       "  resnet34_224_focal_1linear_adamw_coswr_difflr_e25_bs650.csv\n",
       "  resnet50_224_focal_1linear_adamw_coswr_difflr_e25_bs650.csv\n",
       "  resnet50_224_ce_1linear_adamw_coswr_difflr_e25_bs650.csv\n",
       "  resnet101_224_focal_1linear_adamw_coswr_difflr_e25_bs650.csv\n",
       "  resnet34_224_ce_1linear_adamw_coswr_difflr_e25_bs650.csv\n",
       "  resnet101_224_ce_1linear_adamw_coswr_difflr_e25_bs650.csv\n",
       "  densenet121_224_ce_1linear_adamw_coswr_difflr_es_bs650.csv"
      ]
     },
     "execution_count": 4,
     "metadata": {},
     "output_type": "execute_result"
    }
   ],
   "source": [
    "FileLinks(submit_dir)"
   ]
  },
  {
   "cell_type": "code",
   "execution_count": null,
   "metadata": {},
   "outputs": [],
   "source": []
  }
 ],
 "metadata": {
  "kernelspec": {
   "display_name": "fastai (cuda 10)",
   "language": "python",
   "name": "fastai"
  },
  "language_info": {
   "codemirror_mode": {
    "name": "ipython",
    "version": 3
   },
   "file_extension": ".py",
   "mimetype": "text/x-python",
   "name": "python",
   "nbconvert_exporter": "python",
   "pygments_lexer": "ipython3",
   "version": "3.7.3"
  },
  "toc": {
   "base_numbering": 1,
   "nav_menu": {},
   "number_sections": true,
   "sideBar": true,
   "skip_h1_title": false,
   "title_cell": "Table of Contents",
   "title_sidebar": "Contents",
   "toc_cell": false,
   "toc_position": {},
   "toc_section_display": true,
   "toc_window_display": false
  }
 },
 "nbformat": 4,
 "nbformat_minor": 2
}
