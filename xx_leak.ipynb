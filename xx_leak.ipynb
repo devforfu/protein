{
 "cells": [
  {
   "cell_type": "code",
   "execution_count": 1,
   "metadata": {},
   "outputs": [],
   "source": [
    "%reload_ext autoreload\n",
    "%autoreload 2"
   ]
  },
  {
   "cell_type": "code",
   "execution_count": 2,
   "metadata": {},
   "outputs": [],
   "source": [
    "import numpy as np\n",
    "import pandas as pd\n",
    "from basedir import ROOT, NUM_CLASSES"
   ]
  },
  {
   "cell_type": "code",
   "execution_count": 3,
   "metadata": {},
   "outputs": [],
   "source": [
    "trn_csv = pd.read_csv(ROOT/'train.csv')\n",
    "tst_csv = pd.read_csv(ROOT/'test.csv')"
   ]
  },
  {
   "cell_type": "code",
   "execution_count": 4,
   "metadata": {},
   "outputs": [],
   "source": [
    "plate_groups = np.zeros((1108,4), int)\n",
    "for sirna in range(1108):\n",
    "    grp = trn_csv.loc[trn_csv.sirna==sirna,:].plate.value_counts().index.values\n",
    "    assert len(grp) == 3\n",
    "    plate_groups[sirna,0:3] = grp\n",
    "    plate_groups[sirna,3] = 10 - grp.sum()"
   ]
  },
  {
   "cell_type": "code",
   "execution_count": 5,
   "metadata": {},
   "outputs": [],
   "source": [
    "sub = pd.read_csv('densenet121_two_way_512.csv')"
   ]
  },
  {
   "cell_type": "code",
   "execution_count": 6,
   "metadata": {},
   "outputs": [],
   "source": [
    "all_test_exp = tst_csv.experiment.unique()\n",
    "\n",
    "group_plate_probs = np.zeros((len(all_test_exp),4))\n",
    "for idx in range(len(all_test_exp)):\n",
    "    preds = sub.loc[tst_csv.experiment == all_test_exp[idx],'sirna'].values\n",
    "    pp_mult = np.zeros((len(preds),1108))\n",
    "    pp_mult[range(len(preds)),preds] = 1\n",
    "    \n",
    "    sub_test = tst_csv.loc[tst_csv.experiment == all_test_exp[idx],:]\n",
    "    assert len(pp_mult) == len(sub_test)\n",
    "    \n",
    "    for j in range(4):\n",
    "        mask = np.repeat(plate_groups[np.newaxis, :, j], len(pp_mult), axis=0) == \\\n",
    "               np.repeat(sub_test.plate.values[:, np.newaxis], 1108, axis=1)\n",
    "        \n",
    "        group_plate_probs[idx,j] = np.array(pp_mult)[mask].sum()/len(pp_mult)"
   ]
  },
  {
   "cell_type": "code",
   "execution_count": 7,
   "metadata": {},
   "outputs": [
    {
     "data": {
      "text/html": [
       "<div>\n",
       "<style scoped>\n",
       "    .dataframe tbody tr th:only-of-type {\n",
       "        vertical-align: middle;\n",
       "    }\n",
       "\n",
       "    .dataframe tbody tr th {\n",
       "        vertical-align: top;\n",
       "    }\n",
       "\n",
       "    .dataframe thead th {\n",
       "        text-align: right;\n",
       "    }\n",
       "</style>\n",
       "<table border=\"1\" class=\"dataframe\">\n",
       "  <thead>\n",
       "    <tr style=\"text-align: right;\">\n",
       "      <th></th>\n",
       "      <th>0</th>\n",
       "      <th>1</th>\n",
       "      <th>2</th>\n",
       "      <th>3</th>\n",
       "    </tr>\n",
       "  </thead>\n",
       "  <tbody>\n",
       "    <tr>\n",
       "      <th>HEPG2-08</th>\n",
       "      <td>0.148148</td>\n",
       "      <td>0.140018</td>\n",
       "      <td>0.174345</td>\n",
       "      <td>0.537489</td>\n",
       "    </tr>\n",
       "    <tr>\n",
       "      <th>HEPG2-09</th>\n",
       "      <td>0.183213</td>\n",
       "      <td>0.416968</td>\n",
       "      <td>0.212996</td>\n",
       "      <td>0.186823</td>\n",
       "    </tr>\n",
       "    <tr>\n",
       "      <th>HEPG2-10</th>\n",
       "      <td>0.611913</td>\n",
       "      <td>0.137184</td>\n",
       "      <td>0.112816</td>\n",
       "      <td>0.138087</td>\n",
       "    </tr>\n",
       "    <tr>\n",
       "      <th>HEPG2-11</th>\n",
       "      <td>0.602170</td>\n",
       "      <td>0.138336</td>\n",
       "      <td>0.122061</td>\n",
       "      <td>0.137432</td>\n",
       "    </tr>\n",
       "    <tr>\n",
       "      <th>HUVEC-17</th>\n",
       "      <td>0.731949</td>\n",
       "      <td>0.076715</td>\n",
       "      <td>0.086643</td>\n",
       "      <td>0.104693</td>\n",
       "    </tr>\n",
       "    <tr>\n",
       "      <th>HUVEC-18</th>\n",
       "      <td>0.585366</td>\n",
       "      <td>0.151762</td>\n",
       "      <td>0.135501</td>\n",
       "      <td>0.127371</td>\n",
       "    </tr>\n",
       "    <tr>\n",
       "      <th>HUVEC-19</th>\n",
       "      <td>0.100181</td>\n",
       "      <td>0.104693</td>\n",
       "      <td>0.678700</td>\n",
       "      <td>0.116426</td>\n",
       "    </tr>\n",
       "    <tr>\n",
       "      <th>HUVEC-20</th>\n",
       "      <td>0.054152</td>\n",
       "      <td>0.046029</td>\n",
       "      <td>0.838448</td>\n",
       "      <td>0.061372</td>\n",
       "    </tr>\n",
       "    <tr>\n",
       "      <th>HUVEC-21</th>\n",
       "      <td>0.120939</td>\n",
       "      <td>0.111011</td>\n",
       "      <td>0.109206</td>\n",
       "      <td>0.658845</td>\n",
       "    </tr>\n",
       "    <tr>\n",
       "      <th>HUVEC-22</th>\n",
       "      <td>0.725632</td>\n",
       "      <td>0.076715</td>\n",
       "      <td>0.110108</td>\n",
       "      <td>0.087545</td>\n",
       "    </tr>\n",
       "    <tr>\n",
       "      <th>HUVEC-23</th>\n",
       "      <td>0.707006</td>\n",
       "      <td>0.090082</td>\n",
       "      <td>0.092812</td>\n",
       "      <td>0.110100</td>\n",
       "    </tr>\n",
       "    <tr>\n",
       "      <th>HUVEC-24</th>\n",
       "      <td>0.089091</td>\n",
       "      <td>0.084545</td>\n",
       "      <td>0.080909</td>\n",
       "      <td>0.745455</td>\n",
       "    </tr>\n",
       "    <tr>\n",
       "      <th>RPE-08</th>\n",
       "      <td>0.168773</td>\n",
       "      <td>0.490975</td>\n",
       "      <td>0.168773</td>\n",
       "      <td>0.171480</td>\n",
       "    </tr>\n",
       "    <tr>\n",
       "      <th>RPE-09</th>\n",
       "      <td>0.601626</td>\n",
       "      <td>0.149955</td>\n",
       "      <td>0.125565</td>\n",
       "      <td>0.122855</td>\n",
       "    </tr>\n",
       "    <tr>\n",
       "      <th>RPE-10</th>\n",
       "      <td>0.574910</td>\n",
       "      <td>0.130866</td>\n",
       "      <td>0.133574</td>\n",
       "      <td>0.160650</td>\n",
       "    </tr>\n",
       "    <tr>\n",
       "      <th>RPE-11</th>\n",
       "      <td>0.576782</td>\n",
       "      <td>0.110603</td>\n",
       "      <td>0.163620</td>\n",
       "      <td>0.148995</td>\n",
       "    </tr>\n",
       "    <tr>\n",
       "      <th>U2OS-04</th>\n",
       "      <td>0.215704</td>\n",
       "      <td>0.212094</td>\n",
       "      <td>0.305957</td>\n",
       "      <td>0.266245</td>\n",
       "    </tr>\n",
       "    <tr>\n",
       "      <th>U2OS-05</th>\n",
       "      <td>0.211486</td>\n",
       "      <td>0.247037</td>\n",
       "      <td>0.219690</td>\n",
       "      <td>0.321787</td>\n",
       "    </tr>\n",
       "  </tbody>\n",
       "</table>\n",
       "</div>"
      ],
      "text/plain": [
       "                 0         1         2         3\n",
       "HEPG2-08  0.148148  0.140018  0.174345  0.537489\n",
       "HEPG2-09  0.183213  0.416968  0.212996  0.186823\n",
       "HEPG2-10  0.611913  0.137184  0.112816  0.138087\n",
       "HEPG2-11  0.602170  0.138336  0.122061  0.137432\n",
       "HUVEC-17  0.731949  0.076715  0.086643  0.104693\n",
       "HUVEC-18  0.585366  0.151762  0.135501  0.127371\n",
       "HUVEC-19  0.100181  0.104693  0.678700  0.116426\n",
       "HUVEC-20  0.054152  0.046029  0.838448  0.061372\n",
       "HUVEC-21  0.120939  0.111011  0.109206  0.658845\n",
       "HUVEC-22  0.725632  0.076715  0.110108  0.087545\n",
       "HUVEC-23  0.707006  0.090082  0.092812  0.110100\n",
       "HUVEC-24  0.089091  0.084545  0.080909  0.745455\n",
       "RPE-08    0.168773  0.490975  0.168773  0.171480\n",
       "RPE-09    0.601626  0.149955  0.125565  0.122855\n",
       "RPE-10    0.574910  0.130866  0.133574  0.160650\n",
       "RPE-11    0.576782  0.110603  0.163620  0.148995\n",
       "U2OS-04   0.215704  0.212094  0.305957  0.266245\n",
       "U2OS-05   0.211486  0.247037  0.219690  0.321787"
      ]
     },
     "execution_count": 7,
     "metadata": {},
     "output_type": "execute_result"
    }
   ],
   "source": [
    "pd.DataFrame(group_plate_probs, index=all_test_exp)"
   ]
  },
  {
   "cell_type": "code",
   "execution_count": 8,
   "metadata": {},
   "outputs": [
    {
     "name": "stdout",
     "output_type": "stream",
     "text": [
      "[3 1 0 0 0 0 2 2 3 0 0 3 1 0 0 0 2 3]\n"
     ]
    }
   ],
   "source": [
    "exp_to_group = group_plate_probs.argmax(1)\n",
    "print(exp_to_group)"
   ]
  },
  {
   "cell_type": "code",
   "execution_count": 14,
   "metadata": {},
   "outputs": [],
   "source": [
    "from augmentation import JoinChannels, SwapChannels, Resize, ToFloat, Rescale\n",
    "from augmentation import VerticalFlip, HorizontalFlip, PixelStatsNorm, composer\n",
    "from augmentation import AugmentedImages, bernoulli\n",
    "from imageio import imread\n",
    "from torch.utils.data import Dataset\n",
    "\n",
    "default_open_fn = imread  # PIL.Image.open\n",
    "\n",
    "class RxRxImages(Dataset):\n",
    "    def __init__(self, meta_df, img_dir, site=1, channels=(1, 2, 3, 4, 5, 6), \n",
    "                 open_image=default_open_fn, n_classes=NUM_CLASSES, train=True):\n",
    "        \n",
    "        self.records = meta_df.to_records(index=False)\n",
    "        self.img_dir = img_dir\n",
    "        self.site = site\n",
    "        self.channels = channels\n",
    "        self.n = len(self.records)\n",
    "        self.open_image = open_image\n",
    "        self.n_classes = n_classes\n",
    "        self.train = train\n",
    "        \n",
    "    def _get_image_path(self, index, channel):\n",
    "        r = self.records[index]\n",
    "        exp, plate, well = r.experiment, r.plate, r.well\n",
    "        subdir = 'train' if self.train else 'test'\n",
    "        path = f'{self.img_dir}/{subdir}/{exp}/Plate{plate}/{well}_s{self.site}_w{channel}.png'\n",
    "        return path\n",
    "    \n",
    "    def __getitem__(self, index):\n",
    "        paths = [self._get_image_path(index, ch) for ch in self.channels]\n",
    "        images = [self.open_image(p) for p in paths]\n",
    "\n",
    "        try:\n",
    "            img = np.stack(images)\n",
    "        except (TypeError, ValueError) as e:\n",
    "            print(f'Warning: cannot concatenate images! {e.__class__.__name__}: {e}')\n",
    "            for filename, image in zip(paths, images):\n",
    "                print(f'\\tpath={filename}, size={image.size}')\n",
    "            index = (index + 1) % len(self)\n",
    "            print(f'Skipping instance {index} and trying another one...')\n",
    "            return self[index]\n",
    "        finally:\n",
    "            for image in images:\n",
    "                if hasattr(image, 'close'):\n",
    "                    image.close()\n",
    "            \n",
    "        img = img.astype(np.float32)\n",
    "        img = img.transpose(1, 2, 0)\n",
    "        r = self.records[index]\n",
    "        if self.train:\n",
    "            sirna = r.sirna\n",
    "            target = int(sirna)\n",
    "            onehot = get_one_hot(target, num_classes=self.n_classes)\n",
    "            return {'features': img, 'targets': target, \n",
    "                    'targets_one_hot': onehot, 'id_code': r.id_code,\n",
    "                    'site': self.site}\n",
    "        else:\n",
    "            id_code = r.id_code\n",
    "            return {'features': img, 'id_code': id_code, 'site': self.site}\n",
    "    \n",
    "    def __len__(self): \n",
    "        return self.n\n",
    "    \n",
    "class TwoSiteImages(Dataset):\n",
    "    def __init__(self, ds1, ds2, swap=0.0):\n",
    "        assert len(ds1) == len(ds2)\n",
    "        self.ds1, self.ds2 = ds1, ds2\n",
    "        self.swap = swap\n",
    "        self.size = len(ds1)\n",
    "        \n",
    "    def __getitem__(self, index):\n",
    "        s1, s2 = self.ds1[index], self.ds2[index]\n",
    "        if self.swap and bernoulli(self.swap) == 1:\n",
    "            s1, s2 = s2, s1\n",
    "        return {'site1': s1, 'site2': s2}\n",
    "    \n",
    "    def __len__(self):\n",
    "        return self.size"
   ]
  },
  {
   "cell_type": "code",
   "execution_count": 22,
   "metadata": {},
   "outputs": [],
   "source": [
    "from catalyst.contrib.modules import GlobalConcatPool2d\n",
    "import pretrainedmodels\n",
    "import torch.nn as nn\n",
    "\n",
    "def densenet(name='densenet121', n_classes=NUM_CLASSES):\n",
    "    model_fn = pretrainedmodels.__dict__[name]\n",
    "    model = model_fn(num_classes=1000, pretrained='imagenet')\n",
    "    new_conv = nn.Conv2d(6, 64, 7, 2, 3, bias=False)\n",
    "    conv0 = model.features.conv0.weight\n",
    "    with torch.no_grad():\n",
    "        new_conv.weight[:, :] = torch.stack([torch.mean(conv0, 1)]*6, dim=1)\n",
    "    model.features.conv0 = new_conv\n",
    "    return model\n",
    "\n",
    "class DenseNet_TwoSites(nn.Module):\n",
    "    def __init__(self, name, n_classes=NUM_CLASSES):\n",
    "        super().__init__()\n",
    "        \n",
    "        base = densenet(name=name, n_classes=n_classes)\n",
    "        feat_dim = base.last_linear.in_features\n",
    "        \n",
    "        self.base = base \n",
    "        self.pool = GlobalConcatPool2d()\n",
    "        self.head = nn.Sequential(\n",
    "            nn.Linear(feat_dim * 2, feat_dim * 2),\n",
    "            nn.BatchNorm1d(feat_dim * 2),\n",
    "            nn.ReLU(inplace=True),\n",
    "            nn.Dropout(0.25),\n",
    "            nn.Linear(feat_dim * 2, n_classes)\n",
    "        )\n",
    "        \n",
    "    def forward(self, s1, s2):\n",
    "        f1 = self.base.features(s1)\n",
    "        f2 = self.base.features(s2)\n",
    "        f_merged = self.pool(f1 + f2)\n",
    "        out = self.head(f_merged.squeeze())\n",
    "        return out\n",
    "    \n",
    "def freeze_all(model):\n",
    "    for name, child in model.named_children():\n",
    "        print('Freezing layer:', name)\n",
    "        for param in child.parameters():\n",
    "            param.requires_grad = False\n",
    "            \n",
    "def unfreeze_all(model):\n",
    "    for name, child in model.named_children():\n",
    "        print('Un-freezing layer:', name)\n",
    "        for param in child.parameters():\n",
    "            param.requires_grad = True\n",
    "            \n",
    "def unfreeze_layers(model, names):\n",
    "    for name, child in model.named_children():\n",
    "        if name not in names:\n",
    "            continue\n",
    "        print('Un-freezing layer:', name)\n",
    "        for param in child.parameters():\n",
    "            param.requires_grad = True"
   ]
  },
  {
   "cell_type": "code",
   "execution_count": 23,
   "metadata": {},
   "outputs": [],
   "source": [
    "from dataset import build_stats_index\n",
    "\n",
    "sz = 512\n",
    "\n",
    "tst_df = pd.read_csv(ROOT/'test.csv')\n",
    "\n",
    "stats = build_stats_index(ROOT/'pixel_stats.csv')\n",
    "\n",
    "tst_ds = TwoSiteImages(\n",
    "    ds1=AugmentedImages(ds=RxRxImages(tst_df, ROOT, site=1, train=False), tr=composer([\n",
    "        PixelStatsNorm(stats, channels_first=False)\n",
    "    ], resize=sz, rescale=False)),\n",
    "    ds2=AugmentedImages(ds=RxRxImages(tst_df, ROOT, site=2, train=False), tr=composer([\n",
    "        PixelStatsNorm(stats, channels_first=False)\n",
    "    ], resize=sz, rescale=False))\n",
    ")"
   ]
  },
  {
   "cell_type": "code",
   "execution_count": 24,
   "metadata": {},
   "outputs": [
    {
     "name": "stdout",
     "output_type": "stream",
     "text": [
      "Freezing layer: base\n",
      "Freezing layer: pool\n",
      "Freezing layer: head\n"
     ]
    }
   ],
   "source": [
    "device = torch.device('cuda:0')\n",
    "model = DenseNet_TwoSites('densenet121')\n",
    "freeze_all(model)\n",
    "\n",
    "model.to(device)\n",
    "state = torch.load('densenet121_15_cw/train.14.pth', map_location=lambda loc, storage: loc)\n",
    "model.load_state_dict(state)\n",
    "_ = model.eval()\n",
    "\n",
    "tst_df = pd.read_csv(ROOT/'test.csv')\n",
    "\n",
    "stats = build_stats_index(ROOT/'pixel_stats.csv')\n",
    "\n",
    "tst_ds = TwoSiteImages(\n",
    "    ds1=AugmentedImages(ds=RxRxImages(tst_df, ROOT, site=1, train=False), tr=composer([\n",
    "        PixelStatsNorm(stats, channels_first=False)\n",
    "    ], resize=sz, rescale=False)),\n",
    "    ds2=AugmentedImages(ds=RxRxImages(tst_df, ROOT, site=2, train=False), tr=composer([\n",
    "        PixelStatsNorm(stats, channels_first=False)\n",
    "    ], resize=sz, rescale=False))\n",
    ")"
   ]
  },
  {
   "cell_type": "code",
   "execution_count": 28,
   "metadata": {},
   "outputs": [],
   "source": [
    "from torch.utils.data import DataLoader"
   ]
  },
  {
   "cell_type": "code",
   "execution_count": 29,
   "metadata": {},
   "outputs": [],
   "source": [
    "def new_loader(ds, bs, drop_last=False, shuffle=True, num_workers=12):\n",
    "    return DataLoader(ds, batch_size=bs, drop_last=drop_last, \n",
    "                      shuffle=shuffle, num_workers=num_workers)"
   ]
  },
  {
   "cell_type": "code",
   "execution_count": 30,
   "metadata": {},
   "outputs": [],
   "source": [
    "from tqdm import tqdm_notebook as tqdm"
   ]
  },
  {
   "cell_type": "code",
   "execution_count": 31,
   "metadata": {},
   "outputs": [
    {
     "data": {
      "application/vnd.jupyter.widget-view+json": {
       "model_id": "7cb99d8418dd4f0090671f733d275846",
       "version_major": 2,
       "version_minor": 0
      },
      "text/plain": [
       "HBox(children=(IntProgress(value=0, max=311), HTML(value='')))"
      ]
     },
     "metadata": {},
     "output_type": "display_data"
    },
    {
     "name": "stdout",
     "output_type": "stream",
     "text": [
      "\n"
     ]
    }
   ],
   "source": [
    "with torch.no_grad():\n",
    "    test_dl = new_loader(tst_ds, bs=64, shuffle=False)\n",
    "    preds = []\n",
    "    for batch in tqdm(test_dl):\n",
    "        s1 = batch['site1']['features']\n",
    "        s2 = batch['site2']['features']\n",
    "        out = model(s1.to(device), s2.to(device))\n",
    "        probs = out.softmax(dim=-1).cpu().numpy()\n",
    "        preds.append(probs)"
   ]
  },
  {
   "cell_type": "code",
   "execution_count": 33,
   "metadata": {},
   "outputs": [],
   "source": [
    "stacked = np.row_stack(preds).squeeze()"
   ]
  },
  {
   "cell_type": "code",
   "execution_count": 34,
   "metadata": {},
   "outputs": [
    {
     "data": {
      "text/plain": [
       "(19897, 1108)"
      ]
     },
     "execution_count": 34,
     "metadata": {},
     "output_type": "execute_result"
    }
   ],
   "source": [
    "stacked.shape"
   ]
  },
  {
   "cell_type": "code",
   "execution_count": 35,
   "metadata": {},
   "outputs": [],
   "source": [
    "def select_plate_group(pp_mult, idx):\n",
    "    sub_test = tst_csv.loc[tst_csv.experiment == all_test_exp[idx],:]\n",
    "    assert len(pp_mult) == len(sub_test)\n",
    "    mask = np.repeat(plate_groups[np.newaxis, :, exp_to_group[idx]], len(pp_mult), axis=0) != \\\n",
    "           np.repeat(sub_test.plate.values[:, np.newaxis], 1108, axis=1)\n",
    "    pp_mult[mask] = 0\n",
    "    return pp_mult"
   ]
  },
  {
   "cell_type": "code",
   "execution_count": 38,
   "metadata": {},
   "outputs": [],
   "source": [
    "sub = sub.set_index('id_code')"
   ]
  },
  {
   "cell_type": "code",
   "execution_count": 39,
   "metadata": {},
   "outputs": [],
   "source": [
    "for idx in range(len(all_test_exp)):\n",
    "    indexes = tst_csv.experiment == all_test_exp[idx]\n",
    "    preds = stacked[indexes, :].copy()\n",
    "    preds = select_plate_group(preds, idx)\n",
    "    sub.loc[tst_csv.id_code[indexes], 'sirna'] = preds.argmax(1)"
   ]
  },
  {
   "cell_type": "code",
   "execution_count": 41,
   "metadata": {},
   "outputs": [],
   "source": [
    "sub = sub.reset_index()"
   ]
  },
  {
   "cell_type": "code",
   "execution_count": 42,
   "metadata": {},
   "outputs": [
    {
     "data": {
      "text/plain": [
       "0.5951651002663718"
      ]
     },
     "execution_count": 42,
     "metadata": {},
     "output_type": "execute_result"
    }
   ],
   "source": [
    "(sub.sirna == pd.read_csv('densenet121_two_way_512.csv').sirna).mean()"
   ]
  },
  {
   "cell_type": "code",
   "execution_count": 43,
   "metadata": {},
   "outputs": [
    {
     "data": {
      "text/html": [
       "<a href='dense_leak.csv' target='_blank'>dense_leak.csv</a><br>"
      ],
      "text/plain": [
       "/home/ck/code/tasks/protein/dense_leak.csv"
      ]
     },
     "execution_count": 43,
     "metadata": {},
     "output_type": "execute_result"
    }
   ],
   "source": [
    "from IPython.display import FileLink\n",
    "sub.to_csv('dense_leak.csv', index=False, columns=['id_code', 'sirna'])\n",
    "FileLink('dense_leak.csv')"
   ]
  }
 ],
 "metadata": {
  "kernelspec": {
   "display_name": "fastai (cuda 10)",
   "language": "python",
   "name": "fastai"
  },
  "language_info": {
   "codemirror_mode": {
    "name": "ipython",
    "version": 3
   },
   "file_extension": ".py",
   "mimetype": "text/x-python",
   "name": "python",
   "nbconvert_exporter": "python",
   "pygments_lexer": "ipython3",
   "version": "3.7.3"
  },
  "toc": {
   "base_numbering": 1,
   "nav_menu": {},
   "number_sections": true,
   "sideBar": true,
   "skip_h1_title": false,
   "title_cell": "Table of Contents",
   "title_sidebar": "Contents",
   "toc_cell": false,
   "toc_position": {},
   "toc_section_display": true,
   "toc_window_display": false
  }
 },
 "nbformat": 4,
 "nbformat_minor": 2
}
