{
 "cells": [
  {
   "cell_type": "code",
   "execution_count": 1,
   "metadata": {},
   "outputs": [
    {
     "name": "stdout",
     "output_type": "stream",
     "text": [
      "Exported: 07_resnets.ipynb -> resnets.py\r\n",
      "1 notebook(s) exported into folder: .\r\n"
     ]
    }
   ],
   "source": [
    "!python -m jupytools export -nb \"07_resnets.ipynb\" -o ."
   ]
  },
  {
   "cell_type": "code",
   "execution_count": 2,
   "metadata": {},
   "outputs": [],
   "source": [
    "%reload_ext autoreload\n",
    "%autoreload 2"
   ]
  },
  {
   "cell_type": "markdown",
   "metadata": {},
   "source": [
    "## Imports "
   ]
  },
  {
   "cell_type": "code",
   "execution_count": 3,
   "metadata": {},
   "outputs": [
    {
     "ename": "KeyboardInterrupt",
     "evalue": "",
     "output_type": "error",
     "traceback": [
      "\u001b[0;31m---------------------------------------------------------------------------\u001b[0m",
      "\u001b[0;31mKeyboardInterrupt\u001b[0m                         Traceback (most recent call last)",
      "\u001b[0;32m<ipython-input-3-78a6a4c84494>\u001b[0m in \u001b[0;36m<module>\u001b[0;34m\u001b[0m\n\u001b[1;32m     31\u001b[0m     \u001b[0;31m# from augmentation import Augmented, multichannel_norm\u001b[0m\u001b[0;34m\u001b[0m\u001b[0;34m\u001b[0m\u001b[0;34m\u001b[0m\u001b[0m\n\u001b[1;32m     32\u001b[0m     \u001b[0;32mfrom\u001b[0m \u001b[0mbasedir\u001b[0m \u001b[0;32mimport\u001b[0m \u001b[0mROOT\u001b[0m\u001b[0;34m,\u001b[0m \u001b[0mNUM_CLASSES\u001b[0m\u001b[0;34m\u001b[0m\u001b[0;34m\u001b[0m\u001b[0m\n\u001b[0;32m---> 33\u001b[0;31m     \u001b[0;32mfrom\u001b[0m \u001b[0mcatalyst_visdom\u001b[0m \u001b[0;32mimport\u001b[0m \u001b[0mBatchMetricsPlotCallback\u001b[0m\u001b[0;34m,\u001b[0m \u001b[0mEpochMetricsPlotCallback\u001b[0m\u001b[0;34m\u001b[0m\u001b[0;34m\u001b[0m\u001b[0m\n\u001b[0m\u001b[1;32m     34\u001b[0m     \u001b[0;32mfrom\u001b[0m \u001b[0mdataset\u001b[0m \u001b[0;32mimport\u001b[0m \u001b[0mload_data\u001b[0m\u001b[0;34m,\u001b[0m \u001b[0mbuild_stats_index\u001b[0m\u001b[0;34m,\u001b[0m \u001b[0mRxRxDataset\u001b[0m\u001b[0;34m\u001b[0m\u001b[0;34m\u001b[0m\u001b[0m\n\u001b[1;32m     35\u001b[0m     \u001b[0;32mfrom\u001b[0m \u001b[0mmodel\u001b[0m\u001b[0;34m.\u001b[0m\u001b[0mutils\u001b[0m \u001b[0;32mimport\u001b[0m \u001b[0mfreeze_all\u001b[0m\u001b[0;34m,\u001b[0m \u001b[0munfreeze_layers\u001b[0m\u001b[0;34m\u001b[0m\u001b[0;34m\u001b[0m\u001b[0m\n",
      "\u001b[0;32m~/code/tasks/protein_project/catalyst_visdom.py\u001b[0m in \u001b[0;36m<module>\u001b[0;34m\u001b[0m\n\u001b[1;32m      1\u001b[0m \u001b[0;32mimport\u001b[0m \u001b[0mos\u001b[0m\u001b[0;34m\u001b[0m\u001b[0;34m\u001b[0m\u001b[0m\n\u001b[1;32m      2\u001b[0m \u001b[0;34m\u001b[0m\u001b[0m\n\u001b[0;32m----> 3\u001b[0;31m \u001b[0;32mfrom\u001b[0m \u001b[0mcatalyst\u001b[0m\u001b[0;34m.\u001b[0m\u001b[0mdl\u001b[0m\u001b[0;34m.\u001b[0m\u001b[0mcore\u001b[0m \u001b[0;32mimport\u001b[0m \u001b[0mCallback\u001b[0m\u001b[0;34m\u001b[0m\u001b[0;34m\u001b[0m\u001b[0m\n\u001b[0m\u001b[1;32m      4\u001b[0m \u001b[0;32mfrom\u001b[0m \u001b[0mvisdom\u001b[0m \u001b[0;32mimport\u001b[0m \u001b[0mVisdom\u001b[0m\u001b[0;34m\u001b[0m\u001b[0;34m\u001b[0m\u001b[0m\n\u001b[1;32m      5\u001b[0m \u001b[0;34m\u001b[0m\u001b[0m\n",
      "\u001b[0;32m~/code/open_source/catalyst/catalyst/dl/__init__.py\u001b[0m in \u001b[0;36m<module>\u001b[0;34m\u001b[0m\n\u001b[1;32m      1\u001b[0m \u001b[0;31m# flake8: noqa\u001b[0m\u001b[0;34m\u001b[0m\u001b[0;34m\u001b[0m\u001b[0;34m\u001b[0m\u001b[0m\n\u001b[1;32m      2\u001b[0m \u001b[0;34m\u001b[0m\u001b[0m\n\u001b[0;32m----> 3\u001b[0;31m \u001b[0;32mfrom\u001b[0m \u001b[0;34m.\u001b[0m\u001b[0mcallbacks\u001b[0m \u001b[0;32mimport\u001b[0m \u001b[0mCriterionCallback\u001b[0m\u001b[0;34m,\u001b[0m \u001b[0mOptimizerCallback\u001b[0m\u001b[0;34m,\u001b[0m \u001b[0mSchedulerCallback\u001b[0m\u001b[0;34m,\u001b[0m\u001b[0;31m \u001b[0m\u001b[0;31m\\\u001b[0m\u001b[0;34m\u001b[0m\u001b[0;34m\u001b[0m\u001b[0m\n\u001b[0m\u001b[1;32m      4\u001b[0m     \u001b[0mCheckpointCallback\u001b[0m\u001b[0;34m,\u001b[0m \u001b[0mEarlyStoppingCallback\u001b[0m\u001b[0;34m,\u001b[0m \u001b[0mConfusionMatrixCallback\u001b[0m\u001b[0;34m,\u001b[0m\u001b[0;31m \u001b[0m\u001b[0;31m\\\u001b[0m\u001b[0;34m\u001b[0m\u001b[0;34m\u001b[0m\u001b[0m\n\u001b[1;32m      5\u001b[0m     \u001b[0mAccuracyCallback\u001b[0m\u001b[0;34m,\u001b[0m \u001b[0mMapKCallback\u001b[0m\u001b[0;34m,\u001b[0m \u001b[0mAUCCallback\u001b[0m\u001b[0;34m,\u001b[0m\u001b[0;31m \u001b[0m\u001b[0;31m\\\u001b[0m\u001b[0;34m\u001b[0m\u001b[0;34m\u001b[0m\u001b[0m\n",
      "\u001b[0;32m~/code/open_source/catalyst/catalyst/dl/callbacks/__init__.py\u001b[0m in \u001b[0;36m<module>\u001b[0;34m\u001b[0m\n\u001b[1;32m      1\u001b[0m \u001b[0;31m# flake8: noqa\u001b[0m\u001b[0;34m\u001b[0m\u001b[0;34m\u001b[0m\u001b[0;34m\u001b[0m\u001b[0m\n\u001b[1;32m      2\u001b[0m \u001b[0;34m\u001b[0m\u001b[0m\n\u001b[0;32m----> 3\u001b[0;31m \u001b[0;32mfrom\u001b[0m \u001b[0;34m.\u001b[0m\u001b[0mmetrics\u001b[0m \u001b[0;32mimport\u001b[0m \u001b[0mAccuracyCallback\u001b[0m\u001b[0;34m,\u001b[0m \u001b[0mMapKCallback\u001b[0m\u001b[0;34m,\u001b[0m\u001b[0;31m \u001b[0m\u001b[0;31m\\\u001b[0m\u001b[0;34m\u001b[0m\u001b[0;34m\u001b[0m\u001b[0m\n\u001b[0m\u001b[1;32m      4\u001b[0m     \u001b[0mAUCCallback\u001b[0m\u001b[0;34m,\u001b[0m \u001b[0mDiceCallback\u001b[0m\u001b[0;34m,\u001b[0m \u001b[0mF1ScoreCallback\u001b[0m\u001b[0;34m,\u001b[0m \u001b[0mIouCallback\u001b[0m\u001b[0;34m,\u001b[0m \u001b[0mJaccardCallback\u001b[0m\u001b[0;34m\u001b[0m\u001b[0;34m\u001b[0m\u001b[0m\n\u001b[1;32m      5\u001b[0m \u001b[0;34m\u001b[0m\u001b[0m\n",
      "\u001b[0;32m~/code/open_source/catalyst/catalyst/dl/callbacks/metrics/__init__.py\u001b[0m in \u001b[0;36m<module>\u001b[0;34m\u001b[0m\n\u001b[1;32m      1\u001b[0m \u001b[0;31m# flake8: noqa\u001b[0m\u001b[0;34m\u001b[0m\u001b[0;34m\u001b[0m\u001b[0;34m\u001b[0m\u001b[0m\n\u001b[1;32m      2\u001b[0m \u001b[0;34m\u001b[0m\u001b[0m\n\u001b[0;32m----> 3\u001b[0;31m \u001b[0;32mfrom\u001b[0m \u001b[0;34m.\u001b[0m\u001b[0maccuracy\u001b[0m \u001b[0;32mimport\u001b[0m \u001b[0mAccuracyCallback\u001b[0m\u001b[0;34m,\u001b[0m \u001b[0mMapKCallback\u001b[0m\u001b[0;34m\u001b[0m\u001b[0;34m\u001b[0m\u001b[0m\n\u001b[0m\u001b[1;32m      4\u001b[0m \u001b[0;32mfrom\u001b[0m \u001b[0;34m.\u001b[0m\u001b[0mauc\u001b[0m \u001b[0;32mimport\u001b[0m \u001b[0mAUCCallback\u001b[0m\u001b[0;34m\u001b[0m\u001b[0;34m\u001b[0m\u001b[0m\n\u001b[1;32m      5\u001b[0m \u001b[0;32mfrom\u001b[0m \u001b[0;34m.\u001b[0m\u001b[0mdice\u001b[0m \u001b[0;32mimport\u001b[0m \u001b[0mDiceCallback\u001b[0m\u001b[0;34m\u001b[0m\u001b[0;34m\u001b[0m\u001b[0m\n",
      "\u001b[0;32m~/code/open_source/catalyst/catalyst/dl/callbacks/metrics/accuracy.py\u001b[0m in \u001b[0;36m<module>\u001b[0;34m\u001b[0m\n\u001b[1;32m      1\u001b[0m \u001b[0;32mfrom\u001b[0m \u001b[0mtyping\u001b[0m \u001b[0;32mimport\u001b[0m \u001b[0mList\u001b[0m\u001b[0;34m\u001b[0m\u001b[0;34m\u001b[0m\u001b[0m\n\u001b[1;32m      2\u001b[0m \u001b[0;34m\u001b[0m\u001b[0m\n\u001b[0;32m----> 3\u001b[0;31m \u001b[0;32mfrom\u001b[0m \u001b[0mcatalyst\u001b[0m\u001b[0;34m.\u001b[0m\u001b[0mdl\u001b[0m\u001b[0;34m.\u001b[0m\u001b[0mcore\u001b[0m \u001b[0;32mimport\u001b[0m \u001b[0mMultiMetricCallback\u001b[0m\u001b[0;34m\u001b[0m\u001b[0;34m\u001b[0m\u001b[0m\n\u001b[0m\u001b[1;32m      4\u001b[0m \u001b[0;32mfrom\u001b[0m \u001b[0mcatalyst\u001b[0m\u001b[0;34m.\u001b[0m\u001b[0mdl\u001b[0m\u001b[0;34m.\u001b[0m\u001b[0mutils\u001b[0m \u001b[0;32mimport\u001b[0m \u001b[0mcriterion\u001b[0m\u001b[0;34m\u001b[0m\u001b[0;34m\u001b[0m\u001b[0m\n\u001b[1;32m      5\u001b[0m \u001b[0;34m\u001b[0m\u001b[0m\n",
      "\u001b[0;32m~/code/open_source/catalyst/catalyst/dl/core/__init__.py\u001b[0m in \u001b[0;36m<module>\u001b[0;34m\u001b[0m\n\u001b[1;32m      1\u001b[0m \u001b[0;31m# flake8: noqa\u001b[0m\u001b[0;34m\u001b[0m\u001b[0;34m\u001b[0m\u001b[0;34m\u001b[0m\u001b[0m\n\u001b[1;32m      2\u001b[0m \u001b[0;34m\u001b[0m\u001b[0m\n\u001b[0;32m----> 3\u001b[0;31m \u001b[0;32mfrom\u001b[0m \u001b[0;34m.\u001b[0m\u001b[0mcallback\u001b[0m \u001b[0;32mimport\u001b[0m \u001b[0mCallback\u001b[0m\u001b[0;34m,\u001b[0m \u001b[0mMetricCallback\u001b[0m\u001b[0;34m,\u001b[0m \u001b[0mMultiMetricCallback\u001b[0m\u001b[0;34m\u001b[0m\u001b[0;34m\u001b[0m\u001b[0m\n\u001b[0m\u001b[1;32m      4\u001b[0m \u001b[0;32mfrom\u001b[0m \u001b[0;34m.\u001b[0m\u001b[0mexperiment\u001b[0m \u001b[0;32mimport\u001b[0m \u001b[0mExperiment\u001b[0m\u001b[0;34m\u001b[0m\u001b[0;34m\u001b[0m\u001b[0m\n\u001b[1;32m      5\u001b[0m \u001b[0;32mfrom\u001b[0m \u001b[0;34m.\u001b[0m\u001b[0mrunner\u001b[0m \u001b[0;32mimport\u001b[0m \u001b[0mRunner\u001b[0m\u001b[0;34m\u001b[0m\u001b[0;34m\u001b[0m\u001b[0m\n",
      "\u001b[0;32m~/code/open_source/catalyst/catalyst/dl/core/callback.py\u001b[0m in \u001b[0;36m<module>\u001b[0;34m\u001b[0m\n\u001b[1;32m      1\u001b[0m \u001b[0;32mfrom\u001b[0m \u001b[0mtyping\u001b[0m \u001b[0;32mimport\u001b[0m \u001b[0mCallable\u001b[0m\u001b[0;34m,\u001b[0m \u001b[0mList\u001b[0m\u001b[0;34m\u001b[0m\u001b[0;34m\u001b[0m\u001b[0m\n\u001b[0;32m----> 2\u001b[0;31m \u001b[0;32mfrom\u001b[0m \u001b[0;34m.\u001b[0m\u001b[0mstate\u001b[0m \u001b[0;32mimport\u001b[0m \u001b[0mRunnerState\u001b[0m\u001b[0;34m\u001b[0m\u001b[0;34m\u001b[0m\u001b[0m\n\u001b[0m\u001b[1;32m      3\u001b[0m \u001b[0;34m\u001b[0m\u001b[0m\n\u001b[1;32m      4\u001b[0m \u001b[0;34m\u001b[0m\u001b[0m\n\u001b[1;32m      5\u001b[0m \u001b[0;32mclass\u001b[0m \u001b[0mCallback\u001b[0m\u001b[0;34m:\u001b[0m\u001b[0;34m\u001b[0m\u001b[0;34m\u001b[0m\u001b[0m\n",
      "\u001b[0;32m~/code/open_source/catalyst/catalyst/dl/core/state.py\u001b[0m in \u001b[0;36m<module>\u001b[0;34m\u001b[0m\n\u001b[1;32m      4\u001b[0m \u001b[0;32mfrom\u001b[0m \u001b[0mtorch\u001b[0m\u001b[0;34m.\u001b[0m\u001b[0moptim\u001b[0m\u001b[0;34m.\u001b[0m\u001b[0moptimizer\u001b[0m \u001b[0;32mimport\u001b[0m \u001b[0mOptimizer\u001b[0m\u001b[0;34m\u001b[0m\u001b[0;34m\u001b[0m\u001b[0m\n\u001b[1;32m      5\u001b[0m \u001b[0;34m\u001b[0m\u001b[0m\n\u001b[0;32m----> 6\u001b[0;31m \u001b[0;32mfrom\u001b[0m \u001b[0mcatalyst\u001b[0m\u001b[0;34m.\u001b[0m\u001b[0mutils\u001b[0m\u001b[0;34m.\u001b[0m\u001b[0mfrozen\u001b[0m \u001b[0;32mimport\u001b[0m \u001b[0mFrozenClass\u001b[0m\u001b[0;34m\u001b[0m\u001b[0;34m\u001b[0m\u001b[0m\n\u001b[0m\u001b[1;32m      7\u001b[0m \u001b[0;32mfrom\u001b[0m \u001b[0;34m.\u001b[0m\u001b[0mmetric_manager\u001b[0m \u001b[0;32mimport\u001b[0m \u001b[0mMetricManager\u001b[0m\u001b[0;34m,\u001b[0m \u001b[0mTimerManager\u001b[0m\u001b[0;34m\u001b[0m\u001b[0;34m\u001b[0m\u001b[0m\n\u001b[1;32m      8\u001b[0m \u001b[0;34m\u001b[0m\u001b[0m\n",
      "\u001b[0;32m~/code/open_source/catalyst/catalyst/utils/__init__.py\u001b[0m in \u001b[0;36m<module>\u001b[0;34m\u001b[0m\n\u001b[1;32m      4\u001b[0m \u001b[0;32mfrom\u001b[0m \u001b[0;34m.\u001b[0m\u001b[0mcheckpoint\u001b[0m \u001b[0;32mimport\u001b[0m \u001b[0mpack_checkpoint\u001b[0m\u001b[0;34m,\u001b[0m \u001b[0munpack_checkpoint\u001b[0m\u001b[0;34m,\u001b[0m\u001b[0;31m \u001b[0m\u001b[0;31m\\\u001b[0m\u001b[0;34m\u001b[0m\u001b[0;34m\u001b[0m\u001b[0m\n\u001b[1;32m      5\u001b[0m     \u001b[0msave_checkpoint\u001b[0m\u001b[0;34m,\u001b[0m \u001b[0mload_checkpoint\u001b[0m\u001b[0;34m\u001b[0m\u001b[0;34m\u001b[0m\u001b[0m\n\u001b[0;32m----> 6\u001b[0;31m \u001b[0;32mfrom\u001b[0m \u001b[0;34m.\u001b[0m\u001b[0mcompression\u001b[0m \u001b[0;32mimport\u001b[0m \u001b[0mpack\u001b[0m\u001b[0;34m,\u001b[0m \u001b[0mpack_if_needed\u001b[0m\u001b[0;34m,\u001b[0m \u001b[0munpack\u001b[0m\u001b[0;34m,\u001b[0m \u001b[0munpack_if_needed\u001b[0m\u001b[0;34m\u001b[0m\u001b[0;34m\u001b[0m\u001b[0m\n\u001b[0m\u001b[1;32m      7\u001b[0m \u001b[0;32mfrom\u001b[0m \u001b[0;34m.\u001b[0m\u001b[0mconfig\u001b[0m \u001b[0;32mimport\u001b[0m \u001b[0mload_ordered_yaml\u001b[0m\u001b[0;34m,\u001b[0m \u001b[0mget_environment_vars\u001b[0m\u001b[0;34m,\u001b[0m \u001b[0mdump_environment\u001b[0m\u001b[0;34m,\u001b[0m\u001b[0;31m \u001b[0m\u001b[0;31m\\\u001b[0m\u001b[0;34m\u001b[0m\u001b[0;34m\u001b[0m\u001b[0m\n\u001b[1;32m      8\u001b[0m     \u001b[0mparse_config_args\u001b[0m\u001b[0;34m,\u001b[0m \u001b[0mparse_args_uargs\u001b[0m\u001b[0;34m\u001b[0m\u001b[0;34m\u001b[0m\u001b[0m\n",
      "\u001b[0;32m~/code/open_source/catalyst/catalyst/utils/compression.py\u001b[0m in \u001b[0;36m<module>\u001b[0;34m\u001b[0m\n\u001b[1;32m      3\u001b[0m \u001b[0;32mimport\u001b[0m \u001b[0mnumpy\u001b[0m \u001b[0;32mas\u001b[0m \u001b[0mnp\u001b[0m\u001b[0;34m\u001b[0m\u001b[0;34m\u001b[0m\u001b[0m\n\u001b[1;32m      4\u001b[0m \u001b[0;32mfrom\u001b[0m \u001b[0msix\u001b[0m \u001b[0;32mimport\u001b[0m \u001b[0mstring_types\u001b[0m\u001b[0;34m\u001b[0m\u001b[0;34m\u001b[0m\u001b[0m\n\u001b[0;32m----> 5\u001b[0;31m \u001b[0;32mfrom\u001b[0m \u001b[0mcatalyst\u001b[0m\u001b[0;34m.\u001b[0m\u001b[0mutils\u001b[0m\u001b[0;34m.\u001b[0m\u001b[0mserialization\u001b[0m \u001b[0;32mimport\u001b[0m \u001b[0mserialize\u001b[0m\u001b[0;34m,\u001b[0m \u001b[0mdeserialize\u001b[0m\u001b[0;34m\u001b[0m\u001b[0;34m\u001b[0m\u001b[0m\n\u001b[0m\u001b[1;32m      6\u001b[0m \u001b[0;34m\u001b[0m\u001b[0m\n\u001b[1;32m      7\u001b[0m \u001b[0mlogger\u001b[0m \u001b[0;34m=\u001b[0m \u001b[0mlogging\u001b[0m\u001b[0;34m.\u001b[0m\u001b[0mgetLogger\u001b[0m\u001b[0;34m(\u001b[0m\u001b[0m__name__\u001b[0m\u001b[0;34m)\u001b[0m\u001b[0;34m\u001b[0m\u001b[0;34m\u001b[0m\u001b[0m\n",
      "\u001b[0;32m~/code/open_source/catalyst/catalyst/utils/serialization.py\u001b[0m in \u001b[0;36m<module>\u001b[0;34m\u001b[0m\n\u001b[1;32m      5\u001b[0m \u001b[0;34m\u001b[0m\u001b[0m\n\u001b[1;32m      6\u001b[0m \u001b[0;32mtry\u001b[0m\u001b[0;34m:\u001b[0m\u001b[0;34m\u001b[0m\u001b[0;34m\u001b[0m\u001b[0m\n\u001b[0;32m----> 7\u001b[0;31m     \u001b[0;32mimport\u001b[0m \u001b[0mpyarrow\u001b[0m\u001b[0;34m\u001b[0m\u001b[0;34m\u001b[0m\u001b[0m\n\u001b[0m\u001b[1;32m      8\u001b[0m     \u001b[0mPYARROW_ENABLED\u001b[0m \u001b[0;34m=\u001b[0m \u001b[0;32mTrue\u001b[0m\u001b[0;34m\u001b[0m\u001b[0;34m\u001b[0m\u001b[0m\n\u001b[1;32m      9\u001b[0m \u001b[0;32mexcept\u001b[0m \u001b[0mImportError\u001b[0m\u001b[0;34m:\u001b[0m\u001b[0;34m\u001b[0m\u001b[0;34m\u001b[0m\u001b[0m\n",
      "\u001b[0;32m~/anaconda3/envs/fastai_10/lib/python3.7/site-packages/pyarrow/__init__.py\u001b[0m in \u001b[0;36m<module>\u001b[0;34m\u001b[0m\n\u001b[1;32m     48\u001b[0m \u001b[0;31m# and https://issues.apache.org/jira/browse/ARROW-2920\u001b[0m\u001b[0;34m\u001b[0m\u001b[0;34m\u001b[0m\u001b[0;34m\u001b[0m\u001b[0m\n\u001b[1;32m     49\u001b[0m \u001b[0;32mif\u001b[0m \u001b[0m_sys\u001b[0m\u001b[0;34m.\u001b[0m\u001b[0mplatform\u001b[0m \u001b[0;32min\u001b[0m \u001b[0;34m(\u001b[0m\u001b[0;34m'linux'\u001b[0m\u001b[0;34m,\u001b[0m \u001b[0;34m'linux2'\u001b[0m\u001b[0;34m)\u001b[0m\u001b[0;34m:\u001b[0m\u001b[0;34m\u001b[0m\u001b[0;34m\u001b[0m\u001b[0m\n\u001b[0;32m---> 50\u001b[0;31m     \u001b[0mcompat\u001b[0m\u001b[0;34m.\u001b[0m\u001b[0mimport_tensorflow_extension\u001b[0m\u001b[0;34m(\u001b[0m\u001b[0;34m)\u001b[0m\u001b[0;34m\u001b[0m\u001b[0;34m\u001b[0m\u001b[0m\n\u001b[0m\u001b[1;32m     51\u001b[0m     \u001b[0mcompat\u001b[0m\u001b[0;34m.\u001b[0m\u001b[0mimport_pytorch_extension\u001b[0m\u001b[0;34m(\u001b[0m\u001b[0;34m)\u001b[0m\u001b[0;34m\u001b[0m\u001b[0;34m\u001b[0m\u001b[0m\n\u001b[1;32m     52\u001b[0m \u001b[0;34m\u001b[0m\u001b[0m\n",
      "\u001b[0;32m~/anaconda3/envs/fastai_10/lib/python3.7/site-packages/pyarrow/compat.py\u001b[0m in \u001b[0;36mimport_tensorflow_extension\u001b[0;34m()\u001b[0m\n\u001b[1;32m    238\u001b[0m     \u001b[0;32mif\u001b[0m \u001b[0;32mnot\u001b[0m \u001b[0mtensorflow_loaded\u001b[0m\u001b[0;34m:\u001b[0m\u001b[0;34m\u001b[0m\u001b[0;34m\u001b[0m\u001b[0m\n\u001b[1;32m    239\u001b[0m         \u001b[0;32mtry\u001b[0m\u001b[0;34m:\u001b[0m\u001b[0;34m\u001b[0m\u001b[0;34m\u001b[0m\u001b[0m\n\u001b[0;32m--> 240\u001b[0;31m             \u001b[0;32mimport\u001b[0m \u001b[0mtensorflow\u001b[0m\u001b[0;34m\u001b[0m\u001b[0;34m\u001b[0m\u001b[0m\n\u001b[0m\u001b[1;32m    241\u001b[0m         \u001b[0;32mexcept\u001b[0m \u001b[0mImportError\u001b[0m\u001b[0;34m:\u001b[0m\u001b[0;34m\u001b[0m\u001b[0;34m\u001b[0m\u001b[0m\n\u001b[1;32m    242\u001b[0m             \u001b[0;32mpass\u001b[0m\u001b[0;34m\u001b[0m\u001b[0;34m\u001b[0m\u001b[0m\n",
      "\u001b[0;32m~/anaconda3/envs/fastai_10/lib/python3.7/site-packages/tensorflow/__init__.py\u001b[0m in \u001b[0;36m<module>\u001b[0;34m\u001b[0m\n\u001b[1;32m     26\u001b[0m \u001b[0;34m\u001b[0m\u001b[0m\n\u001b[1;32m     27\u001b[0m \u001b[0;31m# pylint: disable=g-bad-import-order\u001b[0m\u001b[0;34m\u001b[0m\u001b[0;34m\u001b[0m\u001b[0;34m\u001b[0m\u001b[0m\n\u001b[0;32m---> 28\u001b[0;31m \u001b[0;32mfrom\u001b[0m \u001b[0mtensorflow\u001b[0m\u001b[0;34m.\u001b[0m\u001b[0mpython\u001b[0m \u001b[0;32mimport\u001b[0m \u001b[0mpywrap_tensorflow\u001b[0m  \u001b[0;31m# pylint: disable=unused-import\u001b[0m\u001b[0;34m\u001b[0m\u001b[0;34m\u001b[0m\u001b[0m\n\u001b[0m\u001b[1;32m     29\u001b[0m \u001b[0;32mfrom\u001b[0m \u001b[0mtensorflow\u001b[0m\u001b[0;34m.\u001b[0m\u001b[0mpython\u001b[0m\u001b[0;34m.\u001b[0m\u001b[0mtools\u001b[0m \u001b[0;32mimport\u001b[0m \u001b[0mmodule_util\u001b[0m \u001b[0;32mas\u001b[0m \u001b[0m_module_util\u001b[0m\u001b[0;34m\u001b[0m\u001b[0;34m\u001b[0m\u001b[0m\n\u001b[1;32m     30\u001b[0m \u001b[0;34m\u001b[0m\u001b[0m\n",
      "\u001b[0;32m~/anaconda3/envs/fastai_10/lib/python3.7/site-packages/tensorflow/python/__init__.py\u001b[0m in \u001b[0;36m<module>\u001b[0;34m\u001b[0m\n\u001b[1;32m     71\u001b[0m \u001b[0;34m\u001b[0m\u001b[0m\n\u001b[1;32m     72\u001b[0m \u001b[0;31m# Ops\u001b[0m\u001b[0;34m\u001b[0m\u001b[0;34m\u001b[0m\u001b[0;34m\u001b[0m\u001b[0m\n\u001b[0;32m---> 73\u001b[0;31m \u001b[0;32mfrom\u001b[0m \u001b[0mtensorflow\u001b[0m\u001b[0;34m.\u001b[0m\u001b[0mpython\u001b[0m\u001b[0;34m.\u001b[0m\u001b[0mops\u001b[0m\u001b[0;34m.\u001b[0m\u001b[0mstandard_ops\u001b[0m \u001b[0;32mimport\u001b[0m \u001b[0;34m*\u001b[0m\u001b[0;34m\u001b[0m\u001b[0;34m\u001b[0m\u001b[0m\n\u001b[0m\u001b[1;32m     74\u001b[0m \u001b[0;34m\u001b[0m\u001b[0m\n\u001b[1;32m     75\u001b[0m \u001b[0;31m# Namespaces\u001b[0m\u001b[0;34m\u001b[0m\u001b[0;34m\u001b[0m\u001b[0;34m\u001b[0m\u001b[0m\n",
      "\u001b[0;32m~/anaconda3/envs/fastai_10/lib/python3.7/site-packages/tensorflow/python/ops/standard_ops.py\u001b[0m in \u001b[0;36m<module>\u001b[0;34m\u001b[0m\n\u001b[1;32m     74\u001b[0m \u001b[0;32mfrom\u001b[0m \u001b[0mtensorflow\u001b[0m\u001b[0;34m.\u001b[0m\u001b[0mpython\u001b[0m\u001b[0;34m.\u001b[0m\u001b[0mops\u001b[0m\u001b[0;34m.\u001b[0m\u001b[0mparsing_ops\u001b[0m \u001b[0;32mimport\u001b[0m \u001b[0;34m*\u001b[0m\u001b[0;34m\u001b[0m\u001b[0;34m\u001b[0m\u001b[0m\n\u001b[1;32m     75\u001b[0m \u001b[0;32mfrom\u001b[0m \u001b[0mtensorflow\u001b[0m\u001b[0;34m.\u001b[0m\u001b[0mpython\u001b[0m\u001b[0;34m.\u001b[0m\u001b[0mops\u001b[0m\u001b[0;34m.\u001b[0m\u001b[0mpartitioned_variables\u001b[0m \u001b[0;32mimport\u001b[0m \u001b[0;34m*\u001b[0m\u001b[0;34m\u001b[0m\u001b[0;34m\u001b[0m\u001b[0m\n\u001b[0;32m---> 76\u001b[0;31m \u001b[0;32mfrom\u001b[0m \u001b[0mtensorflow\u001b[0m\u001b[0;34m.\u001b[0m\u001b[0mpython\u001b[0m\u001b[0;34m.\u001b[0m\u001b[0mops\u001b[0m\u001b[0;34m.\u001b[0m\u001b[0mproto_ops\u001b[0m \u001b[0;32mimport\u001b[0m \u001b[0;34m*\u001b[0m\u001b[0;34m\u001b[0m\u001b[0;34m\u001b[0m\u001b[0m\n\u001b[0m\u001b[1;32m     77\u001b[0m \u001b[0;32mfrom\u001b[0m \u001b[0mtensorflow\u001b[0m\u001b[0;34m.\u001b[0m\u001b[0mpython\u001b[0m\u001b[0;34m.\u001b[0m\u001b[0mops\u001b[0m\u001b[0;34m.\u001b[0m\u001b[0mragged\u001b[0m \u001b[0;32mimport\u001b[0m \u001b[0mragged_dispatch\u001b[0m \u001b[0;32mas\u001b[0m \u001b[0m_ragged_dispatch\u001b[0m\u001b[0;34m\u001b[0m\u001b[0;34m\u001b[0m\u001b[0m\n\u001b[1;32m     78\u001b[0m \u001b[0;32mfrom\u001b[0m \u001b[0mtensorflow\u001b[0m\u001b[0;34m.\u001b[0m\u001b[0mpython\u001b[0m\u001b[0;34m.\u001b[0m\u001b[0mops\u001b[0m\u001b[0;34m.\u001b[0m\u001b[0mragged\u001b[0m \u001b[0;32mimport\u001b[0m \u001b[0mragged_operators\u001b[0m \u001b[0;32mas\u001b[0m \u001b[0m_ragged_operators\u001b[0m\u001b[0;34m\u001b[0m\u001b[0;34m\u001b[0m\u001b[0m\n",
      "\u001b[0;32m~/anaconda3/envs/fastai_10/lib/python3.7/site-packages/tensorflow/python/ops/proto_ops.py\u001b[0m in \u001b[0;36m<module>\u001b[0;34m\u001b[0m\n\u001b[1;32m     22\u001b[0m \u001b[0;32mfrom\u001b[0m \u001b[0mtensorflow\u001b[0m\u001b[0;34m.\u001b[0m\u001b[0mpython\u001b[0m\u001b[0;34m.\u001b[0m\u001b[0mframework\u001b[0m \u001b[0;32mimport\u001b[0m \u001b[0mops\u001b[0m\u001b[0;34m\u001b[0m\u001b[0;34m\u001b[0m\u001b[0m\n\u001b[1;32m     23\u001b[0m \u001b[0;32mfrom\u001b[0m \u001b[0mtensorflow\u001b[0m\u001b[0;34m.\u001b[0m\u001b[0mpython\u001b[0m\u001b[0;34m.\u001b[0m\u001b[0mops\u001b[0m\u001b[0;34m.\u001b[0m\u001b[0mgen_decode_proto_ops\u001b[0m \u001b[0;32mimport\u001b[0m \u001b[0mdecode_proto_v2\u001b[0m \u001b[0;32mas\u001b[0m \u001b[0mdecode_proto\u001b[0m\u001b[0;34m\u001b[0m\u001b[0;34m\u001b[0m\u001b[0m\n\u001b[0;32m---> 24\u001b[0;31m \u001b[0;32mfrom\u001b[0m \u001b[0mtensorflow\u001b[0m\u001b[0;34m.\u001b[0m\u001b[0mpython\u001b[0m\u001b[0;34m.\u001b[0m\u001b[0mops\u001b[0m\u001b[0;34m.\u001b[0m\u001b[0mgen_encode_proto_ops\u001b[0m \u001b[0;32mimport\u001b[0m \u001b[0mencode_proto\u001b[0m\u001b[0;34m\u001b[0m\u001b[0;34m\u001b[0m\u001b[0m\n\u001b[0m\u001b[1;32m     25\u001b[0m \u001b[0;32mfrom\u001b[0m \u001b[0mtensorflow\u001b[0m\u001b[0;34m.\u001b[0m\u001b[0mpython\u001b[0m\u001b[0;34m.\u001b[0m\u001b[0mutil\u001b[0m\u001b[0;34m.\u001b[0m\u001b[0mtf_export\u001b[0m \u001b[0;32mimport\u001b[0m \u001b[0mtf_export\u001b[0m\u001b[0;34m\u001b[0m\u001b[0;34m\u001b[0m\u001b[0m\n\u001b[1;32m     26\u001b[0m \u001b[0;34m\u001b[0m\u001b[0m\n",
      "\u001b[0;32m~/anaconda3/envs/fastai_10/lib/python3.7/site-packages/tensorflow/python/ops/gen_encode_proto_ops.py\u001b[0m in \u001b[0;36m<module>\u001b[0;34m\u001b[0m\n\u001b[1;32m      8\u001b[0m \u001b[0;32mimport\u001b[0m \u001b[0msix\u001b[0m \u001b[0;32mas\u001b[0m \u001b[0m_six\u001b[0m\u001b[0;34m\u001b[0m\u001b[0;34m\u001b[0m\u001b[0m\n\u001b[1;32m      9\u001b[0m \u001b[0;34m\u001b[0m\u001b[0m\n\u001b[0;32m---> 10\u001b[0;31m \u001b[0;32mfrom\u001b[0m \u001b[0mtensorflow\u001b[0m\u001b[0;34m.\u001b[0m\u001b[0mpython\u001b[0m \u001b[0;32mimport\u001b[0m \u001b[0mpywrap_tensorflow\u001b[0m \u001b[0;32mas\u001b[0m \u001b[0m_pywrap_tensorflow\u001b[0m\u001b[0;34m\u001b[0m\u001b[0;34m\u001b[0m\u001b[0m\n\u001b[0m\u001b[1;32m     11\u001b[0m \u001b[0;32mfrom\u001b[0m \u001b[0mtensorflow\u001b[0m\u001b[0;34m.\u001b[0m\u001b[0mpython\u001b[0m\u001b[0;34m.\u001b[0m\u001b[0meager\u001b[0m \u001b[0;32mimport\u001b[0m \u001b[0mcontext\u001b[0m \u001b[0;32mas\u001b[0m \u001b[0m_context\u001b[0m\u001b[0;34m\u001b[0m\u001b[0;34m\u001b[0m\u001b[0m\n\u001b[1;32m     12\u001b[0m \u001b[0;32mfrom\u001b[0m \u001b[0mtensorflow\u001b[0m\u001b[0;34m.\u001b[0m\u001b[0mpython\u001b[0m\u001b[0;34m.\u001b[0m\u001b[0meager\u001b[0m \u001b[0;32mimport\u001b[0m \u001b[0mcore\u001b[0m \u001b[0;32mas\u001b[0m \u001b[0m_core\u001b[0m\u001b[0;34m\u001b[0m\u001b[0;34m\u001b[0m\u001b[0m\n",
      "\u001b[0;32m~/anaconda3/envs/fastai_10/lib/python3.7/importlib/_bootstrap.py\u001b[0m in \u001b[0;36m_lock_unlock_module\u001b[0;34m(name)\u001b[0m\n",
      "\u001b[0;32m~/anaconda3/envs/fastai_10/lib/python3.7/importlib/_bootstrap.py\u001b[0m in \u001b[0;36mrelease\u001b[0;34m(self)\u001b[0m\n",
      "\u001b[0;31mKeyboardInterrupt\u001b[0m: "
     ]
    }
   ],
   "source": [
    "#export\n",
    "from collections import OrderedDict\n",
    "import json\n",
    "import os\n",
    "from os.path import dirname, join\n",
    "from functools import reduce\n",
    "from pdb import set_trace\n",
    "\n",
    "import cv2 as cv\n",
    "import jupytools\n",
    "import jupytools.syspath\n",
    "import numpy as np\n",
    "import pandas as pd\n",
    "import matplotlib.pyplot as plt\n",
    "\n",
    "import pretrainedmodels\n",
    "import torch\n",
    "import torch.nn as nn\n",
    "from torch.utils.data import Dataset, DataLoader\n",
    "from visdom import Visdom\n",
    "\n",
    "jupytools.syspath.add(join(dirname(os.getcwd()), 'protein_project'))\n",
    "jupytools.syspath.add('rxrx1-utils')\n",
    "if jupytools.is_notebook():\n",
    "    from tqdm import tqdm_notebook as tqdm\n",
    "else:\n",
    "    from tqdm import tqdm as tdqm\n",
    "    \n",
    "import contextlib, io\n",
    "with contextlib.redirect_stderr(io.StringIO()):\n",
    "    # from augmentation import Augmented, multichannel_norm\n",
    "    from basedir import ROOT, NUM_CLASSES\n",
    "    from catalyst_visdom import BatchMetricsPlotCallback, EpochMetricsPlotCallback\n",
    "    from dataset import load_data, build_stats_index, RxRxDataset\n",
    "    from model.utils import freeze_all, unfreeze_layers\n",
    "    from visual import rgb, six, show_1, show"
   ]
  },
  {
   "cell_type": "code",
   "execution_count": null,
   "metadata": {},
   "outputs": [],
   "source": [
    "#export\n",
    "torch.set_default_tensor_type(torch.FloatTensor)"
   ]
  },
  {
   "cell_type": "markdown",
   "metadata": {},
   "source": [
    "## Dataset Preparation"
   ]
  },
  {
   "cell_type": "markdown",
   "metadata": {},
   "source": [
    "### JSON"
   ]
  },
  {
   "cell_type": "code",
   "execution_count": null,
   "metadata": {},
   "outputs": [],
   "source": [
    "#export\n",
    "data_dict = load_data(filenames=['train.json', 'test.json'])\n",
    "train_records, test_records = data_dict['data']"
   ]
  },
  {
   "cell_type": "markdown",
   "metadata": {},
   "source": [
    "### Transformations"
   ]
  },
  {
   "cell_type": "code",
   "execution_count": null,
   "metadata": {},
   "outputs": [],
   "source": [
    "#export\n",
    "def bernoulli(p): return int(np.random.binomial(1, p))"
   ]
  },
  {
   "cell_type": "code",
   "execution_count": null,
   "metadata": {},
   "outputs": [],
   "source": [
    "#export\n",
    "class BaseTransform:\n",
    "    def __init__(self, apply_always=False, p=1.0, key='features'):\n",
    "        self.apply_always = apply_always\n",
    "        self.p = p\n",
    "        self.key = key\n",
    "    def __call__(self, x):\n",
    "        if self.apply_always or bernoulli(self.p):\n",
    "            return self.apply(x)\n",
    "        return x\n",
    "    def apply(self, x):\n",
    "        raise NotImplementedError()"
   ]
  },
  {
   "cell_type": "code",
   "execution_count": null,
   "metadata": {},
   "outputs": [],
   "source": [
    "#export\n",
    "class UnconditionalTransform(BaseTransform):\n",
    "    def __init__(self, **kwargs):\n",
    "        super().__init__(apply_always=True)"
   ]
  },
  {
   "cell_type": "code",
   "execution_count": null,
   "metadata": {},
   "outputs": [],
   "source": [
    "#export\n",
    "class Compose(UnconditionalTransform):\n",
    "    def __init__(self, transforms):\n",
    "        super().__init__(apply_always=True)\n",
    "        self.transforms = transforms\n",
    "    def apply(self, dataset_record):\n",
    "        return reduce(lambda x, f: f(x), self.transforms, dataset_record)"
   ]
  },
  {
   "cell_type": "code",
   "execution_count": null,
   "metadata": {},
   "outputs": [],
   "source": [
    "#export\n",
    "class JoinChannels(UnconditionalTransform):\n",
    "    def apply(self, record):\n",
    "        record['features'] = np.stack(list(record['features'].values()))\n",
    "        return record"
   ]
  },
  {
   "cell_type": "code",
   "execution_count": null,
   "metadata": {},
   "outputs": [],
   "source": [
    "#export\n",
    "class Resize(UnconditionalTransform):\n",
    "    def __init__(self, sz):\n",
    "        super().__init__()\n",
    "        self.sz = (sz, sz) if isinstance(sz, int) else sz\n",
    "    def apply(self, record):\n",
    "        record['features'] = cv.resize(record['features'], self.sz) \n",
    "        return record"
   ]
  },
  {
   "cell_type": "code",
   "execution_count": null,
   "metadata": {},
   "outputs": [],
   "source": [
    "#export\n",
    "class ToFloat(UnconditionalTransform):\n",
    "    def apply(self, record):\n",
    "        record['features'] = record['features'].astype(np.float32)\n",
    "        return record"
   ]
  },
  {
   "cell_type": "code",
   "execution_count": null,
   "metadata": {},
   "outputs": [],
   "source": [
    "#export\n",
    "class SwapChannels(UnconditionalTransform):\n",
    "    def __init__(self, new_order):\n",
    "        super().__init__()\n",
    "        self.new_order = new_order\n",
    "    def apply(self, record):\n",
    "        record['features'] = record['features'].transpose(*self.new_order)\n",
    "        return record"
   ]
  },
  {
   "cell_type": "code",
   "execution_count": null,
   "metadata": {},
   "outputs": [],
   "source": [
    "#export\n",
    "class VerticalFlip(BaseTransform):\n",
    "    def apply(self, record): \n",
    "        record['features'] = cv.flip(record['features'], 0)\n",
    "        return record"
   ]
  },
  {
   "cell_type": "code",
   "execution_count": null,
   "metadata": {},
   "outputs": [],
   "source": [
    "#export\n",
    "class HorizontalFlip(BaseTransform):\n",
    "    def apply(self, record): \n",
    "        record['features'] = cv.flip(record['features'], 1)\n",
    "        return record"
   ]
  },
  {
   "cell_type": "code",
   "execution_count": null,
   "metadata": {},
   "outputs": [],
   "source": [
    "#export\n",
    "class PixelStatsNorm(UnconditionalTransform):\n",
    "    def __init__(self, stats):\n",
    "        super().__init__()\n",
    "        self.stats = stats\n",
    "    def apply(self, record):\n",
    "        keys = [(record['id_code'], i+1, record['site']) for i in range(6)]\n",
    "        mean = np.stack([self.stats[key]['mean'] for key in keys]).astype(np.float32)\n",
    "        std = np.stack([self.stats[key]['std'] for key in keys]).astype(np.float32)\n",
    "        mean, std = [arr.reshape(len(arr), 1, 1) for arr in (mean, std)]\n",
    "        norm = (record['features'] - mean)/(std + 1e-8)\n",
    "        record['features'] = norm\n",
    "        return record"
   ]
  },
  {
   "cell_type": "code",
   "execution_count": null,
   "metadata": {},
   "outputs": [],
   "source": [
    "#export\n",
    "class Rescale(UnconditionalTransform):\n",
    "    def __init__(self, factor=1/.255):\n",
    "        super().__init__()\n",
    "        self.factor = factor\n",
    "    def apply(self, record):\n",
    "        record['features'] = record['features'] * self.factor\n",
    "        return record"
   ]
  },
  {
   "cell_type": "code",
   "execution_count": null,
   "metadata": {},
   "outputs": [],
   "source": [
    "#export\n",
    "class Augmented(Dataset):\n",
    "    def __init__(self, ds, tr):\n",
    "        self.ds = ds\n",
    "        self.tr = tr\n",
    "    def __len__(self):\n",
    "        return len(self.ds)\n",
    "    def __getitem__(self, index):\n",
    "        return self.tr(self.ds[index])"
   ]
  },
  {
   "cell_type": "markdown",
   "metadata": {},
   "source": [
    "### Composition and Normalization Stats Reading"
   ]
  },
  {
   "cell_type": "code",
   "execution_count": null,
   "metadata": {},
   "outputs": [],
   "source": [
    "#export\n",
    "stats = build_stats_index(ROOT/'pixel_stats.csv')\n",
    "\n",
    "train_transform = Compose([\n",
    "    JoinChannels(),\n",
    "    SwapChannels((1, 2, 0)),\n",
    "    Resize(224),\n",
    "    ToFloat(),\n",
    "    VerticalFlip(p=0.25),\n",
    "    HorizontalFlip(p=0.25),\n",
    "    SwapChannels((2, 0, 1)),\n",
    "    PixelStatsNorm(stats)\n",
    "    # Rescale()\n",
    "])\n",
    "\n",
    "valid_transform = Compose([\n",
    "    JoinChannels(),\n",
    "    SwapChannels((1, 2, 0)),\n",
    "    Resize(224),\n",
    "    ToFloat(),\n",
    "    SwapChannels((2, 0, 1)),\n",
    "    PixelStatsNorm(stats)\n",
    "    # Rescale()\n",
    "])\n",
    "\n",
    "test_transform = Compose([\n",
    "    JoinChannels(),\n",
    "    SwapChannels((1, 2, 0)),\n",
    "    Resize(224),\n",
    "    ToFloat(),\n",
    "    SwapChannels((2, 0, 1)),\n",
    "    PixelStatsNorm(stats)\n",
    "    # Rescale()\n",
    "])"
   ]
  },
  {
   "cell_type": "code",
   "execution_count": null,
   "metadata": {},
   "outputs": [],
   "source": [
    "list(stats)[:5]"
   ]
  },
  {
   "cell_type": "markdown",
   "metadata": {},
   "source": [
    "## Pipeline"
   ]
  },
  {
   "cell_type": "markdown",
   "metadata": {},
   "source": [
    "### Split"
   ]
  },
  {
   "cell_type": "code",
   "execution_count": null,
   "metadata": {},
   "outputs": [],
   "source": [
    "#export\n",
    "def split(records):\n",
    "    experiments = np.unique([r['experiment'] for r in records])\n",
    "    cell_types = np.unique([r['cell_type'] for r in records])\n",
    "\n",
    "    holdouts = []\n",
    "    for ct in cell_types:\n",
    "        holdout = np.random.choice(experiments[\n",
    "            [exp.startswith(ct) for exp in experiments]])\n",
    "        holdouts.append(holdout)\n",
    "\n",
    "    train_exp, valid_exp = [exp for exp in experiments if exp not in holdouts], holdouts\n",
    "    train = [r for r in records if r['experiment'] in train_exp]\n",
    "    valid = [r for r in records if r['experiment'] in valid_exp]\n",
    "    return train, valid"
   ]
  },
  {
   "cell_type": "markdown",
   "metadata": {},
   "source": [
    "### Loaders"
   ]
  },
  {
   "cell_type": "code",
   "execution_count": null,
   "metadata": {},
   "outputs": [],
   "source": [
    "#export\n",
    "def create_loaders(data, batch_size, n_cpu=12, with_test=False):\n",
    "    train_records, valid_records = split(data)\n",
    "\n",
    "    trn_ds = RxRxDataset(train_records, num_classes=NUM_CLASSES)\n",
    "    aug_trn_ds = Augmented(trn_ds, train_transform)\n",
    "\n",
    "    val_ds = RxRxDataset(valid_records, num_classes=NUM_CLASSES)\n",
    "    aug_val_ds = Augmented(val_ds, valid_transform)\n",
    "\n",
    "    loaders = OrderedDict([\n",
    "        ('train', DataLoader(\n",
    "            aug_trn_ds, batch_size=batch_size, \n",
    "            shuffle=True, num_workers=n_cpu)),\n",
    "        ('valid', DataLoader(\n",
    "            aug_val_ds, batch_size=batch_size, \n",
    "            shuffle=False, num_workers=n_cpu)),\n",
    "    ])\n",
    "    \n",
    "    return loaders"
   ]
  },
  {
   "cell_type": "markdown",
   "metadata": {},
   "source": [
    "## Model"
   ]
  },
  {
   "cell_type": "code",
   "execution_count": null,
   "metadata": {},
   "outputs": [],
   "source": [
    "#export\n",
    "from catalyst.contrib.modules import GlobalConcatPool2d"
   ]
  },
  {
   "cell_type": "code",
   "execution_count": null,
   "metadata": {},
   "outputs": [],
   "source": [
    "#export\n",
    "def create_resnet_model(size, num_classes):\n",
    "    model_name = f'resnet{size}'\n",
    "    model = pretrainedmodels.__dict__[model_name](num_classes=1000, pretrained='imagenet')\n",
    "    feat_dim = model.last_linear.in_features\n",
    "    model.last_linear = torch.nn.Linear(feat_dim, num_classes)\n",
    "    conv1 = model.conv1.weight\n",
    "    new_conv = nn.Conv2d(6, 64, kernel_size=7, stride=2, padding=3, bias=False)\n",
    "    with torch.no_grad():\n",
    "        new_conv.weight[:,:] = torch.stack([torch.mean(conv1, 1)]*6, dim=1)\n",
    "    model.conv1 = new_conv\n",
    "    return model"
   ]
  },
  {
   "cell_type": "code",
   "execution_count": null,
   "metadata": {},
   "outputs": [],
   "source": [
    "#export\n",
    "class RollingLoss:\n",
    "    def __init__(self, smooth=0.98):\n",
    "        self.smooth = smooth\n",
    "        self.prev = 0\n",
    "    def __call__(self, curr, batch_no):\n",
    "        a = self.smooth\n",
    "        avg_loss = a*self.prev + (1 - a)*curr\n",
    "        debias_loss = avg_loss/(1 - a**batch_no)\n",
    "        self.prev = avg_loss\n",
    "        return debias_loss"
   ]
  },
  {
   "cell_type": "code",
   "execution_count": null,
   "metadata": {},
   "outputs": [],
   "source": [
    "#export\n",
    "def freeze_all(model):\n",
    "    for child in model.children():\n",
    "        for param in child.parameters():\n",
    "            param.requires_grad = False"
   ]
  },
  {
   "cell_type": "code",
   "execution_count": null,
   "metadata": {},
   "outputs": [],
   "source": [
    "#export\n",
    "def unfreeze_all(model):\n",
    "    print('Unfreezing all model layers')\n",
    "    for child in model.children():\n",
    "        for param in child.parameters():\n",
    "            param.requires_grad = True"
   ]
  },
  {
   "cell_type": "code",
   "execution_count": null,
   "metadata": {},
   "outputs": [],
   "source": [
    "#export\n",
    "def unfreeze_layers(model, names):\n",
    "    print('Unfreezing layers:', names)\n",
    "    for name, child in model.named_children():\n",
    "        if name in names:\n",
    "            for param in child.parameters():\n",
    "                param.requires_grad = True"
   ]
  },
  {
   "cell_type": "code",
   "execution_count": null,
   "metadata": {},
   "outputs": [],
   "source": [
    "#export\n",
    "loss_fn = nn.CrossEntropyLoss()"
   ]
  },
  {
   "cell_type": "code",
   "execution_count": null,
   "metadata": {},
   "outputs": [],
   "source": [
    "#export\n",
    "device = torch.device('cuda:0')"
   ]
  },
  {
   "cell_type": "code",
   "execution_count": null,
   "metadata": {},
   "outputs": [],
   "source": [
    "#export\n",
    "model = create_resnet_model(size=101, num_classes=NUM_CLASSES)\n",
    "freeze_all(model)"
   ]
  },
  {
   "cell_type": "code",
   "execution_count": null,
   "metadata": {},
   "outputs": [],
   "source": [
    "#export\n",
    "epochs = 1000\n",
    "patience = 10\n",
    "\n",
    "opt = torch.optim.AdamW(model.parameters(), lr=0.0003, weight_decay=0.05)\n",
    "sched = torch.optim.lr_scheduler.ReduceLROnPlateau(opt, factor=0.3, patience=10, mode='max')\n",
    "model = model.to(device)\n",
    "rolling_loss = dict(train=RollingLoss(), valid=RollingLoss())\n",
    "steps = dict(train=0, valid=0)\n",
    "\n",
    "trials = 0\n",
    "best_metric = -np.inf\n",
    "history = []\n",
    "stop = False\n",
    "\n",
    "vis = Visdom(server='0.0.0.0', port=9091,\n",
    "             username=os.environ['VISDOM_USERNAME'],\n",
    "             password=os.environ['VISDOM_PASSWORD'])\n",
    "\n",
    "bs = 128\n",
    "loaders = create_loaders(train_records, batch_size=bs)\n",
    "unfreeze_all(model)\n",
    "\n",
    "for epoch in range(1, epochs+1):\n",
    "    print(f'Epoch [{epoch}/{epochs}]')\n",
    "    \n",
    "#     if epoch == 1:\n",
    "#         unfreeze_layers(model, ['last_linear'])\n",
    "#     elif epoch == 3:\n",
    "#         unfreeze_layers(model, ['layer4'])\n",
    "#     elif epoch == 5:\n",
    "#         unfreeze_layers(model, ['layer3'])\n",
    "#     elif epoch == 8:\n",
    "#         unfreeze_layers(model, ['layer2'])\n",
    "#     elif epoch == 11:\n",
    "#         unfreeze_all(model)\n",
    "\n",
    "    iteration = dict(epoch=epoch, train_loss=list(), valid_loss=list())\n",
    "    print(f\"Current learning rate: {opt.param_groups[0]['lr']:.2E}\")\n",
    "    \n",
    "    for name, loader in loaders.items():\n",
    "        is_training = name == 'train'\n",
    "        count = 0\n",
    "        metric = 0.0\n",
    "        \n",
    "        with torch.set_grad_enabled(is_training):\n",
    "            for batch in loader:\n",
    "                steps[name] += 1\n",
    "                opt.zero_grad()\n",
    "                x = batch['features'].to(device)\n",
    "                y = batch['targets'].to(device)\n",
    "                out = model(x)\n",
    "                \n",
    "                if is_training:\n",
    "                    loss = loss_fn(out, y)\n",
    "                    loss.backward()\n",
    "                    opt.step()\n",
    "                \n",
    "                avg_loss = rolling_loss[name](loss.item(), steps[name])\n",
    "                iteration[f'{name}_loss'].append(avg_loss)\n",
    "                y_pred = out.softmax(dim=1).argmax(dim=1)\n",
    "                acc = (y_pred == y).float().mean().item()\n",
    "                metric += acc\n",
    "                count += len(batch)\n",
    "                vis.line(X=[steps[name]], Y=[avg_loss], name=f'{name}_loss', \n",
    "                         win=f'{name}_loss', update='append', \n",
    "                         opts=dict(title=f'Running Loss [{name}]'))\n",
    "        \n",
    "        metric /= count\n",
    "        iteration[f'{name}_acc'] = metric\n",
    "        vis.line(X=[epoch], Y=[avg_loss], name=f'{name}', win='avg_loss',\n",
    "                 update='append', opts=dict(title='Average Epoch Loss'))\n",
    "        vis.line(X=[epoch], Y=[metric], name=f'{name}', win='accuracy', \n",
    "                 update='append', opts=dict(title=f'Accuracy'))\n",
    "        \n",
    "        last_loss = iteration[f'{name}_loss'][-1]\n",
    "        \n",
    "        print(f'{name} metrics: accuracy={metric:2.3%}, loss={last_loss:.4f}')\n",
    "          \n",
    "        if not is_training:\n",
    "            sched.step(metric)\n",
    "            if metric > best_metric:\n",
    "                trials = 0\n",
    "                best_metric = metric\n",
    "                print('Score improved!')\n",
    "                torch.save(model.state_dict(), f'train.{epoch}.pth')\n",
    "            else:\n",
    "                trials += 1\n",
    "                if trials >= patience:\n",
    "                    stop = True\n",
    "                    break\n",
    "    \n",
    "    history.append(iteration)\n",
    "    \n",
    "    print('-' * 80)\n",
    "    \n",
    "    if stop:\n",
    "        print(f'Early stopping on epoch: {epoch}')\n",
    "        break\n",
    "\n",
    "torch.save(history, 'history.pth')"
   ]
  },
  {
   "cell_type": "code",
   "execution_count": null,
   "metadata": {},
   "outputs": [],
   "source": [
    "# from tqdm import tqdm_notebook as tqdm\n",
    "\n",
    "# model = create_resnet_model(size=34, num_classes=NUM_CLASSES)\n",
    "# model = model.to(device)\n",
    "# freeze_all(model)\n",
    "# model.load_state_dict(torch.load('checkpoints/train.10.pth'))\n",
    "\n",
    "# _, test_dl = create_loaders(train_records, batch_size=800, with_test=True)\n",
    "# preds = []\n",
    "# with torch.no_grad():\n",
    "#     for batch in tqdm(test_dl):\n",
    "#         out = model(batch['features'].to(device))\n",
    "#         y = out.softmax(dim=1)\n",
    "#         preds.extend(y.tolist())"
   ]
  },
  {
   "cell_type": "code",
   "execution_count": null,
   "metadata": {},
   "outputs": [],
   "source": [
    "# from dataset import list_files"
   ]
  },
  {
   "cell_type": "code",
   "execution_count": null,
   "metadata": {},
   "outputs": [],
   "source": [
    "# filenames = sorted(list_files('~/data/protein/tmp/test'))\n",
    "\n",
    "# # odd\n",
    "# site1 = []\n",
    "# for filename, pred in list(zip(filenames, preds))[::2]:\n",
    "#     basename, _ = os.path.splitext(os.path.basename(filename))\n",
    "#     sirna = int(basename.split('_')[-1])\n",
    "#     if sirna != 0: \n",
    "#         continue\n",
    "#     site1.append(pred)\n",
    "    \n",
    "# # even\n",
    "# site2 = []\n",
    "# for filename, pred in list(zip(filenames, preds))[1::2]:\n",
    "#     basename, _ = os.path.splitext(os.path.basename(filename))\n",
    "#     sirna = int(basename.split('_')[-1])\n",
    "#     if sirna != 0: \n",
    "#         continue\n",
    "#     site2.append(pred)\n",
    "    \n",
    "# t1 = torch.tensor(site1)\n",
    "# t2 = torch.tensor(site2)\n",
    "# avg_pred = ((t1 + t2)/2).argmax(dim=1)\n",
    "# print(avg_pred.shape)"
   ]
  },
  {
   "cell_type": "code",
   "execution_count": null,
   "metadata": {},
   "outputs": [],
   "source": [
    "# sample = pd.read_csv('/home/ck/data/protein/sample_submission.csv')\n",
    "# sample['sirna'] = avg_pred.tolist()\n",
    "# sample.to_csv('submit.csv', index=False)\n",
    "# from IPython.display import FileLink\n",
    "# FileLink('submit.csv')"
   ]
  },
  {
   "cell_type": "code",
   "execution_count": null,
   "metadata": {},
   "outputs": [],
   "source": [
    "# history"
   ]
  },
  {
   "cell_type": "code",
   "execution_count": null,
   "metadata": {},
   "outputs": [],
   "source": [
    "#!rm -rf *.pth"
   ]
  }
 ],
 "metadata": {
  "kernelspec": {
   "display_name": "fastai (cuda 10)",
   "language": "python",
   "name": "fastai"
  },
  "language_info": {
   "codemirror_mode": {
    "name": "ipython",
    "version": 3
   },
   "file_extension": ".py",
   "mimetype": "text/x-python",
   "name": "python",
   "nbconvert_exporter": "python",
   "pygments_lexer": "ipython3",
   "version": "3.7.3"
  },
  "toc": {
   "base_numbering": 1,
   "nav_menu": {},
   "number_sections": true,
   "sideBar": true,
   "skip_h1_title": false,
   "title_cell": "Table of Contents",
   "title_sidebar": "Contents",
   "toc_cell": false,
   "toc_position": {},
   "toc_section_display": true,
   "toc_window_display": false
  }
 },
 "nbformat": 4,
 "nbformat_minor": 2
}
