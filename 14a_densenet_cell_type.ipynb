{
 "cells": [
  {
   "cell_type": "code",
   "execution_count": 13,
   "metadata": {},
   "outputs": [],
   "source": [
    "# *** UPDATE THE FOLLOWING LINE! ***"
   ]
  },
  {
   "cell_type": "code",
   "execution_count": 1,
   "metadata": {},
   "outputs": [],
   "source": [
    "#export\n",
    "CELL_INDEX = 0  # {0, 1, 2, 3}"
   ]
  },
  {
   "cell_type": "code",
   "execution_count": 2,
   "metadata": {},
   "outputs": [],
   "source": [
    "#export\n",
    "CELL_TYPES = ['HEPG2', 'RPE', 'HUVEC', 'U2OS']\n",
    "CELL_TYPE = CELL_TYPES[CELL_INDEX]"
   ]
  },
  {
   "cell_type": "code",
   "execution_count": 3,
   "metadata": {},
   "outputs": [
    {
     "name": "stdout",
     "output_type": "stream",
     "text": [
      "Exported: 14a_densenet_cell_type.ipynb -> densenet_cell_type.py\r\n",
      "1 notebook(s) exported into folder: .\r\n"
     ]
    }
   ],
   "source": [
    "!python -m jupytools export -nb \"14a_densenet_cell_type.ipynb\" -o .\n",
    "!mv densenet_cell_type.py \"densenet121_{CELL_TYPE}.py\""
   ]
  },
  {
   "cell_type": "code",
   "execution_count": 4,
   "metadata": {},
   "outputs": [],
   "source": [
    "%reload_ext autoreload\n",
    "%autoreload 2"
   ]
  },
  {
   "cell_type": "code",
   "execution_count": 4,
   "metadata": {},
   "outputs": [],
   "source": [
    "# https://www.kaggle.com/tanlikesmath/rcic-fastai-starter"
   ]
  },
  {
   "cell_type": "code",
   "execution_count": 5,
   "metadata": {},
   "outputs": [
    {
     "name": "stdout",
     "output_type": "stream",
     "text": [
      "Fine-tuning on cell type: HEPG2\n"
     ]
    }
   ],
   "source": [
    "#export\n",
    "print(f'Fine-tuning on cell type: {CELL_TYPE}')"
   ]
  },
  {
   "cell_type": "markdown",
   "metadata": {},
   "source": [
    "## Imports "
   ]
  },
  {
   "cell_type": "code",
   "execution_count": 6,
   "metadata": {},
   "outputs": [],
   "source": [
    "#export\n",
    "from collections import defaultdict, OrderedDict\n",
    "import json\n",
    "import os\n",
    "from os.path import dirname, join\n",
    "from functools import reduce\n",
    "from pdb import set_trace\n",
    "\n",
    "import cv2 as cv\n",
    "import jupytools\n",
    "import jupytools.syspath\n",
    "import numpy as np\n",
    "import pandas as pd\n",
    "import PIL.Image\n",
    "import matplotlib.pyplot as plt\n",
    "\n",
    "from catalyst.utils import get_one_hot\n",
    "from imageio import imread\n",
    "import pretrainedmodels\n",
    "import torch\n",
    "import torch.nn as nn\n",
    "from torch.utils.data import Dataset, DataLoader\n",
    "from visdom import Visdom\n",
    "\n",
    "jupytools.syspath.add(join(dirname(os.getcwd()), 'protein_project'))\n",
    "jupytools.syspath.add('rxrx1-utils')\n",
    "if jupytools.is_notebook():\n",
    "    from tqdm import tqdm_notebook as tqdm\n",
    "else:\n",
    "    from tqdm import tqdm as tdqm\n",
    "    \n",
    "from basedir import ROOT, NUM_CLASSES\n",
    "from dataset import build_stats_index"
   ]
  },
  {
   "cell_type": "code",
   "execution_count": 7,
   "metadata": {},
   "outputs": [],
   "source": [
    "#export\n",
    "torch.set_default_tensor_type(torch.FloatTensor)"
   ]
  },
  {
   "cell_type": "markdown",
   "metadata": {},
   "source": [
    "## Dataset Reader"
   ]
  },
  {
   "cell_type": "code",
   "execution_count": 8,
   "metadata": {},
   "outputs": [],
   "source": [
    "#export\n",
    "from augmentation import JoinChannels, SwapChannels, Resize, ToFloat, Rescale\n",
    "from augmentation import VerticalFlip, HorizontalFlip, PixelStatsNorm, composer\n",
    "from augmentation import AugmentedImages, bernoulli"
   ]
  },
  {
   "cell_type": "code",
   "execution_count": 9,
   "metadata": {},
   "outputs": [],
   "source": [
    "#export\n",
    "default_open_fn = imread  # PIL.Image.open"
   ]
  },
  {
   "cell_type": "code",
   "execution_count": 10,
   "metadata": {},
   "outputs": [],
   "source": [
    "#export\n",
    "class RxRxImages(Dataset):\n",
    "    def __init__(self, meta_df, img_dir, site=1, channels=(1, 2, 3, 4, 5, 6), \n",
    "                 open_image=default_open_fn, n_classes=NUM_CLASSES, train=True):\n",
    "        \n",
    "        self.records = meta_df.to_records(index=False)\n",
    "        self.img_dir = img_dir\n",
    "        self.site = site\n",
    "        self.channels = channels\n",
    "        self.n = len(self.records)\n",
    "        self.open_image = open_image\n",
    "        self.n_classes = n_classes\n",
    "        self.train = train\n",
    "        \n",
    "    def _get_image_path(self, index, channel):\n",
    "        r = self.records[index]\n",
    "        exp, plate, well = r.experiment, r.plate, r.well\n",
    "        subdir = 'train' if self.train else 'test'\n",
    "        path = f'{self.img_dir}/{subdir}/{exp}/Plate{plate}/{well}_s{self.site}_w{channel}.png'\n",
    "        return path\n",
    "    \n",
    "    def __getitem__(self, index):\n",
    "        paths = [self._get_image_path(index, ch) for ch in self.channels]\n",
    "        images = [self.open_image(p) for p in paths]\n",
    "\n",
    "        try:\n",
    "            img = np.stack(images)\n",
    "        except (TypeError, ValueError) as e:\n",
    "            print(f'Warning: cannot concatenate images! {e.__class__.__name__}: {e}')\n",
    "            for filename, image in zip(paths, images):\n",
    "                print(f'\\tpath={filename}, size={image.size}')\n",
    "            index = (index + 1) % len(self)\n",
    "            print(f'Skipping instance {index} and trying another one...')\n",
    "            return self[index]\n",
    "        finally:\n",
    "            for image in images:\n",
    "                if hasattr(image, 'close'):\n",
    "                    image.close()\n",
    "            \n",
    "        img = img.astype(np.float32)\n",
    "        img = img.transpose(1, 2, 0)\n",
    "        r = self.records[index]\n",
    "        if self.train:\n",
    "            sirna = r.sirna\n",
    "            target = int(sirna)\n",
    "            onehot = get_one_hot(target, num_classes=self.n_classes)\n",
    "            return {'features': img, 'targets': target, \n",
    "                    'targets_one_hot': onehot, 'id_code': r.id_code,\n",
    "                    'site': self.site}\n",
    "        else:\n",
    "            id_code = r.id_code\n",
    "            return {'features': img, 'id_code': id_code, 'site': self.site}\n",
    "    \n",
    "    def __len__(self): \n",
    "        return self.n"
   ]
  },
  {
   "cell_type": "code",
   "execution_count": 11,
   "metadata": {},
   "outputs": [],
   "source": [
    "#export\n",
    "class TwoSiteImages(Dataset):\n",
    "    def __init__(self, ds1, ds2, swap=0.0):\n",
    "        assert len(ds1) == len(ds2)\n",
    "        self.ds1, self.ds2 = ds1, ds2\n",
    "        self.swap = swap\n",
    "        self.size = len(ds1)\n",
    "        \n",
    "    def __getitem__(self, index):\n",
    "        s1, s2 = self.ds1[index], self.ds2[index]\n",
    "        if self.swap and bernoulli(self.swap) == 1:\n",
    "            s1, s2 = s2, s1\n",
    "        return {'site1': s1, 'site2': s2}\n",
    "    \n",
    "    def __len__(self):\n",
    "        return self.size"
   ]
  },
  {
   "cell_type": "markdown",
   "metadata": {},
   "source": [
    "## Pipeline Preparation"
   ]
  },
  {
   "cell_type": "code",
   "execution_count": 12,
   "metadata": {},
   "outputs": [
    {
     "name": "stdout",
     "output_type": "stream",
     "text": [
      "(6642, 5) (1108, 5) 0.16681722372779284\n"
     ]
    }
   ],
   "source": [
    "#export\n",
    "from split import DataFrameSplit\n",
    "\n",
    "def get_cell_type(x): return x.split('-')[0]\n",
    "\n",
    "class HoldoutSplit(DataFrameSplit):\n",
    "    def apply(self, data_frame):\n",
    "        experiments = data_frame.experiment.unique()\n",
    "        cell_types = defaultdict(list)\n",
    "        for exp in experiments:\n",
    "            cell_type, _ = exp.split('-')\n",
    "            cell_types[cell_type].append(exp)\n",
    "        training, holdout = [], []\n",
    "        for cell_type, subset in cell_types.items():\n",
    "            valid = np.random.choice(subset)\n",
    "            subset.remove(valid)\n",
    "            training.extend(subset)\n",
    "            holdout.append(valid)\n",
    "        training_df = data_frame[data_frame.experiment.isin(training)].copy()\n",
    "        valid_df = data_frame[data_frame.experiment.isin(holdout)].copy()\n",
    "        return training_df, valid_df\n",
    "\n",
    "sub_df = pd.read_csv(ROOT/'train.csv')\n",
    "tst_df = pd.read_csv(ROOT/'test.csv')\n",
    "stats = build_stats_index(ROOT/'pixel_stats.csv')\n",
    "\n",
    "splitter = HoldoutSplit()\n",
    "cell_df = sub_df.loc[sub_df.experiment.map(get_cell_type) == CELL_TYPE].copy()\n",
    "trn_df, val_df = splitter(cell_df)\n",
    "print(trn_df.shape, val_df.shape, len(val_df)/len(trn_df))"
   ]
  },
  {
   "cell_type": "code",
   "execution_count": 13,
   "metadata": {},
   "outputs": [],
   "source": [
    "#export\n",
    "sz = 512\n",
    "trn_ds = TwoSiteImages(\n",
    "    ds1=AugmentedImages(ds=RxRxImages(trn_df, ROOT, site=1), tr=composer([\n",
    "        HorizontalFlip(p=0.1),\n",
    "        VerticalFlip(p=0.1),\n",
    "        PixelStatsNorm(stats, channels_first=False),\n",
    "    ], resize=sz, rescale=False)),\n",
    "    ds2=AugmentedImages(ds=RxRxImages(trn_df, ROOT, site=2), tr=composer([\n",
    "        HorizontalFlip(p=0.1),\n",
    "        VerticalFlip(p=0.1),\n",
    "        PixelStatsNorm(stats, channels_first=False),\n",
    "    ], resize=sz, rescale=False))\n",
    ")\n",
    "val_ds = TwoSiteImages(\n",
    "    ds1=AugmentedImages(ds=RxRxImages(val_df, ROOT, site=1), tr=composer([\n",
    "        PixelStatsNorm(stats, channels_first=False)\n",
    "    ],resize=sz, rescale=False)),\n",
    "    ds2=AugmentedImages(ds=RxRxImages(val_df, ROOT, site=2), tr=composer([\n",
    "        PixelStatsNorm(stats, channels_first=False)\n",
    "    ],resize=sz, rescale=False))\n",
    ")"
   ]
  },
  {
   "cell_type": "code",
   "execution_count": 14,
   "metadata": {},
   "outputs": [],
   "source": [
    "tst_ds = TwoSiteImages(\n",
    "    ds1=AugmentedImages(ds=RxRxImages(tst_df, ROOT, site=1, train=False), tr=composer([\n",
    "        PixelStatsNorm(stats, channels_first=False)\n",
    "    ], resize=sz, rescale=False)),\n",
    "    ds2=AugmentedImages(ds=RxRxImages(tst_df, ROOT, site=2, train=False), tr=composer([\n",
    "        PixelStatsNorm(stats, channels_first=False)\n",
    "    ], resize=sz, rescale=False))\n",
    ")"
   ]
  },
  {
   "cell_type": "code",
   "execution_count": 15,
   "metadata": {},
   "outputs": [],
   "source": [
    "#export\n",
    "def new_loader(ds, bs, drop_last=False, shuffle=True, num_workers=12):\n",
    "    return DataLoader(ds, batch_size=bs, drop_last=drop_last, \n",
    "                      shuffle=shuffle, num_workers=num_workers)"
   ]
  },
  {
   "cell_type": "markdown",
   "metadata": {},
   "source": [
    "## Model"
   ]
  },
  {
   "cell_type": "code",
   "execution_count": 16,
   "metadata": {},
   "outputs": [],
   "source": [
    "#export\n",
    "def densenet(name='densenet121', n_classes=NUM_CLASSES):\n",
    "    model_fn = pretrainedmodels.__dict__[name]\n",
    "    model = model_fn(num_classes=1000, pretrained='imagenet')\n",
    "    new_conv = nn.Conv2d(6, 64, 7, 2, 3, bias=False)\n",
    "    conv0 = model.features.conv0.weight\n",
    "    with torch.no_grad():\n",
    "        new_conv.weight[:, :] = torch.stack([torch.mean(conv0, 1)]*6, dim=1)\n",
    "    model.features.conv0 = new_conv\n",
    "    return model"
   ]
  },
  {
   "cell_type": "code",
   "execution_count": 17,
   "metadata": {},
   "outputs": [],
   "source": [
    "#export\n",
    "from catalyst.contrib.modules import GlobalConcatPool2d\n",
    "class DenseNet_TwoSites(nn.Module):\n",
    "    def __init__(self, name, n_classes=NUM_CLASSES):\n",
    "        super().__init__()\n",
    "        \n",
    "        base = densenet(name=name, n_classes=n_classes)\n",
    "        feat_dim = base.last_linear.in_features\n",
    "        \n",
    "        self.base = base \n",
    "        self.pool = GlobalConcatPool2d()\n",
    "        self.head = nn.Sequential(\n",
    "            nn.Linear(feat_dim * 2, feat_dim * 2),\n",
    "            nn.BatchNorm1d(feat_dim * 2),\n",
    "            nn.ReLU(inplace=True),\n",
    "            nn.Dropout(0.25),\n",
    "            nn.Linear(feat_dim * 2, n_classes)\n",
    "        )\n",
    "        \n",
    "    def forward(self, s1, s2):\n",
    "        f1 = self.base.features(s1)\n",
    "        f2 = self.base.features(s2)\n",
    "        f_merged = self.pool(f1 + f2)\n",
    "        out = self.head(f_merged.squeeze())\n",
    "        return out"
   ]
  },
  {
   "cell_type": "code",
   "execution_count": 18,
   "metadata": {},
   "outputs": [],
   "source": [
    "#export\n",
    "def freeze_all(model):\n",
    "    for name, child in model.named_children():\n",
    "        print('Freezing layer:', name)\n",
    "        for param in child.parameters():\n",
    "            param.requires_grad = False"
   ]
  },
  {
   "cell_type": "code",
   "execution_count": 19,
   "metadata": {},
   "outputs": [],
   "source": [
    "#export\n",
    "def unfreeze_all(model):\n",
    "    for name, child in model.named_children():\n",
    "        print('Un-freezing layer:', name)\n",
    "        for param in child.parameters():\n",
    "            param.requires_grad = True"
   ]
  },
  {
   "cell_type": "code",
   "execution_count": 20,
   "metadata": {},
   "outputs": [],
   "source": [
    "#export\n",
    "def unfreeze_layers(model, names):\n",
    "    for name, child in model.named_children():\n",
    "        if name not in names:\n",
    "            continue\n",
    "        print('Un-freezing layer:', name)\n",
    "        for param in child.parameters():\n",
    "            param.requires_grad = True"
   ]
  },
  {
   "cell_type": "markdown",
   "metadata": {
    "heading_collapsed": true
   },
   "source": [
    "## Train"
   ]
  },
  {
   "cell_type": "code",
   "execution_count": 20,
   "metadata": {
    "hidden": true
   },
   "outputs": [
    {
     "name": "stdout",
     "output_type": "stream",
     "text": [
      "Un-freezing layer: base\n",
      "Un-freezing layer: pool\n",
      "Un-freezing layer: head\n"
     ]
    }
   ],
   "source": [
    "#export\n",
    "path = 'densenet121_long_training/train.29.pth'\n",
    "model = DenseNet_TwoSites('densenet121')\n",
    "state = torch.load(path, map_location=lambda loc, storage: loc)\n",
    "model.load_state_dict(state['model'])\n",
    "unfreeze_all(model)"
   ]
  },
  {
   "cell_type": "code",
   "execution_count": 30,
   "metadata": {
    "hidden": true
   },
   "outputs": [],
   "source": [
    "#export\n",
    "from visdom import Visdom"
   ]
  },
  {
   "cell_type": "code",
   "execution_count": 31,
   "metadata": {
    "hidden": true
   },
   "outputs": [],
   "source": [
    "#export\n",
    "class RollingLoss:\n",
    "    def __init__(self, smooth=0.98):\n",
    "        self.smooth = smooth\n",
    "        self.prev = 0\n",
    "    def __call__(self, curr, batch_no):\n",
    "        a = self.smooth\n",
    "        avg_loss = a*self.prev + (1 - a)*curr\n",
    "        debias_loss = avg_loss/(1 - a**batch_no)\n",
    "        self.prev = avg_loss\n",
    "        return debias_loss"
   ]
  },
  {
   "cell_type": "code",
   "execution_count": 32,
   "metadata": {
    "hidden": true
   },
   "outputs": [],
   "source": [
    "#export\n",
    "def create_loaders(batch_size):\n",
    "    trn_dl = new_loader(trn_ds, bs=batch_size, shuffle=True)\n",
    "    val_dl = new_loader(val_ds, bs=batch_size, shuffle=False)\n",
    "    return OrderedDict([('train', trn_dl), ('valid', val_dl)])"
   ]
  },
  {
   "cell_type": "code",
   "execution_count": 33,
   "metadata": {
    "hidden": true
   },
   "outputs": [],
   "source": [
    "#export\n",
    "class Checkpoint:\n",
    "    def __init__(self, output_dir):\n",
    "        if os.path.exists(output_dir):\n",
    "            print('Warning! Output folder already exists.')\n",
    "        os.makedirs(output_dir, exist_ok=True)\n",
    "        self.output_dir = output_dir\n",
    "    \n",
    "    def __call__(self, epoch, **objects):\n",
    "        filename = os.path.join(self.output_dir, f'train.{epoch}.pth')\n",
    "        checkpoint = {}\n",
    "        for k, v in objects.items():\n",
    "            if hasattr(v, 'state_dict'):\n",
    "                v = v.state_dict()\n",
    "            checkpoint[k] = v\n",
    "        torch.save(checkpoint, filename)\n",
    "        return filename"
   ]
  },
  {
   "cell_type": "code",
   "execution_count": 34,
   "metadata": {
    "hidden": true
   },
   "outputs": [],
   "source": [
    "#export\n",
    "from torch.optim.lr_scheduler import _LRScheduler\n",
    "class CosineDecay(_LRScheduler):\n",
    "    def __init__(self, optimizer, total_steps,\n",
    "                 linear_start=0,\n",
    "                 linear_frac=0.1, min_lr=1e-6,\n",
    "                 last_epoch=-1):\n",
    "        \n",
    "        self.optimizer = optimizer\n",
    "        self.total_steps = total_steps\n",
    "        self.linear_start = linear_start\n",
    "        self.linear_frac = linear_frac\n",
    "        self.min_lr = min_lr\n",
    "        self.linear_steps = total_steps * linear_frac\n",
    "        self.cosine_steps = total_steps - self.linear_steps\n",
    "        super().__init__(optimizer, last_epoch)\n",
    "        \n",
    "    def get_lr(self):\n",
    "        step = self.last_epoch\n",
    "        if step <= self.linear_steps:\n",
    "            b = self.linear_start\n",
    "            return [(step/self.linear_steps) * (base_lr - b) + b for base_lr in self.base_lrs]\n",
    "        else:\n",
    "            t = self.last_epoch - self.linear_steps\n",
    "            T = self.cosine_steps\n",
    "            return [self.min_lr + (base_lr - self.min_lr)*(1 + np.cos(t*np.pi/T))/2\n",
    "                    for base_lr in self.base_lrs]"
   ]
  },
  {
   "cell_type": "code",
   "execution_count": 35,
   "metadata": {
    "hidden": true
   },
   "outputs": [],
   "source": [
    "#export\n",
    "loss_fn = nn.CrossEntropyLoss()\n",
    "device = torch.device('cuda:0')"
   ]
  },
  {
   "cell_type": "code",
   "execution_count": null,
   "metadata": {
    "hidden": true
   },
   "outputs": [],
   "source": [
    "#export\n",
    "from lookahead import Lookahead\n",
    "\n",
    "epochs = 30\n",
    "patience = 10\n",
    "base_lr = 3e-4\n",
    "\n",
    "opt = Lookahead(torch.optim.AdamW(params=[\n",
    "    {'params': model.head.parameters(),                      'lr': base_lr     },\n",
    "    {'params': model.base.features.denseblock4.parameters(), 'lr': base_lr / 3 },\n",
    "    {'params': model.base.features.denseblock3.parameters(), 'lr': base_lr / 5 },\n",
    "    {'params': model.base.features.denseblock2.parameters(), 'lr': base_lr / 5 },\n",
    "    {'params': model.base.features.denseblock1.parameters(), 'lr': base_lr / 10},\n",
    "]))\n",
    "model = model.to(device)\n",
    "rolling_loss = dict(train=RollingLoss(), valid=RollingLoss())\n",
    "steps = dict(train=0, valid=0)\n",
    "\n",
    "trials = 0\n",
    "best_metric = -np.inf\n",
    "history = []\n",
    "stop = False\n",
    "\n",
    "vis = Visdom(server='0.0.0.0', port=9090,\n",
    "             username=os.environ['VISDOM_USERNAME'],\n",
    "             password=os.environ['VISDOM_PASSWORD'])\n",
    "\n",
    "loaders = create_loaders(batch_size=7)\n",
    "\n",
    "sched = CosineDecay(\n",
    "    opt,\n",
    "    total_steps=len(loaders['train']) * epochs,\n",
    "    linear_start=base_lr / 100,\n",
    "    linear_frac=0.2, \n",
    "    min_lr=base_lr / 300)\n",
    "\n",
    "checkpoint = Checkpoint(f'densenet121_{CELL_TYPE}')\n",
    "\n",
    "unfreeze_all(model)\n",
    "\n",
    "log_freq = 25\n",
    "\n",
    "for epoch in range(1, epochs+1):\n",
    "    print(f'Epoch [{epoch}/{epochs}]')\n",
    "    \n",
    "    iteration = dict(epoch=epoch, train_loss=list(), valid_loss=list())\n",
    "    \n",
    "    for name, loader in loaders.items():\n",
    "        is_training = name == 'train'\n",
    "        count = 0\n",
    "        metric = 0.0\n",
    "        \n",
    "        with torch.set_grad_enabled(is_training):\n",
    "            for batch_no, batch in enumerate(loader):\n",
    "                steps[name] += 1\n",
    "                opt.zero_grad()\n",
    "\n",
    "                y = batch['site1']['targets'].to(device)\n",
    "                \n",
    "                out = model(\n",
    "                    batch['site1']['features'].to(device),\n",
    "                    batch['site2']['features'].to(device)\n",
    "                )\n",
    "                \n",
    "                if is_training:\n",
    "                    loss = loss_fn(out, y)\n",
    "                    loss.backward()\n",
    "                    opt.step()\n",
    "                    sched.step()\n",
    "                    \n",
    "                    curr_lr = opt.param_groups[0]['lr']\n",
    "                    vis.line(X=[steps[name]], Y=[curr_lr], win='lr', name='lr', update='append')    \n",
    "                \n",
    "                avg_loss = rolling_loss[name](loss.item(), steps[name])\n",
    "                iteration[f'{name}_loss'].append(avg_loss)\n",
    "                y_pred = out.softmax(dim=1).argmax(dim=1)\n",
    "                acc = (y_pred == y).float().mean().item()\n",
    "                metric += acc\n",
    "                count += len(batch)\n",
    "                if batch_no % log_freq == 0:\n",
    "                    vis.line(X=[steps[name]], Y=[avg_loss], name=f'{name}_loss', \n",
    "                             win=f'{name}_loss', update='append', \n",
    "                             opts=dict(title=f'Running Loss [{name}]'))\n",
    "        \n",
    "        metric /= count\n",
    "        iteration[f'{name}_acc'] = metric\n",
    "        vis.line(X=[epoch], Y=[avg_loss], name=f'{name}', win='avg_loss',\n",
    "                 update='append', opts=dict(title='Average Epoch Loss'))\n",
    "        vis.line(X=[epoch], Y=[metric], name=f'{name}', win='accuracy', \n",
    "                 update='append', opts=dict(title=f'Accuracy'))\n",
    "        \n",
    "        last_loss = iteration[f'{name}_loss'][-1]\n",
    "        \n",
    "        print(f'{name} metrics: accuracy={metric:2.3%}, loss={last_loss:.4f}')\n",
    "          \n",
    "        if is_training:\n",
    "            pass\n",
    "          \n",
    "        else:\n",
    "            if metric > best_metric:\n",
    "                trials = 0\n",
    "                best_metric = metric\n",
    "                print('Score improved!')\n",
    "                checkpoint(epoch, model=model, opt=opt)\n",
    "\n",
    "            else:\n",
    "                trials += 1\n",
    "                if trials >= patience:\n",
    "                    stop = True\n",
    "                    break\n",
    "    \n",
    "    history.append(iteration)\n",
    "    \n",
    "    print('-' * 80)\n",
    "    \n",
    "    if stop:\n",
    "        print(f'Early stopping on epoch: {epoch}')\n",
    "        break\n",
    "\n",
    "torch.save(history, f'{checkpoint.output_dir}/history.pth')"
   ]
  },
  {
   "cell_type": "markdown",
   "metadata": {},
   "source": [
    "## Test"
   ]
  },
  {
   "cell_type": "markdown",
   "metadata": {},
   "source": [
    "### Multi-Model"
   ]
  },
  {
   "cell_type": "code",
   "execution_count": 21,
   "metadata": {},
   "outputs": [],
   "source": [
    "device = torch.device('cuda:0')"
   ]
  },
  {
   "cell_type": "code",
   "execution_count": 22,
   "metadata": {},
   "outputs": [],
   "source": [
    "from operator import itemgetter"
   ]
  },
  {
   "cell_type": "code",
   "execution_count": 23,
   "metadata": {},
   "outputs": [],
   "source": [
    "cell_types = tst_df.experiment.map(lambda x: x.split('-')[0]).unique()"
   ]
  },
  {
   "cell_type": "code",
   "execution_count": 25,
   "metadata": {},
   "outputs": [
    {
     "name": "stdout",
     "output_type": "stream",
     "text": [
      "Loading fine-tuned model for cell type: HEPG2\n",
      "Loading file: train.13.pth\n",
      "Freezing layer: base\n",
      "Freezing layer: pool\n",
      "Freezing layer: head\n",
      "Loading fine-tuned model for cell type: HUVEC\n",
      "Loading file: train.17.pth\n",
      "Freezing layer: base\n",
      "Freezing layer: pool\n",
      "Freezing layer: head\n",
      "Loading fine-tuned model for cell type: RPE\n",
      "Loading file: train.10.pth\n",
      "Freezing layer: base\n",
      "Freezing layer: pool\n",
      "Freezing layer: head\n",
      "Loading fine-tuned model for cell type: U2OS\n",
      "Loading file: train.10.pth\n",
      "Freezing layer: base\n",
      "Freezing layer: pool\n",
      "Freezing layer: head\n"
     ]
    }
   ],
   "source": [
    "models = {}\n",
    "for ct in cell_types:\n",
    "    print(f'Loading fine-tuned model for cell type: {ct}')\n",
    "    model = DenseNet_TwoSites('densenet121')\n",
    "    model = model.to(device)\n",
    "    dirname = f'densenet121_{ct}'\n",
    "    weights = [(fn, int(fn.split('.')[1])) for fn in os.listdir(dirname) if fn != 'history.pth']\n",
    "    if not weights:\n",
    "        print('Warning: weights not found! Skipping cell type...')\n",
    "        continue\n",
    "    print(f'Loading file: {best}')\n",
    "    [best, _] = sorted(weights, key=itemgetter(1), reverse=True)[0]\n",
    "    state = torch.load(os.path.join(dirname, best), map_location=lambda loc, storage: loc)\n",
    "    model.load_state_dict(state['model'])\n",
    "    freeze_all(model)\n",
    "    _ = model.eval()\n",
    "    models[ct] = model"
   ]
  },
  {
   "cell_type": "code",
   "execution_count": 34,
   "metadata": {},
   "outputs": [
    {
     "name": "stdout",
     "output_type": "stream",
     "text": [
      "Running model for cell type: HEPG2\n",
      "Number of test records for this type: 4429\n"
     ]
    },
    {
     "data": {
      "application/vnd.jupyter.widget-view+json": {
       "model_id": "1879ad39fde147e5a06382580928ba57",
       "version_major": 2,
       "version_minor": 0
      },
      "text/plain": [
       "HBox(children=(IntProgress(value=0, max=70), HTML(value='')))"
      ]
     },
     "metadata": {},
     "output_type": "display_data"
    },
    {
     "name": "stdout",
     "output_type": "stream",
     "text": [
      "Running model for cell type: HUVEC\n",
      "Number of test records for this type: 8846\n"
     ]
    },
    {
     "data": {
      "application/vnd.jupyter.widget-view+json": {
       "model_id": "1003c8d0ae34419f9c48281bec13d6fc",
       "version_major": 2,
       "version_minor": 0
      },
      "text/plain": [
       "HBox(children=(IntProgress(value=0, max=139), HTML(value='')))"
      ]
     },
     "metadata": {},
     "output_type": "display_data"
    },
    {
     "name": "stdout",
     "output_type": "stream",
     "text": [
      "Running model for cell type: RPE\n",
      "Number of test records for this type: 4417\n"
     ]
    },
    {
     "data": {
      "application/vnd.jupyter.widget-view+json": {
       "model_id": "c9809791d82e4106a861bbe3d6a64dfd",
       "version_major": 2,
       "version_minor": 0
      },
      "text/plain": [
       "HBox(children=(IntProgress(value=0, max=70), HTML(value='')))"
      ]
     },
     "metadata": {},
     "output_type": "display_data"
    },
    {
     "name": "stdout",
     "output_type": "stream",
     "text": [
      "Warning! Batch size 1, duplicating to deal with BN\n",
      "Running model for cell type: U2OS\n",
      "Number of test records for this type: 2205\n"
     ]
    },
    {
     "data": {
      "application/vnd.jupyter.widget-view+json": {
       "model_id": "d00ccee089b34a26bbe25b6dd32b8636",
       "version_major": 2,
       "version_minor": 0
      },
      "text/plain": [
       "HBox(children=(IntProgress(value=0, max=35), HTML(value='')))"
      ]
     },
     "metadata": {},
     "output_type": "display_data"
    }
   ],
   "source": [
    "with torch.no_grad():\n",
    "    preds = {}\n",
    "    probs = {}\n",
    "    for cell_type, model in models.items():\n",
    "        print(f'Running model for cell type: {cell_type}')\n",
    "        ct_df = tst_df[tst_df.id_code.str.startswith(cell_type)].copy()\n",
    "        print(f'Number of test records for this type: {len(ct_df)}')\n",
    "        tst_ds = TwoSiteImages(\n",
    "            ds1=AugmentedImages(ds=RxRxImages(ct_df, ROOT, site=1, train=False), tr=composer([\n",
    "                PixelStatsNorm(stats, channels_first=False)\n",
    "            ], resize=sz, rescale=False)),\n",
    "            ds2=AugmentedImages(ds=RxRxImages(ct_df, ROOT, site=2, train=False), tr=composer([\n",
    "                PixelStatsNorm(stats, channels_first=False)\n",
    "            ], resize=sz, rescale=False))\n",
    "        )\n",
    "        test_dl = new_loader(tst_ds, shuffle=False, bs=64)\n",
    "        for batch in tqdm(test_dl):\n",
    "            s1 = batch['site1']['features']\n",
    "            s2 = batch['site2']['features']\n",
    "            if s1.shape[0] == 1:\n",
    "                print('Warning! Batch size 1, duplicating to deal with BN')\n",
    "                s1 = torch.cat([s1, s1])\n",
    "                s2 = torch.cat([s2, s2])\n",
    "                out = model(s1.to(device), s2.to(device))\n",
    "                out = out[0].unsqueeze(0)\n",
    "            else:\n",
    "                out = model(s1.to(device), s2.to(device))\n",
    "            y_prob = out.softmax(dim=-1).cpu().numpy()\n",
    "            y_pred = y_prob.argmax(axis=-1)\n",
    "            probs.update(dict(zip(batch['site1']['id_code'], y_prob)))\n",
    "            preds.update(dict(zip(batch['site1']['id_code'], y_pred)))"
   ]
  },
  {
   "cell_type": "code",
   "execution_count": 35,
   "metadata": {},
   "outputs": [
    {
     "data": {
      "text/html": [
       "<div>\n",
       "<style scoped>\n",
       "    .dataframe tbody tr th:only-of-type {\n",
       "        vertical-align: middle;\n",
       "    }\n",
       "\n",
       "    .dataframe tbody tr th {\n",
       "        vertical-align: top;\n",
       "    }\n",
       "\n",
       "    .dataframe thead th {\n",
       "        text-align: right;\n",
       "    }\n",
       "</style>\n",
       "<table border=\"1\" class=\"dataframe\">\n",
       "  <thead>\n",
       "    <tr style=\"text-align: right;\">\n",
       "      <th></th>\n",
       "      <th>id_code</th>\n",
       "      <th>sirna</th>\n",
       "    </tr>\n",
       "  </thead>\n",
       "  <tbody>\n",
       "    <tr>\n",
       "      <th>0</th>\n",
       "      <td>HEPG2-08_1_B03</td>\n",
       "      <td>855</td>\n",
       "    </tr>\n",
       "    <tr>\n",
       "      <th>1</th>\n",
       "      <td>HEPG2-08_1_B04</td>\n",
       "      <td>7</td>\n",
       "    </tr>\n",
       "    <tr>\n",
       "      <th>2</th>\n",
       "      <td>HEPG2-08_1_B05</td>\n",
       "      <td>836</td>\n",
       "    </tr>\n",
       "    <tr>\n",
       "      <th>3</th>\n",
       "      <td>HEPG2-08_1_B06</td>\n",
       "      <td>249</td>\n",
       "    </tr>\n",
       "    <tr>\n",
       "      <th>4</th>\n",
       "      <td>HEPG2-08_1_B07</td>\n",
       "      <td>585</td>\n",
       "    </tr>\n",
       "  </tbody>\n",
       "</table>\n",
       "</div>"
      ],
      "text/plain": [
       "          id_code  sirna\n",
       "0  HEPG2-08_1_B03    855\n",
       "1  HEPG2-08_1_B04      7\n",
       "2  HEPG2-08_1_B05    836\n",
       "3  HEPG2-08_1_B06    249\n",
       "4  HEPG2-08_1_B07    585"
      ]
     },
     "execution_count": 35,
     "metadata": {},
     "output_type": "execute_result"
    }
   ],
   "source": [
    "preds_df = pd.DataFrame([\n",
    "    {'id_code': id_code, 'sirna': sirna} \n",
    "    for id_code, sirna in preds.items()])\n",
    "preds_df.head(5)"
   ]
  },
  {
   "cell_type": "code",
   "execution_count": 36,
   "metadata": {},
   "outputs": [],
   "source": [
    "preds_df.to_csv('cell_typed.csv', index=False)"
   ]
  },
  {
   "cell_type": "markdown",
   "metadata": {},
   "source": [
    "### Leak"
   ]
  },
  {
   "cell_type": "code",
   "execution_count": 37,
   "metadata": {},
   "outputs": [],
   "source": [
    "trn_csv = pd.read_csv(ROOT/'train.csv')\n",
    "tst_csv = pd.read_csv(ROOT/'test.csv')\n",
    "\n",
    "plate_groups = np.zeros((1108,4), int)\n",
    "for sirna in range(1108):\n",
    "    grp = trn_csv.loc[trn_csv.sirna==sirna,:].plate.value_counts().index.values\n",
    "    assert len(grp) == 3\n",
    "    plate_groups[sirna,0:3] = grp\n",
    "    plate_groups[sirna,3] = 10 - grp.sum()\n",
    "\n",
    "subfile = 'cell_typed'\n",
    "\n",
    "sub = pd.read_csv(f'{subfile}.csv')\n",
    "\n",
    "all_test_exp = tst_csv.experiment.unique()\n",
    "\n",
    "group_plate_probs = np.zeros((len(all_test_exp),4))\n",
    "\n",
    "for idx in range(len(all_test_exp)):\n",
    "    preds = sub.loc[tst_csv.experiment == all_test_exp[idx],'sirna'].values\n",
    "    pp_mult = np.zeros((len(preds),1108))\n",
    "    pp_mult[range(len(preds)),preds] = 1\n",
    "    \n",
    "    sub_test = tst_csv.loc[tst_csv.experiment == all_test_exp[idx],:]\n",
    "    assert len(pp_mult) == len(sub_test)\n",
    "    \n",
    "    for j in range(4):\n",
    "        mask = np.repeat(plate_groups[np.newaxis, :, j], len(pp_mult), axis=0) == \\\n",
    "               np.repeat(sub_test.plate.values[:, np.newaxis], 1108, axis=1)\n",
    "        \n",
    "        group_plate_probs[idx,j] = np.array(pp_mult)[mask].sum()/len(pp_mult)"
   ]
  },
  {
   "cell_type": "code",
   "execution_count": 38,
   "metadata": {},
   "outputs": [
    {
     "data": {
      "text/html": [
       "<div>\n",
       "<style scoped>\n",
       "    .dataframe tbody tr th:only-of-type {\n",
       "        vertical-align: middle;\n",
       "    }\n",
       "\n",
       "    .dataframe tbody tr th {\n",
       "        vertical-align: top;\n",
       "    }\n",
       "\n",
       "    .dataframe thead th {\n",
       "        text-align: right;\n",
       "    }\n",
       "</style>\n",
       "<table border=\"1\" class=\"dataframe\">\n",
       "  <thead>\n",
       "    <tr style=\"text-align: right;\">\n",
       "      <th></th>\n",
       "      <th>0</th>\n",
       "      <th>1</th>\n",
       "      <th>2</th>\n",
       "      <th>3</th>\n",
       "    </tr>\n",
       "  </thead>\n",
       "  <tbody>\n",
       "    <tr>\n",
       "      <th>HEPG2-08</th>\n",
       "      <td>0.130081</td>\n",
       "      <td>0.094851</td>\n",
       "      <td>0.132791</td>\n",
       "      <td>0.642276</td>\n",
       "    </tr>\n",
       "    <tr>\n",
       "      <th>HEPG2-09</th>\n",
       "      <td>0.158845</td>\n",
       "      <td>0.499097</td>\n",
       "      <td>0.177798</td>\n",
       "      <td>0.164260</td>\n",
       "    </tr>\n",
       "    <tr>\n",
       "      <th>HEPG2-10</th>\n",
       "      <td>0.710289</td>\n",
       "      <td>0.096570</td>\n",
       "      <td>0.104693</td>\n",
       "      <td>0.088448</td>\n",
       "    </tr>\n",
       "    <tr>\n",
       "      <th>HEPG2-11</th>\n",
       "      <td>0.758590</td>\n",
       "      <td>0.076854</td>\n",
       "      <td>0.085895</td>\n",
       "      <td>0.078662</td>\n",
       "    </tr>\n",
       "    <tr>\n",
       "      <th>HUVEC-17</th>\n",
       "      <td>0.777978</td>\n",
       "      <td>0.072202</td>\n",
       "      <td>0.069495</td>\n",
       "      <td>0.080325</td>\n",
       "    </tr>\n",
       "    <tr>\n",
       "      <th>HUVEC-18</th>\n",
       "      <td>0.667570</td>\n",
       "      <td>0.122855</td>\n",
       "      <td>0.102078</td>\n",
       "      <td>0.107498</td>\n",
       "    </tr>\n",
       "    <tr>\n",
       "      <th>HUVEC-19</th>\n",
       "      <td>0.117329</td>\n",
       "      <td>0.091155</td>\n",
       "      <td>0.675090</td>\n",
       "      <td>0.116426</td>\n",
       "    </tr>\n",
       "    <tr>\n",
       "      <th>HUVEC-20</th>\n",
       "      <td>0.032491</td>\n",
       "      <td>0.030686</td>\n",
       "      <td>0.905235</td>\n",
       "      <td>0.031588</td>\n",
       "    </tr>\n",
       "    <tr>\n",
       "      <th>HUVEC-21</th>\n",
       "      <td>0.123646</td>\n",
       "      <td>0.109206</td>\n",
       "      <td>0.101986</td>\n",
       "      <td>0.665162</td>\n",
       "    </tr>\n",
       "    <tr>\n",
       "      <th>HUVEC-22</th>\n",
       "      <td>0.793321</td>\n",
       "      <td>0.064982</td>\n",
       "      <td>0.078520</td>\n",
       "      <td>0.063177</td>\n",
       "    </tr>\n",
       "    <tr>\n",
       "      <th>HUVEC-23</th>\n",
       "      <td>0.759782</td>\n",
       "      <td>0.071884</td>\n",
       "      <td>0.087352</td>\n",
       "      <td>0.080983</td>\n",
       "    </tr>\n",
       "    <tr>\n",
       "      <th>HUVEC-24</th>\n",
       "      <td>0.077273</td>\n",
       "      <td>0.086364</td>\n",
       "      <td>0.070000</td>\n",
       "      <td>0.766364</td>\n",
       "    </tr>\n",
       "    <tr>\n",
       "      <th>RPE-08</th>\n",
       "      <td>0.139892</td>\n",
       "      <td>0.575812</td>\n",
       "      <td>0.135379</td>\n",
       "      <td>0.148917</td>\n",
       "    </tr>\n",
       "    <tr>\n",
       "      <th>RPE-09</th>\n",
       "      <td>0.700994</td>\n",
       "      <td>0.112014</td>\n",
       "      <td>0.087624</td>\n",
       "      <td>0.099368</td>\n",
       "    </tr>\n",
       "    <tr>\n",
       "      <th>RPE-10</th>\n",
       "      <td>0.673285</td>\n",
       "      <td>0.101083</td>\n",
       "      <td>0.109206</td>\n",
       "      <td>0.116426</td>\n",
       "    </tr>\n",
       "    <tr>\n",
       "      <th>RPE-11</th>\n",
       "      <td>0.717550</td>\n",
       "      <td>0.066728</td>\n",
       "      <td>0.127971</td>\n",
       "      <td>0.087751</td>\n",
       "    </tr>\n",
       "    <tr>\n",
       "      <th>U2OS-04</th>\n",
       "      <td>0.246390</td>\n",
       "      <td>0.243682</td>\n",
       "      <td>0.294224</td>\n",
       "      <td>0.215704</td>\n",
       "    </tr>\n",
       "    <tr>\n",
       "      <th>U2OS-05</th>\n",
       "      <td>0.173200</td>\n",
       "      <td>0.216044</td>\n",
       "      <td>0.178669</td>\n",
       "      <td>0.432088</td>\n",
       "    </tr>\n",
       "  </tbody>\n",
       "</table>\n",
       "</div>"
      ],
      "text/plain": [
       "                 0         1         2         3\n",
       "HEPG2-08  0.130081  0.094851  0.132791  0.642276\n",
       "HEPG2-09  0.158845  0.499097  0.177798  0.164260\n",
       "HEPG2-10  0.710289  0.096570  0.104693  0.088448\n",
       "HEPG2-11  0.758590  0.076854  0.085895  0.078662\n",
       "HUVEC-17  0.777978  0.072202  0.069495  0.080325\n",
       "HUVEC-18  0.667570  0.122855  0.102078  0.107498\n",
       "HUVEC-19  0.117329  0.091155  0.675090  0.116426\n",
       "HUVEC-20  0.032491  0.030686  0.905235  0.031588\n",
       "HUVEC-21  0.123646  0.109206  0.101986  0.665162\n",
       "HUVEC-22  0.793321  0.064982  0.078520  0.063177\n",
       "HUVEC-23  0.759782  0.071884  0.087352  0.080983\n",
       "HUVEC-24  0.077273  0.086364  0.070000  0.766364\n",
       "RPE-08    0.139892  0.575812  0.135379  0.148917\n",
       "RPE-09    0.700994  0.112014  0.087624  0.099368\n",
       "RPE-10    0.673285  0.101083  0.109206  0.116426\n",
       "RPE-11    0.717550  0.066728  0.127971  0.087751\n",
       "U2OS-04   0.246390  0.243682  0.294224  0.215704\n",
       "U2OS-05   0.173200  0.216044  0.178669  0.432088"
      ]
     },
     "execution_count": 38,
     "metadata": {},
     "output_type": "execute_result"
    }
   ],
   "source": [
    "pd.DataFrame(group_plate_probs, index=all_test_exp)"
   ]
  },
  {
   "cell_type": "code",
   "execution_count": 39,
   "metadata": {},
   "outputs": [
    {
     "name": "stdout",
     "output_type": "stream",
     "text": [
      "[3 1 0 0 0 0 2 2 3 0 0 3 1 0 0 0 2 3]\n"
     ]
    }
   ],
   "source": [
    "exp_to_group = group_plate_probs.argmax(1)\n",
    "print(exp_to_group)"
   ]
  },
  {
   "cell_type": "code",
   "execution_count": 49,
   "metadata": {},
   "outputs": [],
   "source": [
    "stacked = np.row_stack(list(probs.values()))"
   ]
  },
  {
   "cell_type": "code",
   "execution_count": 50,
   "metadata": {},
   "outputs": [
    {
     "data": {
      "text/plain": [
       "(19897, 1108)"
      ]
     },
     "execution_count": 50,
     "metadata": {},
     "output_type": "execute_result"
    }
   ],
   "source": [
    "stacked.shape"
   ]
  },
  {
   "cell_type": "code",
   "execution_count": 51,
   "metadata": {},
   "outputs": [],
   "source": [
    "def select_plate_group(pp_mult, idx):\n",
    "    sub_test = tst_csv.loc[tst_csv.experiment == all_test_exp[idx],:]\n",
    "    assert len(pp_mult) == len(sub_test)\n",
    "    mask = np.repeat(plate_groups[np.newaxis, :, exp_to_group[idx]], len(pp_mult), axis=0) != \\\n",
    "           np.repeat(sub_test.plate.values[:, np.newaxis], 1108, axis=1)\n",
    "    pp_mult[mask] = 0\n",
    "    return pp_mult"
   ]
  },
  {
   "cell_type": "code",
   "execution_count": 52,
   "metadata": {},
   "outputs": [],
   "source": [
    "sub = sub.set_index('id_code')"
   ]
  },
  {
   "cell_type": "code",
   "execution_count": 53,
   "metadata": {},
   "outputs": [],
   "source": [
    "for idx in range(len(all_test_exp)):\n",
    "    indexes = tst_csv.experiment == all_test_exp[idx]\n",
    "    preds = stacked[indexes, :].copy()\n",
    "    preds = select_plate_group(preds, idx)\n",
    "    sub.loc[tst_csv.id_code[indexes], 'sirna'] = preds.argmax(1)"
   ]
  },
  {
   "cell_type": "code",
   "execution_count": 54,
   "metadata": {},
   "outputs": [],
   "source": [
    "sub = sub.reset_index()"
   ]
  },
  {
   "cell_type": "code",
   "execution_count": 55,
   "metadata": {},
   "outputs": [
    {
     "data": {
      "text/plain": [
       "0.667487560938835"
      ]
     },
     "execution_count": 55,
     "metadata": {},
     "output_type": "execute_result"
    }
   ],
   "source": [
    "(sub.sirna == pd.read_csv(f'{subfile}.csv').sirna).mean()"
   ]
  },
  {
   "cell_type": "code",
   "execution_count": 56,
   "metadata": {},
   "outputs": [
    {
     "data": {
      "text/html": [
       "<a href='cell_typed_leak.csv' target='_blank'>cell_typed_leak.csv</a><br>"
      ],
      "text/plain": [
       "/home/ck/code/tasks/protein/cell_typed_leak.csv"
      ]
     },
     "execution_count": 56,
     "metadata": {},
     "output_type": "execute_result"
    }
   ],
   "source": [
    "from IPython.display import FileLink\n",
    "sub.to_csv(f'{subfile}_leak.csv', index=False, columns=['id_code', 'sirna'])\n",
    "FileLink(f'{subfile}_leak.csv')"
   ]
  },
  {
   "cell_type": "markdown",
   "metadata": {},
   "source": [
    "### Single Model"
   ]
  },
  {
   "cell_type": "code",
   "execution_count": null,
   "metadata": {},
   "outputs": [],
   "source": [
    "device = torch.device('cuda:0')\n",
    "model = DenseNet_TwoSites('densenet121')\n",
    "model = model.to(device)\n",
    "state = torch.load('densenet121_15_cw/train.14.pth', map_location=lambda loc, storage: loc)\n",
    "model.load_state_dict(state)\n",
    "freeze_all(model)\n",
    "_ = model.eval()"
   ]
  },
  {
   "cell_type": "code",
   "execution_count": null,
   "metadata": {},
   "outputs": [],
   "source": [
    "with torch.no_grad():\n",
    "    test_dl = new_loader(tst_ds, shuffle=False, bs=64)\n",
    "    preds = {}\n",
    "    for batch in tqdm(test_dl):\n",
    "        s1 = batch['site1']['features']\n",
    "        s2 = batch['site2']['features']\n",
    "        out = model(s1.to(device), s2.to(device))\n",
    "        y_hat = out.argmax(dim=-1).cpu().numpy()\n",
    "        preds.update(dict(zip(batch['site1']['id_code'], y_hat.astype(int))))"
   ]
  },
  {
   "cell_type": "code",
   "execution_count": null,
   "metadata": {},
   "outputs": [],
   "source": [
    "preds_df = pd.DataFrame([\n",
    "    {'id_code': id_code, 'sirna': sirna} \n",
    "    for id_code, sirna in preds.items()])\n",
    "preds_df.head(5)"
   ]
  },
  {
   "cell_type": "code",
   "execution_count": null,
   "metadata": {},
   "outputs": [],
   "source": [
    "len(preds_df)"
   ]
  },
  {
   "cell_type": "code",
   "execution_count": null,
   "metadata": {},
   "outputs": [],
   "source": [
    "filename = 'densenet121_two_way_512.csv'\n",
    "preds_df.to_csv(filename, index=False, columns=['id_code', 'sirna'])\n",
    "from IPython.display import FileLink\n",
    "FileLink(filename)"
   ]
  },
  {
   "cell_type": "code",
   "execution_count": null,
   "metadata": {},
   "outputs": [],
   "source": []
  }
 ],
 "metadata": {
  "kernelspec": {
   "display_name": "fastai (cuda 10)",
   "language": "python",
   "name": "fastai"
  },
  "language_info": {
   "codemirror_mode": {
    "name": "ipython",
    "version": 3
   },
   "file_extension": ".py",
   "mimetype": "text/x-python",
   "name": "python",
   "nbconvert_exporter": "python",
   "pygments_lexer": "ipython3",
   "version": "3.7.3"
  },
  "toc": {
   "base_numbering": 1,
   "nav_menu": {},
   "number_sections": true,
   "sideBar": true,
   "skip_h1_title": false,
   "title_cell": "Table of Contents",
   "title_sidebar": "Contents",
   "toc_cell": false,
   "toc_position": {},
   "toc_section_display": true,
   "toc_window_display": false
  }
 },
 "nbformat": 4,
 "nbformat_minor": 2
}
